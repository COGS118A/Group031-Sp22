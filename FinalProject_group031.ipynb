{
 "cells": [
  {
   "cell_type": "markdown",
   "metadata": {
    "id": "7AemvBFtk0_R"
   },
   "source": [
    "# COGS 118A - Final Project"
   ]
  },
  {
   "cell_type": "markdown",
   "metadata": {
    "id": "sk0NeWWhk0_z"
   },
   "source": [
    "# Image Classification of ASL Hand Gestures\n",
    "\n",
    "## Group members\n",
    "\n",
    "- Rahul Ravi\n",
    "- Rachel Doron\n",
    "- Yohan Kim\n",
    "- Brian Ripley\n",
    "- Tianze Zhang"
   ]
  },
  {
   "cell_type": "markdown",
   "metadata": {
    "id": "o3dK6mxwk0_2"
   },
   "source": [
    "# Abstract \n",
    "\n",
    "Our goal is to accurately classify hand signs from American Sign Language (ASL) alphabet. We used the Sign Language MNIST dataset which consists of 784 total pixels per sample which represent a single 28x28 greyscaled pixel image of ASL hand gestures. The train set includes 27,455 cases and the testing set includes 7172 cases. We implemented an SVM model and tried different combinations of hyperparameters using GridSearchCV. We also used Convolutional Neural Networks (CNN) to classify the ASL hand gestures. We manipulated the number of layers and filters in our CNN to find an optimal model. This has potential application to help faciliate better communication between people who are deaf/hard of hearing and people who do not know ASL."
   ]
  },
  {
   "cell_type": "markdown",
   "metadata": {
    "id": "PpcBWD_1k0_5"
   },
   "source": [
    "# Background\n",
    "\n",
    "American Sign Language is expressed with hand signs. It is the primary language in the United States for people who are hard of hearing or deaf. In the United States, there are around 10 million people who are hard of hearing and around 1 million people who are functionally deaf<sup><a href=\"https://pubmed.ncbi.nlm.nih.gov/16177267/\">[1]</a></sup>. Creating a machine learning algorithm that can recognize ASL hand signs can help these people. Some prior work that has occurred with American Sign Language recognition includes an implementation of an ASL translator on a web application based on a convolutional neural network classifier<sup><a href=\"http://cs231n.stanford.edu/reports/2016/pdfs/214_Report.pdf\">[2]</a></sup>. Due to a lack of variation in their dataset they were unable to reproduce the validation accuracies they observed during training when they were testing. They hypothesize that with a more robust dataset, their models would be able to generalize more accurately. Creating a machine learning algorithm that can accurately recognize American Sign Language signs can allow people who use ASL to communicate with people who do not know sign language. This will lead them to be able to communicate with a wider range of people that they were not able to do so previously. \n",
    "\n",
    "[1]: https://pubmed.ncbi.nlm.nih.gov/16177267/\n",
    "[2]: http://cs231n.stanford.edu/reports/2016/pdfs/214_Report.pdf"
   ]
  },
  {
   "cell_type": "markdown",
   "metadata": {
    "id": "5kqJGukSk0_8"
   },
   "source": [
    "# Problem Statement\n",
    "\n",
    "Given images of ASL hand signs, we want classify them with optimal accuracy. To achieve this we will be training our models on the 24 (excluding J and Z because they require motion) different characters of the ASL alphabet. We are going to use 27,455 of real world hand signs of the ASL alphabet in the form of images that we will generalize to a 28 by 28 pixel image. We want to then deploy models to learn on this data and predict the letter of a given hand sign."
   ]
  },
  {
   "cell_type": "code",
   "execution_count": null,
   "metadata": {
    "id": "-OjL8pask0_-",
    "outputId": "6fa47c21-75b0-42a1-ace1-ea9d01f30628"
   },
   "outputs": [
    {
     "data": {
      "text/html": [
       "<img src=\"images/american_sign_language.png\" width=\"600\" height=\"600\"/>"
      ],
      "text/plain": [
       "<IPython.core.display.Image object>"
      ]
     },
     "execution_count": 4,
     "metadata": {},
     "output_type": "execute_result"
    }
   ],
   "source": [
    "# import image module\n",
    "from IPython.display import Image\n",
    "  \n",
    "# get the image\n",
    "Image(url=\"images/american_sign_language.png\", width=600, height=600)"
   ]
  },
  {
   "cell_type": "markdown",
   "metadata": {
    "id": "0M2XAeGrk1AK"
   },
   "source": [
    "# Data\n",
    "\n",
    "We are going to be using Sign Language MNIST dataset, located at https://www.kaggle.com/datasets/datamunge/sign-language-mnist. This dataset comprises of 34000 oberservations of various hand signs of the ASL that look this:\n"
   ]
  },
  {
   "cell_type": "code",
   "execution_count": null,
   "metadata": {
    "id": "rxpap_cGk1AN",
    "outputId": "ae313c8f-7f48-49d2-b09a-965566b385e5"
   },
   "outputs": [
    {
     "data": {
      "text/html": [
       "<img src=\"images/asl_color.png\" width=\"600\" height=\"600\"/>"
      ],
      "text/plain": [
       "<IPython.core.display.Image object>"
      ]
     },
     "execution_count": 5,
     "metadata": {},
     "output_type": "execute_result"
    }
   ],
   "source": [
    "Image(url=\"images/asl_color.png\", width=600, height=600)"
   ]
  },
  {
   "cell_type": "markdown",
   "metadata": {
    "id": "uFJ5YQWDk1AS"
   },
   "source": [
    "The data distributor has preprocessed the data, yielding in 784 gray-scaled pixels to analyze. Grayscale images may look like the following:"
   ]
  },
  {
   "cell_type": "code",
   "execution_count": null,
   "metadata": {
    "id": "s0IqIRKek1AV",
    "outputId": "500dd4e6-fb25-4195-c2e3-a8468551ecdb"
   },
   "outputs": [
    {
     "data": {
      "text/html": [
       "<img src=\"images/asl_gray.png\" width=\"600\" height=\"600\"/>"
      ],
      "text/plain": [
       "<IPython.core.display.Image object>"
      ]
     },
     "execution_count": 7,
     "metadata": {},
     "output_type": "execute_result"
    }
   ],
   "source": [
    "Image(url=\"images/asl_gray.png\", width=600, height=600)"
   ]
  },
  {
   "cell_type": "markdown",
   "metadata": {
    "id": "3GIL1TGEk1AY"
   },
   "source": [
    "The dataset consists of 24 classes of letters (excluding J and Z which require motion). Each training and test case represents a label (0-25) as a one-to-one map for each alphabetic letter A-Z (and no cases for 9=J or 25=Z). The training data includes 27,455 images and the test data includes 7172 images. "
   ]
  },
  {
   "cell_type": "markdown",
   "metadata": {
    "id": "iHh-vCUPk1Ab"
   },
   "source": [
    "First we checked if there are any corrupted values in our dataset. "
   ]
  },
  {
   "cell_type": "code",
   "execution_count": null,
   "metadata": {
    "id": "NB52kYick1Ad"
   },
   "outputs": [],
   "source": [
    "import pandas as pd\n",
    "import matplotlib.pyplot as plt\n",
    "import seaborn as sns\n",
    "\n",
    "data = pd.read_csv('sign_mnist_train.csv')"
   ]
  },
  {
   "cell_type": "code",
   "execution_count": null,
   "metadata": {
    "id": "PCFKUrbck1Ag",
    "outputId": "f15c7e57-0fac-42c0-a091-7f3fae4ec019"
   },
   "outputs": [
    {
     "data": {
      "text/plain": [
       "0"
      ]
     },
     "execution_count": 4,
     "metadata": {},
     "output_type": "execute_result"
    }
   ],
   "source": [
    "data.isna().any().sum()"
   ]
  },
  {
   "cell_type": "code",
   "execution_count": null,
   "metadata": {
    "id": "0PAcaGwsk1Ak",
    "outputId": "99faa592-1b6b-42f2-818c-033b2f400520"
   },
   "outputs": [
    {
     "data": {
      "text/plain": [
       "array([dtype('int64')], dtype=object)"
      ]
     },
     "execution_count": 5,
     "metadata": {},
     "output_type": "execute_result"
    }
   ],
   "source": [
    "data.dtypes.unique()"
   ]
  },
  {
   "cell_type": "code",
   "execution_count": null,
   "metadata": {
    "id": "UHjMVW51k1An"
   },
   "outputs": [],
   "source": [
    "column_val = 'pixel{value}'\n",
    "for i in range(1, 785):\n",
    "    if (data[column_val.format(value=i)] < 0).any() or (data[column_val.format(value=i)] > 255).any():\n",
    "        print(\"Unexpected value encountered in pixel column {value}\".format(value=i))"
   ]
  },
  {
   "cell_type": "markdown",
   "metadata": {
    "id": "bJHwofzIk1Aq"
   },
   "source": [
    "As we can see from these lines above, our dataset looks clean and we do not see any unexpected values from our dataset."
   ]
  },
  {
   "cell_type": "code",
   "execution_count": null,
   "metadata": {
    "id": "wSSFOpzmk1As",
    "outputId": "bb881795-0999-4dbb-c20c-8fd0a3c3c2de"
   },
   "outputs": [
    {
     "data": {
      "image/png": "[encoded data removed]",
      "text/plain": [
       "<Figure size 576x432 with 1 Axes>"
      ]
     },
     "metadata": {
      "needs_background": "light"
     },
     "output_type": "display_data"
    }
   ],
   "source": [
    "plt.figure(figsize = (8,6))\n",
    "sns.countplot(x = data['label'], color = 'b')\n",
    "plt.title('Target Classes')\n",
    "plt.show()"
   ]
  },
  {
   "cell_type": "markdown",
   "metadata": {
    "id": "4_XK2TBjk1Av"
   },
   "source": [
    "As seen above our classes are well balanced. "
   ]
  },
  {
   "cell_type": "markdown",
   "metadata": {
    "id": "qe3bf13Gk1Aw"
   },
   "source": [
    "# Proposed Solution\n",
    "\n",
    "We will normalize the input data by dividing the pixel values by 255. \n",
    "\n",
    "We will be implementing Support Vector Machines (SVM) and Convolutional Neural Networks (CNN) to weigh the pros and cons of using such models for image classification. To begin, we will be using the scikit learn implementation of Support Vector Machine (SVM). Using sklearn GridSearch, we will optimize the parameters for these models. We will also build a Convolutional Neural Network (CNN) using PyTorch and TensorFLow. We will create multiple models and manipulate the number of layers and filters and will be comparing the accuracies along the way. \n",
    "\n",
    "SVM constructs a set of hyperplanes in a high dimensional space to separate the classes. Due to the complexity of image classification, we expect deep learning to result in the highest accuracy. We will experiment with the number of Conv2D and Dense layers and use Dropout for regualarization."
   ]
  },
  {
   "cell_type": "markdown",
   "metadata": {
    "id": "H5UltVbmk1A0"
   },
   "source": [
    "# Evaluation Metrics\n",
    "\n",
    "For the evaluation metrics, we plan to use the multi-classes error measures. Instead of having positive/negative as our label values, we plan to have each sign alphabet (all 24 of them), then use suitable variables to calculate specificity and recall for each alphabet. Using this method, we will be able to achieve various insights such as how similar alphabet sign letters are affecting its accuracy/precision of the model, and how different model complexities affect our accuracy/precision of the model."
   ]
  },
  {
   "cell_type": "markdown",
   "metadata": {
    "id": "qMMyNOTQk1A3"
   },
   "source": [
    "For CNN, we will be using accuracy as the evaluation metric. As shown above, we have a balanced classes so accuracy was a suitable metric. Had we more time, we would have also liked to consider F1 score to gauge both precision and recall."
   ]
  },
  {
   "cell_type": "markdown",
   "metadata": {
    "id": "cjfimXuBk1A4"
   },
   "source": [
    "# Results\n",
    "\n",
    "You may have done tons of work on this. Not all of it belongs here. \n",
    "\n",
    "Reports should have a __narrative__. Once you've looked through all your results over the quarter, decide on one main point and 2-4 secondary points you want us to understand. Include the detailed code and analysis results of those points only; you should spend more time/code/plots on your main point than the others.\n",
    "\n",
    "If you went down any blind alleys that you later decided to not pursue, please don't abuse the TAs time by throwing in 81 lines of code and 4 plots related to something you actually abandoned.  Consider deleting things that are not important to your narrative.  If its slightly relevant to the narrative or you just want us to know you tried something, you could keep it in by summarizing the result in this report in a sentence or two, moving the actual analysis to another file in your repo, and providing us a link to that file.\n",
    "\n",
    "### Selecting Algorithms\n",
    "\n",
    "We began by listing all suitable algorithms that were suitable for our classification problem. We narrowed this down to a list of four: K-nearest Neighbors (KNN), Support Vector Machine (SVM), Decision Tree and Convolutional Neural Network (CNN). From this list, we decided to focus on only SVM and CNN. KNN may not be complex enough for our image classification problem and Decision Trees are prone to overfitting. SVM was deemed suitable as we would like to set decision boundaries that maximize the margins between the classes. CNNs are capable of learning complex patterns and work well for the complicated task of image classification\n",
    "\n",
    "### CNN Baseline Model\n",
    "\n",
    "We began working with CNN by creating a baseline model of Conv2D, MaxPooling and Dense layers. At this point, we were not paying too much attention to the makeup or number of layers. We simply wanted to gauge the accuracy of a simple neural network before proceeding to fine tune.\n",
    "\n",
    "### CNN Overfitting\n",
    "\n",
    "Our baseline model appeared to be slightly overfitting as it achieved 100% training accuracy. However, the testing accuracy was still fairly good at around 92-93%. In attempt of improving the testing accuracy, we researched methods to reduce overfitting and bring the training and testing accuracy closer together. Firstly, we attempted l2 regularization on the weights at various layers. Depending on the learning rate parameter used, the results varied. However, the addition of l2 regularization made training __much__ slower. Instead of the 10 epochs before, training now involved 100+ epochs, and the accuracy learning curves were still increasing when training was complete. We decided to attempt a more efficient strategy to treat the overfitting. Weight initialization was another idea. This resulted in overfitting once again. Finally, we attempted the addition of Dropout layers. This resulted in a reduction of overfitting and maximal testing accuracy of all our solutions. Dropout layers render a proportion of random neurons dead. We were able to increase testing accuracy to 94-95% while reducing training accuracy to 97-98%.\n",
    "\n",
    "### Subsection 4\n",
    "\n",
    "Perhaps some exploration of the model selection (hyper-parameters) or algorithm selection task. Validation curves, plots showing the variability of perfromance across folds of the cross-validation, etc. If you're doing one, the outcome of the null hypothesis test or parsimony principle check to show how you are selecting the best model.\n",
    "\n",
    "### Subsection 5 \n",
    "\n",
    "Maybe you do model selection again, but using a different kind of metric than before?\n",
    "\n"
   ]
  },
  {
   "cell_type": "markdown",
   "metadata": {
    "id": "2__U30ELk1A7"
   },
   "source": [
    "## Results - SVM \n",
    "\n",
    "Our results and interpretation of results can be found in another notebook called \"SVM Model.ipynb\". To summarize, the main finding of the SVM model was that our dataset is too normalized in a sense that we can reduce the dimensionality of the dataset to less than 10% and it still outperforms the validation test. Very small regularization results a overfit in the dataset. However, since data was too normalized, when it sees some ambiguous data, it tend to make mistakes. We also performed data augmentation by performing PCA and HOG to futher analyze."
   ]
  },
  {
   "cell_type": "markdown",
   "metadata": {
    "id": "fKyHk0r9k1A_"
   },
   "source": [
    "# Discussion\n",
    "\n",
    "### Interpreting the result\n",
    "\n",
    "As we can see form the notebook called \"SVM Model.ipynb\", From the GridSearchCV, we got a validation score of 1.0 for linear and poly kernel, on the other hand rbf kernel shows average score of 0.35. This tells us that our data is too-normalized so that the train dataset's same label dataset are equal to each other. We validated this claim by testing using low-neighbor KNN, and got a result really close to 1. We also tested several different types of gamma value to find optimal gamma value, and came to conclusion to set gamma kernel of 'Scale'. After we augmented the data and tested our hyporthesises using different train and test data, we came to conlcusion thant data was too normalized, which very small regularization results a overfit in the dataset.\n",
    "\n",
    "### Limitations\n",
    "\n",
    "Since our testing set had more variabilty than the training set, we need to increase the range of our training dataset. This can be accomplished through data augmentstion methods to introduce more variability into our training dataset. Given more time, we could increase the scope of our training set and introduce more variability for the models to train on. And as we said above, our data was too normalized, thus limited our results. So more data with wide variability would make our results more accurate. \n",
    "\n",
    "### Ethics & Privacy\n",
    "\n",
    "For our ethical review, we followed the guidelines from \"Data Science Ethics Checklist\" by deon (\"https://deon.drivendata.org/\"), which contains crucial information to consider such as how data is collected, how data is being stored, how to minimize the bias when making analysis. Our dataset is from Kaggle, which is open-source dataset webpage where all users can view/use for their commercial use. Though the author of this dataset does not mention who was recorded or how many people were being involved in this dataset, we can mitigate most of this privacy issue since the dataset only contains pictures of hands, with pixels of 28 x 28 per image. Our dataset link is in our notebook, to have transparency in our project.\n",
    "\n",
    "### Conclusion\n",
    "\n",
    "The best performing CNN model attained a training accuracy of 1.0 and a testing accuracy of 0.93. Our worst perfoming model according to training accuracy acquired a training accuracy of 0.96 and a testing accuracy of 0.94. The low varaibilty in accuracies among the training and testing set suggests that our datasets are similar in variability and that the training set covers a good proportion of the testing set. Furthermore, such high accuracies suggest that the model is overfitting on the training set. And lower testing accuracies with higer testing loss suggestes that our testing set had more variability than the training set."
   ]
  },
  {
   "cell_type": "markdown",
   "metadata": {
    "id": "0-aPjhzDk1BB"
   },
   "source": [
    "# Footnotes\n",
    "<a name=\"deafStats\"></a>1.(#deafStats): Mitchell R. E. (2006). How many deaf people are there in the United States? Estimates from the Survey of Income and Program Participation. Journal of deaf studies and deaf education, 11(1), 112–119. https://pubmed.ncbi.nlm.nih.gov/16177267/<br>\n",
    "<a name=\"ASLpaper\"></a>2.(#ASL): Garcia, B., & Viesca, S. A. (2016). Real-time American sign language recognition with convolutional neural networks. Convolutional Neural Networks for Visual Recognition, 2, 225-232. http://cs231n.stanford.edu/reports/2016/pdfs/214_Report.pdf<br> "
   ]
  },
  {
   "cell_type": "code",
   "execution_count": null,
   "metadata": {
    "id": "btmxv9Jxk1BD"
   },
   "outputs": [],
   "source": []
  }
 ],
 "metadata": {
  "colab": {
   "name": "FinalProject_group031.ipynb",
   "provenance": []
  },
  "interpreter": {
   "hash": "70b8d9a4f79ce26a5c42f30717429203496a780e9421e71e46698b8c787fce83"
  },
  "kernelspec": {
   "display_name": "Python 3 (ipykernel)",
   "language": "python",
   "name": "python3"
  },
  "language_info": {
   "codemirror_mode": {
    "name": "ipython",
    "version": 3
   },
   "file_extension": ".py",
   "mimetype": "text/x-python",
   "name": "python",
   "nbconvert_exporter": "python",
   "pygments_lexer": "ipython3",
   "version": "3.9.7"
  }
 },
 "nbformat": 4,
 "nbformat_minor": 4
}
