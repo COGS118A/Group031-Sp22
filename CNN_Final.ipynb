{
 "cells": [
  {
   "cell_type": "markdown",
   "metadata": {},
   "source": [
    "# Convolutional Neural Networks (CNN)"
   ]
  },
  {
   "cell_type": "markdown",
   "metadata": {},
   "source": [
    "In this notebook, we first run a simple baseline CNN. We notice that the model is slightly overfitting, achieving nearly 100% training accuracy. So, we attempt several implementation to reduce the complexity of the model."
   ]
  },
  {
   "cell_type": "code",
   "execution_count": 1,
   "metadata": {},
   "outputs": [],
   "source": [
    "# Necessary Imports\n",
    "\n",
    "import pandas as pd\n",
    "import numpy as np\n",
    "import tensorflow as tf\n",
    "from tensorflow.keras import layers, models, regularizers\n",
    "import matplotlib.pyplot as plt\n",
    "\n",
    "import warnings\n",
    "warnings.filterwarnings(\"ignore\")"
   ]
  },
  {
   "cell_type": "code",
   "execution_count": 2,
   "metadata": {},
   "outputs": [],
   "source": [
    "# Plotting learning curves\n",
    "def plot_accuracy(model, history):\n",
    "    plt.plot(history.history['accuracy'], label='accuracy')\n",
    "    plt.plot(history.history['val_accuracy'], label = 'val_accuracy')\n",
    "    plt.xlabel('Epoch')\n",
    "    plt.ylabel('Accuracy')\n",
    "    plt.ylim([0.5, 1])\n",
    "    plt.legend(loc='lower right')"
   ]
  },
  {
   "cell_type": "code",
   "execution_count": 3,
   "metadata": {},
   "outputs": [
    {
     "name": "stdout",
     "output_type": "stream",
     "text": [
      "If this is the only message, then all data is good to go!\n"
     ]
    }
   ],
   "source": [
    "train = pd.read_csv('sign_mnist_train.csv')\n",
    "test = pd.read_csv('sign_mnist_test.csv')\n",
    "\n",
    "X_train = train.drop(columns = 'label')\n",
    "X_test = test.drop(columns = 'label')\n",
    "\n",
    "# Check that data is input properly - pixel values in range 0-255\n",
    "column_val = 'pixel{value}'\n",
    "for i in range(1, 785):\n",
    "    if (X_train[column_val.format(value=i)] < 0).any() or (X_train[column_val.format(value=i)] > 255).any():\n",
    "        print(\"Unexpected value encountered in training data pixel column {value}\".format(value=i))\n",
    "    if (X_test[column_val.format(value=i)] < 0).any() or (X_test[column_val.format(value=i)] > 255).any():\n",
    "        print(\"Unexpected value encountered in testing data pixel column {value}\".format(value=i))\n",
    "print(\"If this is the only message, then all data is good to go!\")\n",
    "\n",
    "# Normalize the data\n",
    "X_train /= 255.0\n",
    "X_test /= 255.0\n",
    "\n",
    "# Reshape to be compatible with input layer\n",
    "X_train = X_train.values.reshape(-1,28,28,1)\n",
    "X_test = X_test.values.reshape(-1,28,28,1)\n",
    "\n",
    "# Get target classes\n",
    "y_train = train['label']\n",
    "y_test = test['label']"
   ]
  },
  {
   "cell_type": "markdown",
   "metadata": {},
   "source": [
    "## Model 1: Baseline\n",
    "\n",
    "A baseline model is run to get an idea of the achievable accuracy from a simple neural network, not paying too much attention to the number or makeup of the layers."
   ]
  },
  {
   "cell_type": "code",
   "execution_count": 4,
   "metadata": {},
   "outputs": [
    {
     "name": "stderr",
     "output_type": "stream",
     "text": [
      "2022-06-10 14:58:09.572779: I tensorflow/compiler/jit/xla_cpu_device.cc:41] Not creating XLA devices, tf_xla_enable_xla_devices not set\n",
      "2022-06-10 14:58:09.576986: I tensorflow/core/platform/cpu_feature_guard.cc:142] This TensorFlow binary is optimized with oneAPI Deep Neural Network Library (oneDNN) to use the following CPU instructions in performance-critical operations:  AVX2 FMA\n",
      "To enable them in other operations, rebuild TensorFlow with the appropriate compiler flags.\n"
     ]
    },
    {
     "name": "stdout",
     "output_type": "stream",
     "text": [
      "Model: \"sequential\"\n",
      "_________________________________________________________________\n",
      "Layer (type)                 Output Shape              Param #   \n",
      "=================================================================\n",
      "conv2d (Conv2D)              (None, 26, 26, 32)        320       \n",
      "_________________________________________________________________\n",
      "max_pooling2d (MaxPooling2D) (None, 13, 13, 32)        0         \n",
      "_________________________________________________________________\n",
      "conv2d_1 (Conv2D)            (None, 11, 11, 64)        18496     \n",
      "_________________________________________________________________\n",
      "max_pooling2d_1 (MaxPooling2 (None, 5, 5, 64)          0         \n",
      "_________________________________________________________________\n",
      "conv2d_2 (Conv2D)            (None, 3, 3, 64)          36928     \n",
      "_________________________________________________________________\n",
      "flatten (Flatten)            (None, 576)               0         \n",
      "_________________________________________________________________\n",
      "dense (Dense)                (None, 64)                36928     \n",
      "_________________________________________________________________\n",
      "dense_1 (Dense)              (None, 25)                1625      \n",
      "=================================================================\n",
      "Total params: 94,297\n",
      "Trainable params: 94,297\n",
      "Non-trainable params: 0\n",
      "_________________________________________________________________\n"
     ]
    }
   ],
   "source": [
    "model_1 = models.Sequential()\n",
    "model_1.add(layers.Conv2D(32, (3, 3), activation='relu', input_shape=(28, 28, 1)))\n",
    "model_1.add(layers.MaxPooling2D((2, 2)))\n",
    "model_1.add(layers.Conv2D(64, (3, 3), activation='relu'))\n",
    "model_1.add(layers.MaxPooling2D((2, 2)))\n",
    "model_1.add(layers.Conv2D(64, (3, 3), activation='relu'))\n",
    "model_1.add(layers.Flatten())\n",
    "model_1.add(layers.Dense(64, activation='relu'))\n",
    "model_1.add(layers.Dense(25))\n",
    "model_1.summary()"
   ]
  },
  {
   "cell_type": "code",
   "execution_count": 5,
   "metadata": {},
   "outputs": [
    {
     "name": "stderr",
     "output_type": "stream",
     "text": [
      "2022-06-10 14:58:10.696740: I tensorflow/compiler/mlir/mlir_graph_optimization_pass.cc:116] None of the MLIR optimization passes are enabled (registered 2)\n"
     ]
    },
    {
     "name": "stdout",
     "output_type": "stream",
     "text": [
      "Epoch 1/10\n",
      "858/858 [==============================] - 31s 35ms/step - loss: 1.9495 - accuracy: 0.4128 - val_loss: 0.4128 - val_accuracy: 0.8731\n",
      "Epoch 2/10\n",
      "858/858 [==============================] - 31s 37ms/step - loss: 0.1229 - accuracy: 0.9661 - val_loss: 0.3215 - val_accuracy: 0.9166\n",
      "Epoch 3/10\n",
      "858/858 [==============================] - 28s 33ms/step - loss: 0.0289 - accuracy: 0.9925 - val_loss: 0.3966 - val_accuracy: 0.9070\n",
      "Epoch 4/10\n",
      "858/858 [==============================] - 37s 43ms/step - loss: 0.0089 - accuracy: 0.9978 - val_loss: 0.3511 - val_accuracy: 0.9228\n",
      "Epoch 5/10\n",
      "858/858 [==============================] - 31s 36ms/step - loss: 0.0176 - accuracy: 0.9955 - val_loss: 0.3270 - val_accuracy: 0.9325\n",
      "Epoch 6/10\n",
      "858/858 [==============================] - 29s 34ms/step - loss: 3.3740e-04 - accuracy: 1.0000 - val_loss: 0.3590 - val_accuracy: 0.9279\n",
      "Epoch 7/10\n",
      "858/858 [==============================] - 27s 32ms/step - loss: 1.9330e-04 - accuracy: 1.0000 - val_loss: 0.3640 - val_accuracy: 0.9328\n",
      "Epoch 8/10\n",
      "858/858 [==============================] - 24s 28ms/step - loss: 1.0764e-04 - accuracy: 1.0000 - val_loss: 0.3763 - val_accuracy: 0.9329\n",
      "Epoch 9/10\n",
      "858/858 [==============================] - 26s 31ms/step - loss: 7.8006e-05 - accuracy: 1.0000 - val_loss: 0.3941 - val_accuracy: 0.9324\n",
      "Epoch 10/10\n",
      "858/858 [==============================] - 27s 32ms/step - loss: 4.5801e-05 - accuracy: 1.0000 - val_loss: 0.3958 - val_accuracy: 0.9324\n"
     ]
    }
   ],
   "source": [
    "model_1.compile(optimizer='adam',\n",
    "                loss=tf.keras.losses.SparseCategoricalCrossentropy(from_logits=True), \n",
    "                metrics=['accuracy'])\n",
    "history_1 = model_1.fit(X_train, y_train, epochs=10, validation_data=(X_test, y_test))"
   ]
  },
  {
   "cell_type": "code",
   "execution_count": 6,
   "metadata": {},
   "outputs": [
    {
     "name": "stdout",
     "output_type": "stream",
     "text": [
      "Testing Loss: 0.3957881033420563\n",
      "Testing Accuracy: 0.9323759078979492\n",
      "Training Accuracy: 1.0\n"
     ]
    },
    {
     "data": {
      "image/png": "[encoded data removed]",
      "text/plain": [
       "<Figure size 432x288 with 1 Axes>"
      ]
     },
     "metadata": {
      "needs_background": "light"
     },
     "output_type": "display_data"
    }
   ],
   "source": [
    "test_loss1, test_acc1 = model_1.evaluate(X_test,  y_test, verbose = 0)\n",
    "training_acc1 = history_1.history['accuracy'][-1]\n",
    "print('Testing Loss: {}\\nTesting Accuracy: {}\\nTraining Accuracy: {}'.format(test_loss1, test_acc1, training_acc1))\n",
    "plot_accuracy(model_1, history_1)"
   ]
  },
  {
   "cell_type": "markdown",
   "metadata": {},
   "source": [
    "## Model 2: L2 Regularization\n",
    "\n",
    "L2 regularization is applied to the Convolutional2D layers. \n",
    "\n",
    "It is clear that when applying l2 regularization, training is much slower. Here, a learning rate of 0.005 is used and the training learning curve plateaus at around 20 epochs. When using the default learning rate of 0.01 here, the learning curves are still gradually increasing after 100 epochs. There may be some promise here, but in consideration of time, there are likely more efficient methods. "
   ]
  },
  {
   "cell_type": "code",
   "execution_count": 7,
   "metadata": {},
   "outputs": [
    {
     "name": "stdout",
     "output_type": "stream",
     "text": [
      "Model: \"sequential_1\"\n",
      "_________________________________________________________________\n",
      "Layer (type)                 Output Shape              Param #   \n",
      "=================================================================\n",
      "conv2d_3 (Conv2D)            (None, 26, 26, 32)        320       \n",
      "_________________________________________________________________\n",
      "max_pooling2d_2 (MaxPooling2 (None, 13, 13, 32)        0         \n",
      "_________________________________________________________________\n",
      "conv2d_4 (Conv2D)            (None, 11, 11, 64)        18496     \n",
      "_________________________________________________________________\n",
      "max_pooling2d_3 (MaxPooling2 (None, 5, 5, 64)          0         \n",
      "_________________________________________________________________\n",
      "conv2d_5 (Conv2D)            (None, 3, 3, 64)          36928     \n",
      "_________________________________________________________________\n",
      "max_pooling2d_4 (MaxPooling2 (None, 1, 1, 64)          0         \n",
      "_________________________________________________________________\n",
      "flatten_1 (Flatten)          (None, 64)                0         \n",
      "_________________________________________________________________\n",
      "dense_2 (Dense)              (None, 64)                4160      \n",
      "_________________________________________________________________\n",
      "dense_3 (Dense)              (None, 25)                1625      \n",
      "=================================================================\n",
      "Total params: 61,529\n",
      "Trainable params: 61,529\n",
      "Non-trainable params: 0\n",
      "_________________________________________________________________\n"
     ]
    }
   ],
   "source": [
    "model_2 = models.Sequential()\n",
    "model_2.add(layers.Conv2D(32, (3, 3), activation='relu', input_shape=(28, 28, 1)))\n",
    "model_2.add(layers.MaxPooling2D((2, 2)))\n",
    "model_2.add(layers.Conv2D(64, (3, 3), activation='relu', kernel_regularizer=regularizers.l2(l=0.005)))\n",
    "model_2.add(layers.MaxPooling2D((2, 2)))\n",
    "model_2.add(layers.Conv2D(64, (3, 3), activation='relu', kernel_regularizer=regularizers.l2(l=0.005)))\n",
    "model_2.add(layers.MaxPooling2D((2, 2)))\n",
    "model_2.add(layers.Flatten())\n",
    "model_2.add(layers.Dense(64, activation='relu', kernel_regularizer='l2'))\n",
    "model_2.add(layers.Dense(25, kernel_regularizer='l2'))\n",
    "model_2.summary()"
   ]
  },
  {
   "cell_type": "code",
   "execution_count": 8,
   "metadata": {},
   "outputs": [
    {
     "name": "stdout",
     "output_type": "stream",
     "text": [
      "Epoch 1/100\n",
      "858/858 [==============================] - 26s 29ms/step - loss: 3.5499 - accuracy: 0.0453 - val_loss: 3.2159 - val_accuracy: 0.0229\n",
      "Epoch 2/100\n",
      "858/858 [==============================] - 25s 29ms/step - loss: 3.1934 - accuracy: 0.0461 - val_loss: 3.2022 - val_accuracy: 0.0357\n",
      "Epoch 3/100\n",
      "858/858 [==============================] - 24s 28ms/step - loss: 3.1856 - accuracy: 0.0474 - val_loss: 3.2141 - val_accuracy: 0.0201\n",
      "Epoch 4/100\n",
      "858/858 [==============================] - 29s 33ms/step - loss: 3.1815 - accuracy: 0.0485 - val_loss: 3.2036 - val_accuracy: 0.0301\n",
      "Epoch 5/100\n",
      "858/858 [==============================] - 25s 29ms/step - loss: 3.1773 - accuracy: 0.0524 - val_loss: 3.1878 - val_accuracy: 0.0396\n",
      "Epoch 6/100\n",
      "858/858 [==============================] - 26s 30ms/step - loss: 3.0568 - accuracy: 0.0845 - val_loss: 2.7584 - val_accuracy: 0.1358\n",
      "Epoch 7/100\n",
      "858/858 [==============================] - 26s 30ms/step - loss: 2.4900 - accuracy: 0.2022 - val_loss: 2.3311 - val_accuracy: 0.2712\n",
      "Epoch 8/100\n",
      "858/858 [==============================] - 22s 25ms/step - loss: 2.1058 - accuracy: 0.3338 - val_loss: 2.1737 - val_accuracy: 0.3398\n",
      "Epoch 9/100\n",
      "858/858 [==============================] - 21s 25ms/step - loss: 1.8829 - accuracy: 0.4152 - val_loss: 1.9709 - val_accuracy: 0.4156\n",
      "Epoch 10/100\n",
      "858/858 [==============================] - 23s 27ms/step - loss: 1.6590 - accuracy: 0.5136 - val_loss: 1.9124 - val_accuracy: 0.4564\n",
      "Epoch 11/100\n",
      "858/858 [==============================] - 22s 25ms/step - loss: 1.4375 - accuracy: 0.5989 - val_loss: 1.7493 - val_accuracy: 0.5336\n",
      "Epoch 12/100\n",
      "858/858 [==============================] - 21s 25ms/step - loss: 1.3048 - accuracy: 0.6567 - val_loss: 1.6473 - val_accuracy: 0.5634\n",
      "Epoch 13/100\n",
      "858/858 [==============================] - 22s 25ms/step - loss: 1.1869 - accuracy: 0.6934 - val_loss: 1.6591 - val_accuracy: 0.5494\n",
      "Epoch 14/100\n",
      "858/858 [==============================] - 22s 26ms/step - loss: 1.1310 - accuracy: 0.7142 - val_loss: 1.5837 - val_accuracy: 0.5987\n",
      "Epoch 15/100\n",
      "858/858 [==============================] - 22s 26ms/step - loss: 1.0731 - accuracy: 0.7374 - val_loss: 1.5602 - val_accuracy: 0.61282s - - ETA: 0s\n",
      "Epoch 16/100\n",
      "858/858 [==============================] - 22s 26ms/step - loss: 1.0243 - accuracy: 0.7555 - val_loss: 1.5260 - val_accuracy: 0.6148\n",
      "Epoch 17/100\n",
      "858/858 [==============================] - 22s 25ms/step - loss: 0.9811 - accuracy: 0.7682 - val_loss: 1.5406 - val_accuracy: 0.6173\n",
      "Epoch 18/100\n",
      "858/858 [==============================] - 21s 25ms/step - loss: 0.9502 - accuracy: 0.7802 - val_loss: 1.4691 - val_accuracy: 0.6457\n",
      "Epoch 19/100\n",
      "858/858 [==============================] - 22s 25ms/step - loss: 0.8985 - accuracy: 0.8037 - val_loss: 1.5421 - val_accuracy: 0.6352\n",
      "Epoch 20/100\n",
      "858/858 [==============================] - 22s 25ms/step - loss: 0.8709 - accuracy: 0.8169 - val_loss: 1.6726 - val_accuracy: 0.6188\n",
      "Epoch 21/100\n",
      "858/858 [==============================] - 21s 25ms/step - loss: 0.8275 - accuracy: 0.8346 - val_loss: 1.4676 - val_accuracy: 0.6634\n",
      "Epoch 22/100\n",
      "858/858 [==============================] - 22s 25ms/step - loss: 0.8108 - accuracy: 0.8416 - val_loss: 1.4429 - val_accuracy: 0.6645\n",
      "Epoch 23/100\n",
      "858/858 [==============================] - 22s 25ms/step - loss: 0.7801 - accuracy: 0.8505 - val_loss: 1.4594 - val_accuracy: 0.6715\n",
      "Epoch 24/100\n",
      "858/858 [==============================] - 22s 25ms/step - loss: 0.7607 - accuracy: 0.8550 - val_loss: 1.5410 - val_accuracy: 0.6421\n",
      "Epoch 25/100\n",
      "858/858 [==============================] - 25s 29ms/step - loss: 0.7478 - accuracy: 0.8637 - val_loss: 1.4892 - val_accuracy: 0.6741\n",
      "Epoch 26/100\n",
      "858/858 [==============================] - 24s 29ms/step - loss: 0.7415 - accuracy: 0.8651 - val_loss: 1.5246 - val_accuracy: 0.6488\n",
      "Epoch 27/100\n",
      "858/858 [==============================] - 23s 27ms/step - loss: 0.7025 - accuracy: 0.8840 - val_loss: 1.4752 - val_accuracy: 0.6747\n",
      "Epoch 28/100\n",
      "858/858 [==============================] - 22s 25ms/step - loss: 0.6985 - accuracy: 0.8831 - val_loss: 1.5491 - val_accuracy: 0.6649\n",
      "Epoch 29/100\n",
      "858/858 [==============================] - 21s 25ms/step - loss: 0.6847 - accuracy: 0.8869 - val_loss: 1.4859 - val_accuracy: 0.6772\n",
      "Epoch 30/100\n",
      "858/858 [==============================] - 21s 24ms/step - loss: 0.6825 - accuracy: 0.8892 - val_loss: 1.5824 - val_accuracy: 0.6655\n",
      "Epoch 31/100\n",
      "858/858 [==============================] - 21s 25ms/step - loss: 0.6730 - accuracy: 0.8908 - val_loss: 1.5823 - val_accuracy: 0.6541\n",
      "Epoch 32/100\n",
      "858/858 [==============================] - 21s 25ms/step - loss: 0.6574 - accuracy: 0.8947 - val_loss: 1.6341 - val_accuracy: 0.6470\n",
      "Epoch 33/100\n",
      "858/858 [==============================] - 21s 24ms/step - loss: 0.6476 - accuracy: 0.9010 - val_loss: 1.5049 - val_accuracy: 0.6689\n",
      "Epoch 34/100\n",
      "858/858 [==============================] - 22s 26ms/step - loss: 0.6328 - accuracy: 0.9048 - val_loss: 1.5119 - val_accuracy: 0.6801\n",
      "Epoch 35/100\n",
      "858/858 [==============================] - 21s 25ms/step - loss: 0.6168 - accuracy: 0.9142 - val_loss: 1.5454 - val_accuracy: 0.6868\n",
      "Epoch 36/100\n",
      "858/858 [==============================] - 21s 24ms/step - loss: 0.6112 - accuracy: 0.9140 - val_loss: 1.5673 - val_accuracy: 0.6861\n",
      "Epoch 37/100\n",
      "858/858 [==============================] - 22s 25ms/step - loss: 0.6105 - accuracy: 0.9116 - val_loss: 1.6129 - val_accuracy: 0.6496\n",
      "Epoch 38/100\n",
      "858/858 [==============================] - 21s 25ms/step - loss: 0.5883 - accuracy: 0.9211 - val_loss: 1.6732 - val_accuracy: 0.6521\n",
      "Epoch 39/100\n",
      "858/858 [==============================] - 21s 25ms/step - loss: 0.5949 - accuracy: 0.9165 - val_loss: 1.6145 - val_accuracy: 0.6606\n",
      "Epoch 40/100\n",
      "858/858 [==============================] - 22s 26ms/step - loss: 0.5913 - accuracy: 0.9170 - val_loss: 1.6054 - val_accuracy: 0.6753\n",
      "Epoch 41/100\n",
      "858/858 [==============================] - 22s 26ms/step - loss: 0.5851 - accuracy: 0.9173 - val_loss: 1.5732 - val_accuracy: 0.6813\n",
      "Epoch 42/100\n",
      "858/858 [==============================] - 21s 24ms/step - loss: 0.5801 - accuracy: 0.9227 - val_loss: 1.5598 - val_accuracy: 0.6721\n",
      "Epoch 43/100\n",
      "858/858 [==============================] - 23s 26ms/step - loss: 0.5740 - accuracy: 0.9205 - val_loss: 1.5697 - val_accuracy: 0.6748\n",
      "Epoch 44/100\n",
      "858/858 [==============================] - 23s 26ms/step - loss: 0.5771 - accuracy: 0.9213 - val_loss: 1.6613 - val_accuracy: 0.6762\n",
      "Epoch 45/100\n",
      "858/858 [==============================] - 22s 26ms/step - loss: 0.5597 - accuracy: 0.9246 - val_loss: 1.5865 - val_accuracy: 0.6767\n",
      "Epoch 46/100\n",
      "858/858 [==============================] - 20s 24ms/step - loss: 0.5596 - accuracy: 0.9262 - val_loss: 1.5985 - val_accuracy: 0.6793\n",
      "Epoch 47/100\n",
      "858/858 [==============================] - 17s 19ms/step - loss: 0.5518 - accuracy: 0.9259 - val_loss: 1.5655 - val_accuracy: 0.6822\n",
      "Epoch 48/100\n",
      "858/858 [==============================] - 16s 19ms/step - loss: 0.5486 - accuracy: 0.9279 - val_loss: 1.6348 - val_accuracy: 0.6758\n",
      "Epoch 49/100\n",
      "858/858 [==============================] - 17s 19ms/step - loss: 0.5404 - accuracy: 0.9311 - val_loss: 1.5833 - val_accuracy: 0.6736\n",
      "Epoch 50/100\n",
      "858/858 [==============================] - 17s 20ms/step - loss: 0.5391 - accuracy: 0.9278 - val_loss: 1.6124 - val_accuracy: 0.6453\n",
      "Epoch 51/100\n",
      "858/858 [==============================] - 16s 18ms/step - loss: 0.5361 - accuracy: 0.9304 - val_loss: 1.6748 - val_accuracy: 0.6326\n",
      "Epoch 52/100\n",
      "858/858 [==============================] - 23s 26ms/step - loss: 0.5246 - accuracy: 0.9338 - val_loss: 1.7551 - val_accuracy: 0.6566\n",
      "Epoch 53/100\n",
      "858/858 [==============================] - 26s 30ms/step - loss: 0.5372 - accuracy: 0.9271 - val_loss: 1.5887 - val_accuracy: 0.6849\n",
      "Epoch 54/100\n",
      "858/858 [==============================] - 26s 30ms/step - loss: 0.5272 - accuracy: 0.9324 - val_loss: 1.6627 - val_accuracy: 0.6658\n",
      "Epoch 55/100\n",
      "858/858 [==============================] - 26s 30ms/step - loss: 0.5275 - accuracy: 0.9314 - val_loss: 1.6328 - val_accuracy: 0.6499\n",
      "Epoch 56/100\n",
      "858/858 [==============================] - 27s 31ms/step - loss: 0.5113 - accuracy: 0.9390 - val_loss: 1.6893 - val_accuracy: 0.6748\n",
      "Epoch 57/100\n",
      "858/858 [==============================] - 25s 29ms/step - loss: 0.5037 - accuracy: 0.9409 - val_loss: 1.6459 - val_accuracy: 0.6714\n",
      "Epoch 58/100\n",
      "858/858 [==============================] - 25s 29ms/step - loss: 0.5093 - accuracy: 0.9383 - val_loss: 1.6648 - val_accuracy: 0.6762\n",
      "Epoch 59/100\n",
      "858/858 [==============================] - 25s 29ms/step - loss: 0.5069 - accuracy: 0.9400 - val_loss: 1.7363 - val_accuracy: 0.6835\n",
      "Epoch 60/100\n",
      "858/858 [==============================] - 25s 29ms/step - loss: 0.5118 - accuracy: 0.9360 - val_loss: 1.7721 - val_accuracy: 0.6514\n",
      "Epoch 61/100\n",
      "858/858 [==============================] - 25s 29ms/step - loss: 0.4967 - accuracy: 0.9418 - val_loss: 1.6935 - val_accuracy: 0.6730\n",
      "Epoch 62/100\n",
      "858/858 [==============================] - 25s 29ms/step - loss: 0.4922 - accuracy: 0.9449 - val_loss: 1.6896 - val_accuracy: 0.6741\n",
      "Epoch 63/100\n",
      "858/858 [==============================] - 25s 29ms/step - loss: 0.4901 - accuracy: 0.9447 - val_loss: 1.7022 - val_accuracy: 0.6682\n",
      "Epoch 64/100\n",
      "858/858 [==============================] - 26s 30ms/step - loss: 0.4949 - accuracy: 0.9420 - val_loss: 1.6626 - val_accuracy: 0.6654\n",
      "Epoch 65/100\n",
      "858/858 [==============================] - 25s 29ms/step - loss: 0.4866 - accuracy: 0.9454 - val_loss: 1.7656 - val_accuracy: 0.6553\n",
      "Epoch 66/100\n",
      "858/858 [==============================] - 26s 30ms/step - loss: 0.4825 - accuracy: 0.9473 - val_loss: 1.6712 - val_accuracy: 0.6659\n",
      "Epoch 67/100\n",
      "858/858 [==============================] - 25s 29ms/step - loss: 0.4803 - accuracy: 0.9493 - val_loss: 1.6820 - val_accuracy: 0.6716\n",
      "Epoch 68/100\n",
      "858/858 [==============================] - 25s 29ms/step - loss: 0.4692 - accuracy: 0.9524 - val_loss: 1.7627 - val_accuracy: 0.6603\n",
      "Epoch 69/100\n",
      "858/858 [==============================] - 25s 30ms/step - loss: 0.4746 - accuracy: 0.9496 - val_loss: 1.6668 - val_accuracy: 0.6666\n",
      "Epoch 70/100\n",
      "858/858 [==============================] - 24s 28ms/step - loss: 0.4671 - accuracy: 0.9527 - val_loss: 1.8650 - val_accuracy: 0.6355\n",
      "Epoch 71/100\n",
      "858/858 [==============================] - 25s 29ms/step - loss: 0.4741 - accuracy: 0.9486 - val_loss: 1.7434 - val_accuracy: 0.6541\n",
      "Epoch 72/100\n",
      "858/858 [==============================] - 26s 30ms/step - loss: 0.4710 - accuracy: 0.9486 - val_loss: 1.7169 - val_accuracy: 0.6726\n",
      "Epoch 73/100\n",
      "858/858 [==============================] - 25s 29ms/step - loss: 0.4673 - accuracy: 0.9497 - val_loss: 1.7192 - val_accuracy: 0.6588\n",
      "Epoch 74/100\n",
      "858/858 [==============================] - 24s 28ms/step - loss: 0.4651 - accuracy: 0.9516 - val_loss: 1.7789 - val_accuracy: 0.6400\n",
      "Epoch 75/100\n",
      "858/858 [==============================] - 25s 29ms/step - loss: 0.4660 - accuracy: 0.9521 - val_loss: 1.7213 - val_accuracy: 0.6518\n",
      "Epoch 76/100\n",
      "858/858 [==============================] - 26s 30ms/step - loss: 0.4516 - accuracy: 0.9569 - val_loss: 1.8127 - val_accuracy: 0.6482\n",
      "Epoch 77/100\n",
      "858/858 [==============================] - 26s 30ms/step - loss: 0.4611 - accuracy: 0.9546 - val_loss: 1.7456 - val_accuracy: 0.6702\n",
      "Epoch 78/100\n",
      "858/858 [==============================] - 26s 30ms/step - loss: 0.4590 - accuracy: 0.9528 - val_loss: 1.7443 - val_accuracy: 0.6803\n",
      "Epoch 79/100\n",
      "858/858 [==============================] - 27s 31ms/step - loss: 0.4559 - accuracy: 0.9550 - val_loss: 1.7189 - val_accuracy: 0.6679\n",
      "Epoch 80/100\n",
      "858/858 [==============================] - 29s 33ms/step - loss: 0.4615 - accuracy: 0.9496 - val_loss: 1.7199 - val_accuracy: 0.6748\n",
      "Epoch 81/100\n",
      "858/858 [==============================] - 27s 31ms/step - loss: 0.4470 - accuracy: 0.9587 - val_loss: 1.7755 - val_accuracy: 0.6652\n",
      "Epoch 82/100\n",
      "858/858 [==============================] - 25s 29ms/step - loss: 0.4598 - accuracy: 0.9523 - val_loss: 1.7692 - val_accuracy: 0.6563\n",
      "Epoch 83/100\n",
      "858/858 [==============================] - 24s 28ms/step - loss: 0.4602 - accuracy: 0.9497 - val_loss: 1.6882 - val_accuracy: 0.6504\n",
      "Epoch 84/100\n",
      "858/858 [==============================] - 25s 29ms/step - loss: 0.4515 - accuracy: 0.9533 - val_loss: 1.7579 - val_accuracy: 0.6630\n",
      "Epoch 85/100\n",
      "858/858 [==============================] - 26s 30ms/step - loss: 0.4477 - accuracy: 0.9555 - val_loss: 1.8725 - val_accuracy: 0.6521\n",
      "Epoch 86/100\n",
      "858/858 [==============================] - 25s 29ms/step - loss: 0.4521 - accuracy: 0.9532 - val_loss: 1.7527 - val_accuracy: 0.6637\n",
      "Epoch 87/100\n",
      "858/858 [==============================] - 25s 30ms/step - loss: 0.4395 - accuracy: 0.9576 - val_loss: 1.8636 - val_accuracy: 0.6594\n",
      "Epoch 88/100\n",
      "858/858 [==============================] - 25s 29ms/step - loss: 0.4354 - accuracy: 0.9620 - val_loss: 1.8434 - val_accuracy: 0.6700\n",
      "Epoch 89/100\n",
      "858/858 [==============================] - 24s 28ms/step - loss: 0.4413 - accuracy: 0.9561 - val_loss: 1.8350 - val_accuracy: 0.6392\n",
      "Epoch 90/100\n",
      "858/858 [==============================] - 25s 29ms/step - loss: 0.4377 - accuracy: 0.9582 - val_loss: 1.7688 - val_accuracy: 0.6439\n",
      "Epoch 91/100\n",
      "858/858 [==============================] - 28s 33ms/step - loss: 0.4634 - accuracy: 0.9472 - val_loss: 1.6998 - val_accuracy: 0.6735\n",
      "Epoch 92/100\n",
      "858/858 [==============================] - 32s 38ms/step - loss: 0.4217 - accuracy: 0.9638 - val_loss: 1.7169 - val_accuracy: 0.6594\n",
      "Epoch 93/100\n",
      "858/858 [==============================] - 30s 35ms/step - loss: 0.4320 - accuracy: 0.9600 - val_loss: 1.7603 - val_accuracy: 0.6663\n",
      "Epoch 94/100\n",
      "858/858 [==============================] - 29s 34ms/step - loss: 0.4533 - accuracy: 0.9497 - val_loss: 1.7499 - val_accuracy: 0.6527\n",
      "Epoch 95/100\n",
      "858/858 [==============================] - 25s 29ms/step - loss: 0.4529 - accuracy: 0.9511 - val_loss: 1.7168 - val_accuracy: 0.6615\n",
      "Epoch 96/100\n",
      "858/858 [==============================] - 25s 29ms/step - loss: 0.4351 - accuracy: 0.9580 - val_loss: 1.8196 - val_accuracy: 0.6325\n",
      "Epoch 97/100\n",
      "858/858 [==============================] - 24s 28ms/step - loss: 0.4344 - accuracy: 0.9591 - val_loss: 1.7402 - val_accuracy: 0.6502\n",
      "Epoch 98/100\n",
      "858/858 [==============================] - 24s 28ms/step - loss: 0.4385 - accuracy: 0.9559 - val_loss: 1.7822 - val_accuracy: 0.6861\n",
      "Epoch 99/100\n",
      "858/858 [==============================] - 26s 31ms/step - loss: 0.4279 - accuracy: 0.9592 - val_loss: 1.7473 - val_accuracy: 0.6638\n",
      "Epoch 100/100\n",
      "858/858 [==============================] - 27s 31ms/step - loss: 0.4267 - accuracy: 0.9601 - val_loss: 1.8365 - val_accuracy: 0.6492\n"
     ]
    }
   ],
   "source": [
    "model_2.compile(optimizer='adam',\n",
    "                loss=tf.keras.losses.SparseCategoricalCrossentropy(from_logits=True), \n",
    "                metrics=['accuracy'])\n",
    "history_2 = model_2.fit(X_train, y_train, epochs=100, validation_data=(X_test, y_test))"
   ]
  },
  {
   "cell_type": "code",
   "execution_count": 9,
   "metadata": {},
   "outputs": [
    {
     "name": "stdout",
     "output_type": "stream",
     "text": [
      "Testing Loss: 1.8365205526351929\n",
      "Testing Accuracy: 0.6491913199424744\n",
      "Training Accuracy: 0.9569477438926697\n"
     ]
    },
    {
     "data": {
      "image/png": "[encoded data removed]",
      "text/plain": [
       "<Figure size 432x288 with 1 Axes>"
      ]
     },
     "metadata": {
      "needs_background": "light"
     },
     "output_type": "display_data"
    }
   ],
   "source": [
    "test_loss2, test_acc2 = model_2.evaluate(X_test,  y_test, verbose = 0)\n",
    "training_acc2 = history_2.history['accuracy'][-1]\n",
    "print('Testing Loss: {}\\nTesting Accuracy: {}\\nTraining Accuracy: {}'.format(test_loss2, test_acc2, training_acc2))\n",
    "plot_accuracy(model_2, history_2)"
   ]
  },
  {
   "cell_type": "markdown",
   "metadata": {},
   "source": [
    "## Model 3: Dropout Layers\n",
    "After Conv2D Layers\n",
    "\n",
    "Dropout layers reduces the complexity of the neural network by randomly terminating a specified proportion of nodes. Here, 20% of the nodes are removed after the 2nd and 3rd Conv2D layers. "
   ]
  },
  {
   "cell_type": "code",
   "execution_count": 10,
   "metadata": {},
   "outputs": [
    {
     "name": "stdout",
     "output_type": "stream",
     "text": [
      "Model: \"sequential_2\"\n",
      "_________________________________________________________________\n",
      "Layer (type)                 Output Shape              Param #   \n",
      "=================================================================\n",
      "conv2d_6 (Conv2D)            (None, 26, 26, 32)        320       \n",
      "_________________________________________________________________\n",
      "max_pooling2d_5 (MaxPooling2 (None, 13, 13, 32)        0         \n",
      "_________________________________________________________________\n",
      "conv2d_7 (Conv2D)            (None, 11, 11, 64)        18496     \n",
      "_________________________________________________________________\n",
      "dropout (Dropout)            (None, 11, 11, 64)        0         \n",
      "_________________________________________________________________\n",
      "max_pooling2d_6 (MaxPooling2 (None, 5, 5, 64)          0         \n",
      "_________________________________________________________________\n",
      "conv2d_8 (Conv2D)            (None, 3, 3, 64)          36928     \n",
      "_________________________________________________________________\n",
      "dropout_1 (Dropout)          (None, 3, 3, 64)          0         \n",
      "_________________________________________________________________\n",
      "flatten_2 (Flatten)          (None, 576)               0         \n",
      "_________________________________________________________________\n",
      "dense_4 (Dense)              (None, 64)                36928     \n",
      "_________________________________________________________________\n",
      "dense_5 (Dense)              (None, 25)                1625      \n",
      "=================================================================\n",
      "Total params: 94,297\n",
      "Trainable params: 94,297\n",
      "Non-trainable params: 0\n",
      "_________________________________________________________________\n"
     ]
    }
   ],
   "source": [
    "model_3 = models.Sequential()\n",
    "model_3.add(layers.Conv2D(32, (3, 3), activation='relu', input_shape=(28, 28, 1)))\n",
    "model_3.add(layers.MaxPooling2D((2, 2)))\n",
    "model_3.add(layers.Conv2D(64, (3, 3), activation='relu'))\n",
    "model_3.add(layers.Dropout(0.2))\n",
    "model_3.add(layers.MaxPooling2D((2, 2)))\n",
    "model_3.add(layers.Conv2D(64, (3, 3), activation='relu'))\n",
    "model_3.add(layers.Dropout(0.2))\n",
    "model_3.add(layers.Flatten())\n",
    "model_3.add(layers.Dense(64, activation='relu'))\n",
    "model_3.add(layers.Dense(25))\n",
    "model_3.summary()"
   ]
  },
  {
   "cell_type": "code",
   "execution_count": 11,
   "metadata": {},
   "outputs": [
    {
     "name": "stdout",
     "output_type": "stream",
     "text": [
      "Epoch 1/10\n",
      "858/858 [==============================] - 25s 28ms/step - loss: 1.9316 - accuracy: 0.4163 - val_loss: 0.4036 - val_accuracy: 0.8654\n",
      "Epoch 2/10\n",
      "858/858 [==============================] - 23s 27ms/step - loss: 0.1819 - accuracy: 0.9396 - val_loss: 0.2781 - val_accuracy: 0.9292\n",
      "Epoch 3/10\n",
      "858/858 [==============================] - 25s 29ms/step - loss: 0.0576 - accuracy: 0.9818 - val_loss: 0.2310 - val_accuracy: 0.9343\n",
      "Epoch 4/10\n",
      "858/858 [==============================] - 24s 28ms/step - loss: 0.0368 - accuracy: 0.9888 - val_loss: 0.2884 - val_accuracy: 0.9229\n",
      "Epoch 5/10\n",
      "858/858 [==============================] - 24s 28ms/step - loss: 0.0244 - accuracy: 0.9926 - val_loss: 0.2756 - val_accuracy: 0.9276\n",
      "Epoch 6/10\n",
      "858/858 [==============================] - 23s 27ms/step - loss: 0.0240 - accuracy: 0.9927 - val_loss: 0.2835 - val_accuracy: 0.9315\n",
      "Epoch 7/10\n",
      "858/858 [==============================] - 24s 28ms/step - loss: 0.0213 - accuracy: 0.9931 - val_loss: 0.2519 - val_accuracy: 0.9389\n",
      "Epoch 8/10\n",
      "858/858 [==============================] - 26s 30ms/step - loss: 0.0214 - accuracy: 0.9928 - val_loss: 0.2802 - val_accuracy: 0.9307\n",
      "Epoch 9/10\n",
      "858/858 [==============================] - 24s 28ms/step - loss: 0.0121 - accuracy: 0.9960 - val_loss: 0.2777 - val_accuracy: 0.9426\n",
      "Epoch 10/10\n",
      "858/858 [==============================] - 24s 28ms/step - loss: 0.0115 - accuracy: 0.9962 - val_loss: 0.2712 - val_accuracy: 0.9452\n"
     ]
    }
   ],
   "source": [
    "model_3.compile(optimizer='adam',\n",
    "                loss=tf.keras.losses.SparseCategoricalCrossentropy(from_logits=True), \n",
    "                metrics=['accuracy'])\n",
    "history_3 = model_3.fit(X_train, y_train, epochs=10, validation_data=(X_test, y_test))"
   ]
  },
  {
   "cell_type": "code",
   "execution_count": 12,
   "metadata": {},
   "outputs": [
    {
     "name": "stdout",
     "output_type": "stream",
     "text": [
      "Testing Loss: 0.2712484896183014\n",
      "Testing Accuracy: 0.9452035427093506\n",
      "Training Accuracy: 0.9951556921005249\n"
     ]
    },
    {
     "data": {
      "image/png": "[encoded data removed]",
      "text/plain": [
       "<Figure size 432x288 with 1 Axes>"
      ]
     },
     "metadata": {
      "needs_background": "light"
     },
     "output_type": "display_data"
    }
   ],
   "source": [
    "test_loss3, test_acc3 = model_3.evaluate(X_test,  y_test, verbose = 0)\n",
    "training_acc3 = history_3.history['accuracy'][-1]\n",
    "print('Testing Loss: {}\\nTesting Accuracy: {}\\nTraining Accuracy: {}'.format(test_loss3, test_acc3, training_acc3))\n",
    "plot_accuracy(model_3, history_3)"
   ]
  },
  {
   "cell_type": "markdown",
   "metadata": {},
   "source": [
    "## Model 4: Weight Initialization\n",
    "\n",
    "Using the `he_normal` weight initialization, the training accuracy approaches 100% in just three iterations. A different approach would be better. "
   ]
  },
  {
   "cell_type": "code",
   "execution_count": 13,
   "metadata": {},
   "outputs": [
    {
     "name": "stdout",
     "output_type": "stream",
     "text": [
      "Model: \"sequential_3\"\n",
      "_________________________________________________________________\n",
      "Layer (type)                 Output Shape              Param #   \n",
      "=================================================================\n",
      "conv2d_9 (Conv2D)            (None, 26, 26, 32)        320       \n",
      "_________________________________________________________________\n",
      "max_pooling2d_7 (MaxPooling2 (None, 13, 13, 32)        0         \n",
      "_________________________________________________________________\n",
      "conv2d_10 (Conv2D)           (None, 11, 11, 64)        18496     \n",
      "_________________________________________________________________\n",
      "max_pooling2d_8 (MaxPooling2 (None, 5, 5, 64)          0         \n",
      "_________________________________________________________________\n",
      "conv2d_11 (Conv2D)           (None, 3, 3, 64)          36928     \n",
      "_________________________________________________________________\n",
      "flatten_3 (Flatten)          (None, 576)               0         \n",
      "_________________________________________________________________\n",
      "dense_6 (Dense)              (None, 64)                36928     \n",
      "_________________________________________________________________\n",
      "dense_7 (Dense)              (None, 25)                1625      \n",
      "=================================================================\n",
      "Total params: 94,297\n",
      "Trainable params: 94,297\n",
      "Non-trainable params: 0\n",
      "_________________________________________________________________\n"
     ]
    }
   ],
   "source": [
    "model_4 = models.Sequential()\n",
    "model_4.add(layers.Conv2D(32, (3, 3), activation='relu', kernel_initializer= 'he_normal', input_shape=(28, 28, 1)))\n",
    "model_4.add(layers.MaxPooling2D((2, 2)))\n",
    "model_4.add(layers.Conv2D(64, (3, 3), activation='relu'))\n",
    "model_4.add(layers.MaxPooling2D((2, 2)))\n",
    "model_4.add(layers.Conv2D(64, (3, 3), activation='relu'))\n",
    "model_4.add(layers.Flatten())\n",
    "model_4.add(layers.Dense(64, activation='relu'))\n",
    "model_4.add(layers.Dense(25))\n",
    "model_4.summary()"
   ]
  },
  {
   "cell_type": "code",
   "execution_count": 14,
   "metadata": {},
   "outputs": [
    {
     "name": "stdout",
     "output_type": "stream",
     "text": [
      "Epoch 1/10\n",
      "858/858 [==============================] - 21s 24ms/step - loss: 1.8350 - accuracy: 0.4416 - val_loss: 0.5707 - val_accuracy: 0.7909\n",
      "Epoch 2/10\n",
      "858/858 [==============================] - 21s 24ms/step - loss: 0.1615 - accuracy: 0.9519 - val_loss: 0.4549 - val_accuracy: 0.8809\n",
      "Epoch 3/10\n",
      "858/858 [==============================] - 20s 24ms/step - loss: 0.0303 - accuracy: 0.9942 - val_loss: 0.5112 - val_accuracy: 0.8759\n",
      "Epoch 4/10\n",
      "858/858 [==============================] - 20s 24ms/step - loss: 0.0233 - accuracy: 0.9942 - val_loss: 0.5161 - val_accuracy: 0.8935\n",
      "Epoch 5/10\n",
      "858/858 [==============================] - 20s 24ms/step - loss: 0.0139 - accuracy: 0.9961 - val_loss: 0.5812 - val_accuracy: 0.8873\n",
      "Epoch 6/10\n",
      "858/858 [==============================] - 21s 24ms/step - loss: 0.0060 - accuracy: 0.9982 - val_loss: 0.6354 - val_accuracy: 0.9009\n",
      "Epoch 7/10\n",
      "858/858 [==============================] - 20s 24ms/step - loss: 3.9252e-04 - accuracy: 1.0000 - val_loss: 0.6065 - val_accuracy: 0.9073\n",
      "Epoch 8/10\n",
      "858/858 [==============================] - 20s 24ms/step - loss: 1.5261e-04 - accuracy: 1.0000 - val_loss: 0.7810 - val_accuracy: 0.8903\n",
      "Epoch 9/10\n",
      "858/858 [==============================] - 24s 28ms/step - loss: 0.0875 - accuracy: 0.9727 - val_loss: 0.5311 - val_accuracy: 0.9162\n",
      "Epoch 10/10\n",
      "858/858 [==============================] - 25s 29ms/step - loss: 2.4931e-04 - accuracy: 1.0000 - val_loss: 0.5260 - val_accuracy: 0.9229\n"
     ]
    }
   ],
   "source": [
    "model_4.compile(optimizer='adam',\n",
    "                loss=tf.keras.losses.SparseCategoricalCrossentropy(from_logits=True), \n",
    "                metrics=['accuracy'])\n",
    "history_4 = model_4.fit(X_train, y_train, epochs=10, validation_data=(X_test, y_test))"
   ]
  },
  {
   "cell_type": "code",
   "execution_count": 15,
   "metadata": {},
   "outputs": [
    {
     "name": "stdout",
     "output_type": "stream",
     "text": [
      "Testing Loss: 0.5260305404663086\n",
      "Testing Accuracy: 0.9228945970535278\n",
      "Training Accuracy: 1.0\n"
     ]
    },
    {
     "data": {
      "image/png": "[encoded data removed]",
      "text/plain": [
       "<Figure size 432x288 with 1 Axes>"
      ]
     },
     "metadata": {
      "needs_background": "light"
     },
     "output_type": "display_data"
    }
   ],
   "source": [
    "test_loss4, test_acc4 = model_4.evaluate(X_test,  y_test, verbose = 0)\n",
    "training_acc4 = history_4.history['accuracy'][-1]\n",
    "print('Testing Loss: {}\\nTesting Accuracy: {}\\nTraining Accuracy: {}'.format(test_loss4, test_acc4, training_acc4))\n",
    "plot_accuracy(model_4, history_4)"
   ]
  },
  {
   "cell_type": "markdown",
   "metadata": {},
   "source": [
    "## Model 5: Dropout\n",
    "After MaxPooling\n",
    "\n",
    "The addition of dropout layers appeared to be a promising approach. Other articles online indicated that placement of Dropout layers after MaxPooling is also effective. This is applied here, along with the addition of another Conv2D -> MaxPooling. The testing accuracy here is the best so far at 94.8 %, while the training accuracy is at 96.9%. This appears to generalize better being less complex than the baseline model which reached a 100% training accuracy."
   ]
  },
  {
   "cell_type": "code",
   "execution_count": 16,
   "metadata": {},
   "outputs": [
    {
     "name": "stdout",
     "output_type": "stream",
     "text": [
      "Model: \"sequential_4\"\n",
      "_________________________________________________________________\n",
      "Layer (type)                 Output Shape              Param #   \n",
      "=================================================================\n",
      "conv2d_12 (Conv2D)           (None, 26, 26, 32)        320       \n",
      "_________________________________________________________________\n",
      "max_pooling2d_9 (MaxPooling2 (None, 13, 13, 32)        0         \n",
      "_________________________________________________________________\n",
      "dropout_2 (Dropout)          (None, 13, 13, 32)        0         \n",
      "_________________________________________________________________\n",
      "conv2d_13 (Conv2D)           (None, 11, 11, 64)        18496     \n",
      "_________________________________________________________________\n",
      "max_pooling2d_10 (MaxPooling (None, 5, 5, 64)          0         \n",
      "_________________________________________________________________\n",
      "dropout_3 (Dropout)          (None, 5, 5, 64)          0         \n",
      "_________________________________________________________________\n",
      "conv2d_14 (Conv2D)           (None, 3, 3, 64)          36928     \n",
      "_________________________________________________________________\n",
      "max_pooling2d_11 (MaxPooling (None, 1, 1, 64)          0         \n",
      "_________________________________________________________________\n",
      "dropout_4 (Dropout)          (None, 1, 1, 64)          0         \n",
      "_________________________________________________________________\n",
      "flatten_4 (Flatten)          (None, 64)                0         \n",
      "_________________________________________________________________\n",
      "dense_8 (Dense)              (None, 64)                4160      \n",
      "_________________________________________________________________\n",
      "dense_9 (Dense)              (None, 25)                1625      \n",
      "=================================================================\n",
      "Total params: 61,529\n",
      "Trainable params: 61,529\n",
      "Non-trainable params: 0\n",
      "_________________________________________________________________\n"
     ]
    }
   ],
   "source": [
    "model_5 = models.Sequential()\n",
    "model_5.add(layers.Conv2D(32, (3, 3), activation='relu', input_shape=(28, 28, 1)))\n",
    "model_5.add(layers.MaxPooling2D((2, 2)))\n",
    "model_5.add(layers.Dropout(0.2))\n",
    "model_5.add(layers.Conv2D(64, (3, 3), activation='relu'))\n",
    "model_5.add(layers.MaxPooling2D((2, 2)))\n",
    "model_5.add(layers.Dropout(0.2))\n",
    "model_5.add(layers.Conv2D(64, (3, 3), activation='relu'))\n",
    "model_5.add(layers.MaxPooling2D((2, 2)))\n",
    "model_5.add(layers.Dropout(0.2))\n",
    "model_5.add(layers.Flatten())\n",
    "model_5.add(layers.Dense(64, activation='relu'))\n",
    "model_5.add(layers.Dense(25))\n",
    "model_5.summary()"
   ]
  },
  {
   "cell_type": "code",
   "execution_count": 17,
   "metadata": {},
   "outputs": [
    {
     "name": "stdout",
     "output_type": "stream",
     "text": [
      "Epoch 1/10\n",
      "858/858 [==============================] - 22s 25ms/step - loss: 2.7374 - accuracy: 0.1673 - val_loss: 1.0371 - val_accuracy: 0.6588\n",
      "Epoch 2/10\n",
      "858/858 [==============================] - 21s 24ms/step - loss: 0.9639 - accuracy: 0.6626 - val_loss: 0.5417 - val_accuracy: 0.8256\n",
      "Epoch 3/10\n",
      "858/858 [==============================] - 21s 24ms/step - loss: 0.5802 - accuracy: 0.7937 - val_loss: 0.4089 - val_accuracy: 0.8660\n",
      "Epoch 4/10\n",
      "858/858 [==============================] - 21s 24ms/step - loss: 0.4018 - accuracy: 0.8618 - val_loss: 0.3391 - val_accuracy: 0.8904\n",
      "Epoch 5/10\n",
      "858/858 [==============================] - 21s 25ms/step - loss: 0.2946 - accuracy: 0.8979 - val_loss: 0.3192 - val_accuracy: 0.9055\n",
      "Epoch 6/10\n",
      "858/858 [==============================] - 21s 24ms/step - loss: 0.2338 - accuracy: 0.9206 - val_loss: 0.3170 - val_accuracy: 0.9016\n",
      "Epoch 7/10\n",
      "858/858 [==============================] - 20s 23ms/step - loss: 0.1963 - accuracy: 0.9337 - val_loss: 0.2471 - val_accuracy: 0.9328\n",
      "Epoch 8/10\n",
      "858/858 [==============================] - 22s 25ms/step - loss: 0.1564 - accuracy: 0.9480 - val_loss: 0.2219 - val_accuracy: 0.9373\n",
      "Epoch 9/10\n",
      "858/858 [==============================] - 22s 25ms/step - loss: 0.1311 - accuracy: 0.9544 - val_loss: 0.2660 - val_accuracy: 0.9283\n",
      "Epoch 10/10\n",
      "858/858 [==============================] - 21s 25ms/step - loss: 0.1190 - accuracy: 0.9605 - val_loss: 0.2126 - val_accuracy: 0.9304\n"
     ]
    }
   ],
   "source": [
    "model_5.compile(optimizer='adam',\n",
    "                loss=tf.keras.losses.SparseCategoricalCrossentropy(from_logits=True), \n",
    "                metrics=['accuracy'])\n",
    "history_5 = model_5.fit(X_train, y_train, epochs=10, validation_data=(X_test, y_test))"
   ]
  },
  {
   "cell_type": "code",
   "execution_count": 18,
   "metadata": {},
   "outputs": [
    {
     "name": "stdout",
     "output_type": "stream",
     "text": [
      "Testing Loss: 0.2126093953847885\n",
      "Testing Accuracy: 0.9304238557815552\n",
      "Training Accuracy: 0.9617920517921448\n"
     ]
    },
    {
     "data": {
      "image/png": "[encoded data removed]",
      "text/plain": [
       "<Figure size 432x288 with 1 Axes>"
      ]
     },
     "metadata": {
      "needs_background": "light"
     },
     "output_type": "display_data"
    }
   ],
   "source": [
    "test_loss5, test_acc5 = model_5.evaluate(X_test,  y_test, verbose = 0)\n",
    "training_acc5 = history_5.history['accuracy'][-1]\n",
    "print('Testing Loss: {}\\nTesting Accuracy: {}\\nTraining Accuracy: {}'.format(test_loss5, test_acc5, training_acc5))\n",
    "plot_accuracy(model_5, history_5)"
   ]
  },
  {
   "cell_type": "code",
   "execution_count": 19,
   "metadata": {},
   "outputs": [
    {
     "data": {
      "text/html": [
       "<div>\n",
       "<style scoped>\n",
       "    .dataframe tbody tr th:only-of-type {\n",
       "        vertical-align: middle;\n",
       "    }\n",
       "\n",
       "    .dataframe tbody tr th {\n",
       "        vertical-align: top;\n",
       "    }\n",
       "\n",
       "    .dataframe thead th {\n",
       "        text-align: right;\n",
       "    }\n",
       "</style>\n",
       "<table border=\"1\" class=\"dataframe\">\n",
       "  <thead>\n",
       "    <tr style=\"text-align: right;\">\n",
       "      <th></th>\n",
       "      <th>Training Accuracy</th>\n",
       "      <th>Testing Accuracy</th>\n",
       "      <th>Testing Loss</th>\n",
       "    </tr>\n",
       "  </thead>\n",
       "  <tbody>\n",
       "    <tr>\n",
       "      <th>Baseline</th>\n",
       "      <td>1.000000</td>\n",
       "      <td>0.932376</td>\n",
       "      <td>0.395788</td>\n",
       "    </tr>\n",
       "    <tr>\n",
       "      <th>l2 Regularization</th>\n",
       "      <td>0.956948</td>\n",
       "      <td>0.649191</td>\n",
       "      <td>1.836521</td>\n",
       "    </tr>\n",
       "    <tr>\n",
       "      <th>Dropout Layers</th>\n",
       "      <td>0.995156</td>\n",
       "      <td>0.945204</td>\n",
       "      <td>0.271248</td>\n",
       "    </tr>\n",
       "    <tr>\n",
       "      <th>Weight Initialization</th>\n",
       "      <td>1.000000</td>\n",
       "      <td>0.922895</td>\n",
       "      <td>0.526031</td>\n",
       "    </tr>\n",
       "    <tr>\n",
       "      <th>Dropout + More Layers</th>\n",
       "      <td>0.961792</td>\n",
       "      <td>0.930424</td>\n",
       "      <td>0.212609</td>\n",
       "    </tr>\n",
       "  </tbody>\n",
       "</table>\n",
       "</div>"
      ],
      "text/plain": [
       "                       Training Accuracy  Testing Accuracy  Testing Loss\n",
       "Baseline                        1.000000          0.932376      0.395788\n",
       "l2 Regularization               0.956948          0.649191      1.836521\n",
       "Dropout Layers                  0.995156          0.945204      0.271248\n",
       "Weight Initialization           1.000000          0.922895      0.526031\n",
       "Dropout + More Layers           0.961792          0.930424      0.212609"
      ]
     },
     "execution_count": 19,
     "metadata": {},
     "output_type": "execute_result"
    }
   ],
   "source": [
    "training_acc = [training_acc1, training_acc2, training_acc3, training_acc4, training_acc5]\n",
    "testing_acc = [test_acc1, test_acc2, test_acc3, test_acc4, test_acc5]\n",
    "testing_loss = [test_loss1, test_loss2, test_loss3, test_loss4, test_loss5]\n",
    "index = ['Baseline', 'l2 Regularization', 'Dropout Layers', 'Weight Initialization', 'Dropout + More Layers']\n",
    "\n",
    "results_dict = {'Training Accuracy': training_acc, 'Testing Accuracy': testing_acc, 'Testing Loss': testing_loss}\n",
    "results = pd.DataFrame(results_dict, index = index)\n",
    "results"
   ]
  },
  {
   "cell_type": "markdown",
   "metadata": {},
   "source": [
    "##"
   ]
  }
 ],
 "metadata": {
  "interpreter": {
   "hash": "e348f125b6f91a14eca7d5249f64a17f3ef476ef6da90e21206c2cb49670b48b"
  },
  "kernelspec": {
   "display_name": "Python 3.8.3 ('base')",
   "language": "python",
   "name": "python3"
  },
  "language_info": {
   "codemirror_mode": {
    "name": "ipython",
    "version": 3
   },
   "file_extension": ".py",
   "mimetype": "text/x-python",
   "name": "python",
   "nbconvert_exporter": "python",
   "pygments_lexer": "ipython3",
   "version": "3.8.3"
  },
  "orig_nbformat": 4
 },
 "nbformat": 4,
 "nbformat_minor": 2
}
