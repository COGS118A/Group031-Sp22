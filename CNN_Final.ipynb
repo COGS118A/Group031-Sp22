{
 "cells": [
  {
   "cell_type": "markdown",
   "metadata": {},
   "source": [
    "# Convolutional Neural Networks (CNN)"
   ]
  },
  {
   "cell_type": "markdown",
   "metadata": {},
   "source": [
    "In this notebook, we first run a simple baseline CNN. We notice that the model is slightly overfitting, achieving nearly 100% training accuracy. So, we attempt several implementation to reduce the complexity of the model."
   ]
  },
  {
   "cell_type": "code",
   "execution_count": 1,
   "metadata": {},
   "outputs": [],
   "source": [
    "# Necessary Imports\n",
    "\n",
    "import pandas as pd\n",
    "import numpy as np\n",
    "import tensorflow as tf\n",
    "from tensorflow.keras import layers, models, regularizers\n",
    "import matplotlib.pyplot as plt\n",
    "\n",
    "import warnings\n",
    "warnings.filterwarnings(\"ignore\")"
   ]
  },
  {
   "cell_type": "code",
   "execution_count": 2,
   "metadata": {},
   "outputs": [],
   "source": [
    "# Plotting learning curves\n",
    "def plot_accuracy(model, history):\n",
    "    plt.plot(history.history['accuracy'], label='accuracy')\n",
    "    plt.plot(history.history['val_accuracy'], label = 'val_accuracy')\n",
    "    plt.xlabel('Epoch')\n",
    "    plt.ylabel('Accuracy')\n",
    "    plt.ylim([0.5, 1])\n",
    "    plt.legend(loc='lower right')"
   ]
  },
  {
   "cell_type": "code",
   "execution_count": 3,
   "metadata": {},
   "outputs": [
    {
     "name": "stdout",
     "output_type": "stream",
     "text": [
      "If this is the only message, then all data is good to go!\n"
     ]
    }
   ],
   "source": [
    "train = pd.read_csv('sign_mnist_train.csv')\n",
    "test = pd.read_csv('sign_mnist_test.csv')\n",
    "\n",
    "X_train = train.drop(columns = 'label')\n",
    "X_test = test.drop(columns = 'label')\n",
    "\n",
    "# Check that data is input properly - pixel values in range 0-255\n",
    "column_val = 'pixel{value}'\n",
    "for i in range(1, 785):\n",
    "    if (X_train[column_val.format(value=i)] < 0).any() or (X_train[column_val.format(value=i)] > 255).any():\n",
    "        print(\"Unexpected value encountered in training data pixel column {value}\".format(value=i))\n",
    "    if (X_test[column_val.format(value=i)] < 0).any() or (X_test[column_val.format(value=i)] > 255).any():\n",
    "        print(\"Unexpected value encountered in testing data pixel column {value}\".format(value=i))\n",
    "print(\"If this is the only message, then all data is good to go!\")\n",
    "\n",
    "# Normalize the data\n",
    "X_train /= 255.0\n",
    "X_test /= 255.0\n",
    "\n",
    "# Reshape to be compatible with input layer\n",
    "X_train = X_train.values.reshape(-1,28,28,1)\n",
    "X_test = X_test.values.reshape(-1,28,28,1)\n",
    "\n",
    "# Get target classes\n",
    "y_train = train['label']\n",
    "y_test = test['label']"
   ]
  },
  {
   "cell_type": "markdown",
   "metadata": {},
   "source": [
    "## Model 1: Baseline\n",
    "\n",
    "A baseline model is run to get an idea of the achievable accuracy from a simple neural network, not paying too much attention to the number or makeup of the layers."
   ]
  },
  {
   "cell_type": "code",
   "execution_count": 4,
   "metadata": {},
   "outputs": [
    {
     "name": "stderr",
     "output_type": "stream",
     "text": [
      "2022-06-09 17:54:14.117390: I tensorflow/compiler/jit/xla_cpu_device.cc:41] Not creating XLA devices, tf_xla_enable_xla_devices not set\n",
      "2022-06-09 17:54:14.142019: I tensorflow/core/platform/cpu_feature_guard.cc:142] This TensorFlow binary is optimized with oneAPI Deep Neural Network Library (oneDNN) to use the following CPU instructions in performance-critical operations:  AVX2 FMA\n",
      "To enable them in other operations, rebuild TensorFlow with the appropriate compiler flags.\n"
     ]
    },
    {
     "name": "stdout",
     "output_type": "stream",
     "text": [
      "Model: \"sequential\"\n",
      "_________________________________________________________________\n",
      "Layer (type)                 Output Shape              Param #   \n",
      "=================================================================\n",
      "conv2d (Conv2D)              (None, 26, 26, 32)        320       \n",
      "_________________________________________________________________\n",
      "max_pooling2d (MaxPooling2D) (None, 13, 13, 32)        0         \n",
      "_________________________________________________________________\n",
      "conv2d_1 (Conv2D)            (None, 11, 11, 64)        18496     \n",
      "_________________________________________________________________\n",
      "max_pooling2d_1 (MaxPooling2 (None, 5, 5, 64)          0         \n",
      "_________________________________________________________________\n",
      "conv2d_2 (Conv2D)            (None, 3, 3, 64)          36928     \n",
      "_________________________________________________________________\n",
      "flatten (Flatten)            (None, 576)               0         \n",
      "_________________________________________________________________\n",
      "dense (Dense)                (None, 64)                36928     \n",
      "_________________________________________________________________\n",
      "dense_1 (Dense)              (None, 25)                1625      \n",
      "=================================================================\n",
      "Total params: 94,297\n",
      "Trainable params: 94,297\n",
      "Non-trainable params: 0\n",
      "_________________________________________________________________\n"
     ]
    }
   ],
   "source": [
    "model_1 = models.Sequential()\n",
    "model_1.add(layers.Conv2D(32, (3, 3), activation='relu', input_shape=(28, 28, 1)))\n",
    "model_1.add(layers.MaxPooling2D((2, 2)))\n",
    "model_1.add(layers.Conv2D(64, (3, 3), activation='relu'))\n",
    "model_1.add(layers.MaxPooling2D((2, 2)))\n",
    "model_1.add(layers.Conv2D(64, (3, 3), activation='relu'))\n",
    "model_1.add(layers.Flatten())\n",
    "model_1.add(layers.Dense(64, activation='relu'))\n",
    "model_1.add(layers.Dense(25))\n",
    "model_1.summary()"
   ]
  },
  {
   "cell_type": "code",
   "execution_count": 5,
   "metadata": {},
   "outputs": [
    {
     "name": "stderr",
     "output_type": "stream",
     "text": [
      "2022-06-09 17:54:17.236083: I tensorflow/compiler/mlir/mlir_graph_optimization_pass.cc:116] None of the MLIR optimization passes are enabled (registered 2)\n"
     ]
    },
    {
     "name": "stdout",
     "output_type": "stream",
     "text": [
      "Epoch 1/10\n",
      "858/858 [==============================] - 57s 60ms/step - loss: 1.9981 - accuracy: 0.3922 - val_loss: 0.5763 - val_accuracy: 0.8109\n",
      "Epoch 2/10\n",
      "858/858 [==============================] - 43s 50ms/step - loss: 0.1519 - accuracy: 0.9551 - val_loss: 0.3215 - val_accuracy: 0.9021\n",
      "Epoch 3/10\n",
      "858/858 [==============================] - 31s 36ms/step - loss: 0.0278 - accuracy: 0.9935 - val_loss: 0.4593 - val_accuracy: 0.8705\n",
      "Epoch 4/10\n",
      "858/858 [==============================] - 37s 44ms/step - loss: 0.0274 - accuracy: 0.9922 - val_loss: 0.3301 - val_accuracy: 0.9222\n",
      "Epoch 5/10\n",
      "858/858 [==============================] - 36s 42ms/step - loss: 0.0014 - accuracy: 1.0000 - val_loss: 0.3476 - val_accuracy: 0.9225\n",
      "Epoch 6/10\n",
      "858/858 [==============================] - 33s 39ms/step - loss: 3.6703e-04 - accuracy: 1.0000 - val_loss: 0.3869 - val_accuracy: 0.9207\n",
      "Epoch 7/10\n",
      "858/858 [==============================] - 34s 40ms/step - loss: 0.0504 - accuracy: 0.9846 - val_loss: 0.2778 - val_accuracy: 0.9243\n",
      "Epoch 8/10\n",
      "858/858 [==============================] - 30s 35ms/step - loss: 5.1555e-04 - accuracy: 1.0000 - val_loss: 0.2877 - val_accuracy: 0.9296\n",
      "Epoch 9/10\n",
      "858/858 [==============================] - 32s 38ms/step - loss: 1.9848e-04 - accuracy: 1.0000 - val_loss: 0.3061 - val_accuracy: 0.9288\n",
      "Epoch 10/10\n",
      "858/858 [==============================] - 36s 41ms/step - loss: 1.1949e-04 - accuracy: 1.0000 - val_loss: 0.3262 - val_accuracy: 0.9304\n"
     ]
    }
   ],
   "source": [
    "model_1.compile(optimizer='adam',\n",
    "                loss=tf.keras.losses.SparseCategoricalCrossentropy(from_logits=True), \n",
    "                metrics=['accuracy'])\n",
    "history_1 = model_1.fit(X_train, y_train, epochs=10, validation_data=(X_test, y_test))"
   ]
  },
  {
   "cell_type": "code",
   "execution_count": 6,
   "metadata": {},
   "outputs": [
    {
     "name": "stdout",
     "output_type": "stream",
     "text": [
      "Testing Loss: 0.3262122571468353\n",
      "Testing Accuracy: 0.9304238557815552\n",
      "Training Accuracy: 1.0\n"
     ]
    },
    {
     "data": {
      "image/png": "[encoded data removed]",
      "text/plain": [
       "<Figure size 432x288 with 1 Axes>"
      ]
     },
     "metadata": {
      "needs_background": "light"
     },
     "output_type": "display_data"
    }
   ],
   "source": [
    "test_loss1, test_acc1 = model_1.evaluate(X_test,  y_test, verbose = 0)\n",
    "training_acc1 = history_1.history['accuracy'][-1]\n",
    "print('Testing Loss: {}\\nTesting Accuracy: {}\\nTraining Accuracy: {}'.format(test_loss1, test_acc1, training_acc1))\n",
    "plot_accuracy(model_1, history_1)"
   ]
  },
  {
   "cell_type": "markdown",
   "metadata": {},
   "source": [
    "## Model 2: L2 Regularization\n",
    "\n",
    "L2 regularization is applied to the Convolutional2D layers. \n",
    "\n",
    "It is clear that when applying l2 regularization, training is much slower. Here, a learning rate of 0.005 is used and the training learning curve plateaus at around 20 epochs. When using the default learning rate of 0.01 here, the learning curves are still gradually increasing after 100 epochs. There may be some promise here, but in consideration of time, there are likely more efficient methods. "
   ]
  },
  {
   "cell_type": "code",
   "execution_count": 7,
   "metadata": {},
   "outputs": [
    {
     "name": "stdout",
     "output_type": "stream",
     "text": [
      "Model: \"sequential_1\"\n",
      "_________________________________________________________________\n",
      "Layer (type)                 Output Shape              Param #   \n",
      "=================================================================\n",
      "conv2d_3 (Conv2D)            (None, 26, 26, 32)        320       \n",
      "_________________________________________________________________\n",
      "max_pooling2d_2 (MaxPooling2 (None, 13, 13, 32)        0         \n",
      "_________________________________________________________________\n",
      "conv2d_4 (Conv2D)            (None, 11, 11, 64)        18496     \n",
      "_________________________________________________________________\n",
      "max_pooling2d_3 (MaxPooling2 (None, 5, 5, 64)          0         \n",
      "_________________________________________________________________\n",
      "conv2d_5 (Conv2D)            (None, 3, 3, 64)          36928     \n",
      "_________________________________________________________________\n",
      "max_pooling2d_4 (MaxPooling2 (None, 1, 1, 64)          0         \n",
      "_________________________________________________________________\n",
      "flatten_1 (Flatten)          (None, 64)                0         \n",
      "_________________________________________________________________\n",
      "dense_2 (Dense)              (None, 64)                4160      \n",
      "_________________________________________________________________\n",
      "dense_3 (Dense)              (None, 25)                1625      \n",
      "=================================================================\n",
      "Total params: 61,529\n",
      "Trainable params: 61,529\n",
      "Non-trainable params: 0\n",
      "_________________________________________________________________\n"
     ]
    }
   ],
   "source": [
    "model_2 = models.Sequential()\n",
    "model_2.add(layers.Conv2D(32, (3, 3), activation='relu', input_shape=(28, 28, 1)))\n",
    "model_2.add(layers.MaxPooling2D((2, 2)))\n",
    "model_2.add(layers.Conv2D(64, (3, 3), activation='relu', kernel_regularizer=regularizers.l2(l=0.005)))\n",
    "model_2.add(layers.MaxPooling2D((2, 2)))\n",
    "model_2.add(layers.Conv2D(64, (3, 3), activation='relu', kernel_regularizer=regularizers.l2(l=0.005)))\n",
    "model_2.add(layers.MaxPooling2D((2, 2)))\n",
    "model_2.add(layers.Flatten())\n",
    "model_2.add(layers.Dense(64, activation='relu', kernel_regularizer='l2'))\n",
    "model_2.add(layers.Dense(25, kernel_regularizer='l2'))\n",
    "model_2.summary()"
   ]
  },
  {
   "cell_type": "code",
   "execution_count": 8,
   "metadata": {},
   "outputs": [
    {
     "name": "stdout",
     "output_type": "stream",
     "text": [
      "Epoch 1/100\n",
      "858/858 [==============================] - 29s 33ms/step - loss: 3.4826 - accuracy: 0.0655 - val_loss: 2.4878 - val_accuracy: 0.2393\n",
      "Epoch 2/100\n",
      "858/858 [==============================] - 27s 32ms/step - loss: 2.1112 - accuracy: 0.3615 - val_loss: 1.9244 - val_accuracy: 0.4596\n",
      "Epoch 3/100\n",
      "858/858 [==============================] - 40s 47ms/step - loss: 1.5486 - accuracy: 0.5849 - val_loss: 1.5773 - val_accuracy: 0.6076\n",
      "Epoch 4/100\n",
      "858/858 [==============================] - 38s 44ms/step - loss: 1.2221 - accuracy: 0.7106 - val_loss: 1.4356 - val_accuracy: 0.6615\n",
      "Epoch 5/100\n",
      "858/858 [==============================] - 44s 51ms/step - loss: 1.0291 - accuracy: 0.7846 - val_loss: 1.4068 - val_accuracy: 0.6969\n",
      "Epoch 6/100\n",
      "858/858 [==============================] - 34s 39ms/step - loss: 0.9041 - accuracy: 0.8301 - val_loss: 1.3437 - val_accuracy: 0.7027\n",
      "Epoch 7/100\n",
      "858/858 [==============================] - 42s 48ms/step - loss: 0.8096 - accuracy: 0.8774 - val_loss: 1.2924 - val_accuracy: 0.7234\n",
      "Epoch 8/100\n",
      "858/858 [==============================] - 41s 47ms/step - loss: 0.7411 - accuracy: 0.9047 - val_loss: 1.3308 - val_accuracy: 0.7041\n",
      "Epoch 9/100\n",
      "858/858 [==============================] - 35s 41ms/step - loss: 0.6696 - accuracy: 0.9296 - val_loss: 1.3951 - val_accuracy: 0.7093\n",
      "Epoch 10/100\n",
      "858/858 [==============================] - 27s 32ms/step - loss: 0.6368 - accuracy: 0.9408 - val_loss: 1.2016 - val_accuracy: 0.7522\n",
      "Epoch 11/100\n",
      "858/858 [==============================] - 31s 36ms/step - loss: 0.5905 - accuracy: 0.9559 - val_loss: 1.2131 - val_accuracy: 0.7560\n",
      "Epoch 12/100\n",
      "858/858 [==============================] - 31s 36ms/step - loss: 0.5505 - accuracy: 0.9673 - val_loss: 1.1717 - val_accuracy: 0.7656\n",
      "Epoch 13/100\n",
      "858/858 [==============================] - 30s 35ms/step - loss: 0.5261 - accuracy: 0.9701 - val_loss: 1.2551 - val_accuracy: 0.7407\n",
      "Epoch 14/100\n",
      "858/858 [==============================] - 32s 38ms/step - loss: 0.5074 - accuracy: 0.9730 - val_loss: 1.1318 - val_accuracy: 0.7888\n",
      "Epoch 15/100\n",
      "858/858 [==============================] - 36s 42ms/step - loss: 0.5018 - accuracy: 0.9701 - val_loss: 1.2013 - val_accuracy: 0.7614\n",
      "Epoch 16/100\n",
      "858/858 [==============================] - 33s 38ms/step - loss: 0.4624 - accuracy: 0.9823 - val_loss: 1.1328 - val_accuracy: 0.7857\n",
      "Epoch 17/100\n",
      "858/858 [==============================] - 26s 31ms/step - loss: 0.4750 - accuracy: 0.9713 - val_loss: 1.1292 - val_accuracy: 0.7921\n",
      "Epoch 18/100\n",
      "858/858 [==============================] - 27s 31ms/step - loss: 0.4387 - accuracy: 0.9822 - val_loss: 1.1721 - val_accuracy: 0.7850\n",
      "Epoch 19/100\n",
      "858/858 [==============================] - 29s 33ms/step - loss: 0.4425 - accuracy: 0.9783 - val_loss: 1.1349 - val_accuracy: 0.7798\n",
      "Epoch 20/100\n",
      "858/858 [==============================] - 37s 43ms/step - loss: 0.4095 - accuracy: 0.9859 - val_loss: 1.2405 - val_accuracy: 0.7443\n",
      "Epoch 21/100\n",
      "858/858 [==============================] - 26s 31ms/step - loss: 0.4160 - accuracy: 0.9817 - val_loss: 1.1219 - val_accuracy: 0.7808\n",
      "Epoch 22/100\n",
      "858/858 [==============================] - 34s 39ms/step - loss: 0.4122 - accuracy: 0.9806 - val_loss: 1.0494 - val_accuracy: 0.8009\n",
      "Epoch 23/100\n",
      "858/858 [==============================] - 32s 37ms/step - loss: 0.4030 - accuracy: 0.9817 - val_loss: 1.0985 - val_accuracy: 0.7847\n",
      "Epoch 24/100\n",
      "858/858 [==============================] - 35s 40ms/step - loss: 0.3664 - accuracy: 0.9928 - val_loss: 1.0716 - val_accuracy: 0.7879\n",
      "Epoch 25/100\n",
      "858/858 [==============================] - 38s 45ms/step - loss: 0.3689 - accuracy: 0.9882 - val_loss: 1.0841 - val_accuracy: 0.7885\n",
      "Epoch 26/100\n",
      "858/858 [==============================] - 31s 37ms/step - loss: 0.3589 - accuracy: 0.9900 - val_loss: 1.0568 - val_accuracy: 0.7907\n",
      "Epoch 27/100\n",
      "858/858 [==============================] - 31s 36ms/step - loss: 0.3645 - accuracy: 0.9880 - val_loss: 1.1170 - val_accuracy: 0.7857\n",
      "Epoch 28/100\n",
      "858/858 [==============================] - 31s 36ms/step - loss: 0.3522 - accuracy: 0.9889 - val_loss: 1.1399 - val_accuracy: 0.7803\n",
      "Epoch 29/100\n",
      "858/858 [==============================] - 21s 24ms/step - loss: 0.3359 - accuracy: 0.9920 - val_loss: 1.1504 - val_accuracy: 0.7803\n",
      "Epoch 30/100\n",
      "858/858 [==============================] - 19s 22ms/step - loss: 0.3533 - accuracy: 0.9846 - val_loss: 1.2600 - val_accuracy: 0.7433\n",
      "Epoch 31/100\n",
      "858/858 [==============================] - 23s 27ms/step - loss: 0.3375 - accuracy: 0.9888 - val_loss: 1.0926 - val_accuracy: 0.8061\n",
      "Epoch 32/100\n",
      "858/858 [==============================] - 26s 31ms/step - loss: 0.3210 - accuracy: 0.9938 - val_loss: 1.2379 - val_accuracy: 0.7667\n",
      "Epoch 33/100\n",
      "858/858 [==============================] - 29s 34ms/step - loss: 0.3469 - accuracy: 0.9821 - val_loss: 1.1163 - val_accuracy: 0.7960\n",
      "Epoch 34/100\n",
      "858/858 [==============================] - 31s 36ms/step - loss: 0.3412 - accuracy: 0.9826 - val_loss: 1.2748 - val_accuracy: 0.7526\n",
      "Epoch 35/100\n",
      "858/858 [==============================] - 30s 34ms/step - loss: 0.3353 - accuracy: 0.9820 - val_loss: 1.1200 - val_accuracy: 0.7715\n",
      "Epoch 36/100\n",
      "858/858 [==============================] - 37s 44ms/step - loss: 0.3211 - accuracy: 0.9868 - val_loss: 0.9672 - val_accuracy: 0.8250\n",
      "Epoch 37/100\n",
      "858/858 [==============================] - 34s 40ms/step - loss: 0.2874 - accuracy: 0.9957 - val_loss: 1.1072 - val_accuracy: 0.7871\n",
      "Epoch 38/100\n",
      "858/858 [==============================] - 36s 42ms/step - loss: 0.3385 - accuracy: 0.9787 - val_loss: 0.9906 - val_accuracy: 0.8179\n",
      "Epoch 39/100\n",
      "858/858 [==============================] - 39s 46ms/step - loss: 0.2972 - accuracy: 0.9913 - val_loss: 0.9885 - val_accuracy: 0.8120\n",
      "Epoch 40/100\n",
      "858/858 [==============================] - 36s 42ms/step - loss: 0.2860 - accuracy: 0.9941 - val_loss: 0.9994 - val_accuracy: 0.8217\n",
      "Epoch 41/100\n",
      "858/858 [==============================] - 35s 41ms/step - loss: 0.2923 - accuracy: 0.9918 - val_loss: 1.0015 - val_accuracy: 0.8190\n",
      "Epoch 42/100\n",
      "858/858 [==============================] - 34s 40ms/step - loss: 0.2779 - accuracy: 0.9946 - val_loss: 1.0141 - val_accuracy: 0.8136\n",
      "Epoch 43/100\n",
      "858/858 [==============================] - 33s 39ms/step - loss: 0.3009 - accuracy: 0.9861 - val_loss: 1.1553 - val_accuracy: 0.7624\n",
      "Epoch 44/100\n",
      "858/858 [==============================] - 34s 39ms/step - loss: 0.3435 - accuracy: 0.9697 - val_loss: 1.0769 - val_accuracy: 0.8026\n",
      "Epoch 45/100\n",
      "858/858 [==============================] - 38s 45ms/step - loss: 0.2735 - accuracy: 0.9926 - val_loss: 0.8862 - val_accuracy: 0.8369\n",
      "Epoch 46/100\n",
      "858/858 [==============================] - 31s 36ms/step - loss: 0.2892 - accuracy: 0.9881 - val_loss: 0.9120 - val_accuracy: 0.8256\n",
      "Epoch 47/100\n",
      "858/858 [==============================] - 42s 49ms/step - loss: 0.2706 - accuracy: 0.9922 - val_loss: 1.0313 - val_accuracy: 0.7996\n",
      "Epoch 48/100\n",
      "858/858 [==============================] - 35s 40ms/step - loss: 0.2875 - accuracy: 0.9870 - val_loss: 0.9476 - val_accuracy: 0.8305\n",
      "Epoch 49/100\n",
      "858/858 [==============================] - 32s 37ms/step - loss: 0.2517 - accuracy: 0.9958 - val_loss: 0.9621 - val_accuracy: 0.8279\n",
      "Epoch 50/100\n",
      "858/858 [==============================] - 33s 38ms/step - loss: 0.2579 - accuracy: 0.9951 - val_loss: 0.9830 - val_accuracy: 0.8038\n",
      "Epoch 51/100\n",
      "858/858 [==============================] - 27s 31ms/step - loss: 0.2689 - accuracy: 0.9903 - val_loss: 0.8643 - val_accuracy: 0.8210\n",
      "Epoch 52/100\n",
      "858/858 [==============================] - 25s 29ms/step - loss: 0.2982 - accuracy: 0.9805 - val_loss: 0.9011 - val_accuracy: 0.8233\n",
      "Epoch 53/100\n",
      "858/858 [==============================] - 27s 31ms/step - loss: 0.2423 - accuracy: 0.9974 - val_loss: 0.9441 - val_accuracy: 0.8231\n",
      "Epoch 54/100\n",
      "858/858 [==============================] - 29s 34ms/step - loss: 0.2479 - accuracy: 0.9967 - val_loss: 1.0917 - val_accuracy: 0.7501\n",
      "Epoch 55/100\n",
      "858/858 [==============================] - 29s 34ms/step - loss: 0.3137 - accuracy: 0.9713 - val_loss: 0.9002 - val_accuracy: 0.8080\n",
      "Epoch 56/100\n",
      "858/858 [==============================] - 26s 31ms/step - loss: 0.2966 - accuracy: 0.9769 - val_loss: 0.9567 - val_accuracy: 0.8074\n",
      "Epoch 57/100\n",
      "858/858 [==============================] - 25s 30ms/step - loss: 0.2406 - accuracy: 0.9977 - val_loss: 0.9764 - val_accuracy: 0.7903\n",
      "Epoch 58/100\n",
      "858/858 [==============================] - 22s 26ms/step - loss: 0.2577 - accuracy: 0.9910 - val_loss: 0.9040 - val_accuracy: 0.8342\n",
      "Epoch 59/100\n",
      "858/858 [==============================] - 24s 27ms/step - loss: 0.2458 - accuracy: 0.9946 - val_loss: 0.9053 - val_accuracy: 0.8194\n",
      "Epoch 60/100\n",
      "858/858 [==============================] - 22s 26ms/step - loss: 0.2788 - accuracy: 0.9822 - val_loss: 0.8803 - val_accuracy: 0.8462\n",
      "Epoch 61/100\n",
      "858/858 [==============================] - 28s 33ms/step - loss: 0.2332 - accuracy: 0.9957 - val_loss: 0.8527 - val_accuracy: 0.8397\n",
      "Epoch 62/100\n",
      "858/858 [==============================] - 24s 28ms/step - loss: 0.2359 - accuracy: 0.9965 - val_loss: 0.8406 - val_accuracy: 0.8452\n",
      "Epoch 63/100\n",
      "858/858 [==============================] - 26s 30ms/step - loss: 0.2476 - accuracy: 0.9895 - val_loss: 0.8948 - val_accuracy: 0.8292\n",
      "Epoch 64/100\n",
      "858/858 [==============================] - 28s 33ms/step - loss: 0.2274 - accuracy: 0.9979 - val_loss: 1.0346 - val_accuracy: 0.7817\n",
      "Epoch 65/100\n",
      "858/858 [==============================] - 24s 28ms/step - loss: 0.2748 - accuracy: 0.9823 - val_loss: 0.8502 - val_accuracy: 0.8214\n",
      "Epoch 66/100\n",
      "858/858 [==============================] - 25s 29ms/step - loss: 0.2449 - accuracy: 0.9901 - val_loss: 0.8529 - val_accuracy: 0.8586\n",
      "Epoch 67/100\n",
      "858/858 [==============================] - 24s 28ms/step - loss: 0.2296 - accuracy: 0.9937 - val_loss: 0.8486 - val_accuracy: 0.8334\n",
      "Epoch 68/100\n",
      "858/858 [==============================] - 31s 36ms/step - loss: 0.2202 - accuracy: 0.9988 - val_loss: 0.8926 - val_accuracy: 0.8065\n",
      "Epoch 69/100\n",
      "858/858 [==============================] - 25s 29ms/step - loss: 0.2682 - accuracy: 0.9824 - val_loss: 0.9056 - val_accuracy: 0.8217\n",
      "Epoch 70/100\n",
      "858/858 [==============================] - 25s 29ms/step - loss: 0.2525 - accuracy: 0.9886 - val_loss: 0.8526 - val_accuracy: 0.8310\n",
      "Epoch 71/100\n",
      "858/858 [==============================] - 24s 28ms/step - loss: 0.2237 - accuracy: 0.9950 - val_loss: 0.8689 - val_accuracy: 0.8420\n",
      "Epoch 72/100\n",
      "858/858 [==============================] - 23s 26ms/step - loss: 0.2172 - accuracy: 0.9983 - val_loss: 0.8101 - val_accuracy: 0.8519\n",
      "Epoch 73/100\n",
      "858/858 [==============================] - 23s 27ms/step - loss: 0.2433 - accuracy: 0.9874 - val_loss: 0.8307 - val_accuracy: 0.8484\n",
      "Epoch 74/100\n",
      "858/858 [==============================] - 24s 28ms/step - loss: 0.2106 - accuracy: 0.9987 - val_loss: 1.2303 - val_accuracy: 0.7553\n",
      "Epoch 75/100\n",
      "858/858 [==============================] - 24s 28ms/step - loss: 0.2733 - accuracy: 0.9807 - val_loss: 0.8132 - val_accuracy: 0.8443\n",
      "Epoch 76/100\n",
      "858/858 [==============================] - 26s 31ms/step - loss: 0.2218 - accuracy: 0.9936 - val_loss: 0.7931 - val_accuracy: 0.8500\n",
      "Epoch 77/100\n",
      "858/858 [==============================] - 24s 28ms/step - loss: 0.2370 - accuracy: 0.9901 - val_loss: 0.8378 - val_accuracy: 0.8338\n",
      "Epoch 78/100\n",
      "858/858 [==============================] - 24s 28ms/step - loss: 0.2196 - accuracy: 0.9944 - val_loss: 0.8934 - val_accuracy: 0.8203\n",
      "Epoch 79/100\n",
      "858/858 [==============================] - 23s 27ms/step - loss: 0.2078 - accuracy: 0.9983 - val_loss: 0.8507 - val_accuracy: 0.8420\n",
      "Epoch 80/100\n",
      "858/858 [==============================] - 23s 26ms/step - loss: 0.2253 - accuracy: 0.9946 - val_loss: 0.7918 - val_accuracy: 0.8561\n",
      "Epoch 81/100\n",
      "858/858 [==============================] - 25s 30ms/step - loss: 0.2704 - accuracy: 0.9768 - val_loss: 0.8585 - val_accuracy: 0.8309\n",
      "Epoch 82/100\n",
      "858/858 [==============================] - 24s 28ms/step - loss: 0.2035 - accuracy: 0.9987 - val_loss: 1.0696 - val_accuracy: 0.7878\n",
      "Epoch 83/100\n",
      "858/858 [==============================] - 24s 28ms/step - loss: 0.2527 - accuracy: 0.9840 - val_loss: 0.8260 - val_accuracy: 0.8348\n",
      "Epoch 84/100\n",
      "858/858 [==============================] - 24s 28ms/step - loss: 0.2456 - accuracy: 0.9856 - val_loss: 0.9013 - val_accuracy: 0.8402\n",
      "Epoch 85/100\n",
      "858/858 [==============================] - 25s 29ms/step - loss: 0.2334 - accuracy: 0.9886 - val_loss: 0.8690 - val_accuracy: 0.8371\n",
      "Epoch 86/100\n",
      "858/858 [==============================] - 25s 29ms/step - loss: 0.2068 - accuracy: 0.9959 - val_loss: 0.9178 - val_accuracy: 0.8278\n",
      "Epoch 87/100\n",
      "858/858 [==============================] - 23s 27ms/step - loss: 0.2041 - accuracy: 0.9980 - val_loss: 0.8600 - val_accuracy: 0.8203\n",
      "Epoch 88/100\n",
      "858/858 [==============================] - 23s 27ms/step - loss: 0.2701 - accuracy: 0.9745 - val_loss: 0.8269 - val_accuracy: 0.8451\n",
      "Epoch 89/100\n",
      "858/858 [==============================] - 24s 28ms/step - loss: 0.2221 - accuracy: 0.9889 - val_loss: 0.8277 - val_accuracy: 0.8505\n",
      "Epoch 90/100\n",
      "858/858 [==============================] - 27s 31ms/step - loss: 0.2014 - accuracy: 0.9965 - val_loss: 1.0223 - val_accuracy: 0.8203\n",
      "Epoch 91/100\n",
      "858/858 [==============================] - 27s 31ms/step - loss: 0.1923 - accuracy: 0.9998 - val_loss: 0.8810 - val_accuracy: 0.8186\n",
      "Epoch 92/100\n",
      "858/858 [==============================] - 28s 32ms/step - loss: 0.2554 - accuracy: 0.9790 - val_loss: 0.8084 - val_accuracy: 0.8480\n",
      "Epoch 93/100\n",
      "858/858 [==============================] - 23s 27ms/step - loss: 0.2276 - accuracy: 0.9874 - val_loss: 0.7893 - val_accuracy: 0.8448\n",
      "Epoch 94/100\n",
      "858/858 [==============================] - 24s 28ms/step - loss: 0.2258 - accuracy: 0.9882 - val_loss: 0.8493 - val_accuracy: 0.8327\n",
      "Epoch 95/100\n",
      "858/858 [==============================] - 24s 28ms/step - loss: 0.2019 - accuracy: 0.9944 - val_loss: 0.9523 - val_accuracy: 0.8115\n",
      "Epoch 96/100\n",
      "858/858 [==============================] - 23s 27ms/step - loss: 0.1928 - accuracy: 0.9996 - val_loss: 0.8455 - val_accuracy: 0.8309\n",
      "Epoch 97/100\n",
      "858/858 [==============================] - 28s 33ms/step - loss: 0.2348 - accuracy: 0.9846 - val_loss: 0.8224 - val_accuracy: 0.8246\n",
      "Epoch 98/100\n",
      "858/858 [==============================] - 34s 40ms/step - loss: 0.1905 - accuracy: 0.9979 - val_loss: 0.9414 - val_accuracy: 0.8003\n",
      "Epoch 99/100\n",
      "858/858 [==============================] - 31s 36ms/step - loss: 0.2523 - accuracy: 0.9782 - val_loss: 1.0946 - val_accuracy: 0.7741\n",
      "Epoch 100/100\n",
      "858/858 [==============================] - 25s 29ms/step - loss: 0.2215 - accuracy: 0.9885 - val_loss: 0.8064 - val_accuracy: 0.8423\n"
     ]
    }
   ],
   "source": [
    "model_2.compile(optimizer='adam',\n",
    "                loss=tf.keras.losses.SparseCategoricalCrossentropy(from_logits=True), \n",
    "                metrics=['accuracy'])\n",
    "history_2 = model_2.fit(X_train, y_train, epochs=100, validation_data=(X_test, y_test))"
   ]
  },
  {
   "cell_type": "code",
   "execution_count": 9,
   "metadata": {},
   "outputs": [
    {
     "name": "stdout",
     "output_type": "stream",
     "text": [
      "Testing Loss: 0.8063716292381287\n",
      "Testing Accuracy: 0.8423033952713013\n",
      "Training Accuracy: 0.9967219233512878\n"
     ]
    },
    {
     "data": {
      "image/png": "[encoded data removed]",
      "text/plain": [
       "<Figure size 432x288 with 1 Axes>"
      ]
     },
     "metadata": {
      "needs_background": "light"
     },
     "output_type": "display_data"
    }
   ],
   "source": [
    "test_loss2, test_acc2 = model_2.evaluate(X_test,  y_test, verbose = 0)\n",
    "training_acc2 = history_2.history['accuracy'][-1]\n",
    "print('Testing Loss: {}\\nTesting Accuracy: {}\\nTraining Accuracy: {}'.format(test_loss2, test_acc2, training_acc2))\n",
    "plot_accuracy(model_2, history_2)"
   ]
  },
  {
   "cell_type": "markdown",
   "metadata": {},
   "source": [
    "## Model 3: Dropout Layers\n",
    "After Conv2D Layers\n",
    "\n",
    "Dropout layers reduces the complexity of the neural network by randomly terminating a specified proportion of nodes. Here, 20% of the nodes are removed after the 2nd and 3rd Conv2D layers. "
   ]
  },
  {
   "cell_type": "code",
   "execution_count": 10,
   "metadata": {},
   "outputs": [
    {
     "name": "stdout",
     "output_type": "stream",
     "text": [
      "Model: \"sequential_2\"\n",
      "_________________________________________________________________\n",
      "Layer (type)                 Output Shape              Param #   \n",
      "=================================================================\n",
      "conv2d_6 (Conv2D)            (None, 26, 26, 32)        320       \n",
      "_________________________________________________________________\n",
      "max_pooling2d_5 (MaxPooling2 (None, 13, 13, 32)        0         \n",
      "_________________________________________________________________\n",
      "conv2d_7 (Conv2D)            (None, 11, 11, 64)        18496     \n",
      "_________________________________________________________________\n",
      "dropout (Dropout)            (None, 11, 11, 64)        0         \n",
      "_________________________________________________________________\n",
      "max_pooling2d_6 (MaxPooling2 (None, 5, 5, 64)          0         \n",
      "_________________________________________________________________\n",
      "conv2d_8 (Conv2D)            (None, 3, 3, 64)          36928     \n",
      "_________________________________________________________________\n",
      "dropout_1 (Dropout)          (None, 3, 3, 64)          0         \n",
      "_________________________________________________________________\n",
      "flatten_2 (Flatten)          (None, 576)               0         \n",
      "_________________________________________________________________\n",
      "dense_4 (Dense)              (None, 64)                36928     \n",
      "_________________________________________________________________\n",
      "dense_5 (Dense)              (None, 25)                1625      \n",
      "=================================================================\n",
      "Total params: 94,297\n",
      "Trainable params: 94,297\n",
      "Non-trainable params: 0\n",
      "_________________________________________________________________\n"
     ]
    }
   ],
   "source": [
    "model_3 = models.Sequential()\n",
    "model_3.add(layers.Conv2D(32, (3, 3), activation='relu', input_shape=(28, 28, 1)))\n",
    "model_3.add(layers.MaxPooling2D((2, 2)))\n",
    "model_3.add(layers.Conv2D(64, (3, 3), activation='relu'))\n",
    "model_3.add(layers.Dropout(0.2))\n",
    "model_3.add(layers.MaxPooling2D((2, 2)))\n",
    "model_3.add(layers.Conv2D(64, (3, 3), activation='relu'))\n",
    "model_3.add(layers.Dropout(0.2))\n",
    "model_3.add(layers.Flatten())\n",
    "model_3.add(layers.Dense(64, activation='relu'))\n",
    "model_3.add(layers.Dense(25))\n",
    "model_3.summary()"
   ]
  },
  {
   "cell_type": "code",
   "execution_count": 11,
   "metadata": {},
   "outputs": [
    {
     "name": "stdout",
     "output_type": "stream",
     "text": [
      "Epoch 1/10\n",
      "858/858 [==============================] - 48s 54ms/step - loss: 1.9228 - accuracy: 0.4165 - val_loss: 0.4329 - val_accuracy: 0.8667\n",
      "Epoch 2/10\n",
      "858/858 [==============================] - 48s 56ms/step - loss: 0.1947 - accuracy: 0.9356 - val_loss: 0.3334 - val_accuracy: 0.9084\n",
      "Epoch 3/10\n",
      "858/858 [==============================] - 39s 45ms/step - loss: 0.0709 - accuracy: 0.9783 - val_loss: 0.4245 - val_accuracy: 0.8813\n",
      "Epoch 4/10\n",
      "858/858 [==============================] - 47s 55ms/step - loss: 0.0445 - accuracy: 0.9858 - val_loss: 0.3133 - val_accuracy: 0.9170\n",
      "Epoch 5/10\n",
      "858/858 [==============================] - 50s 58ms/step - loss: 0.0297 - accuracy: 0.9911 - val_loss: 0.2619 - val_accuracy: 0.9459\n",
      "Epoch 6/10\n",
      "858/858 [==============================] - 48s 56ms/step - loss: 0.0245 - accuracy: 0.9923 - val_loss: 0.2746 - val_accuracy: 0.9426\n",
      "Epoch 7/10\n",
      "858/858 [==============================] - 45s 52ms/step - loss: 0.0184 - accuracy: 0.9939 - val_loss: 0.2838 - val_accuracy: 0.9396\n",
      "Epoch 8/10\n",
      "858/858 [==============================] - 32s 37ms/step - loss: 0.0151 - accuracy: 0.9952 - val_loss: 0.2619 - val_accuracy: 0.9420\n",
      "Epoch 9/10\n",
      "858/858 [==============================] - 28s 33ms/step - loss: 0.0142 - accuracy: 0.9954 - val_loss: 0.2417 - val_accuracy: 0.9513\n",
      "Epoch 10/10\n",
      "858/858 [==============================] - 30s 34ms/step - loss: 0.0119 - accuracy: 0.9961 - val_loss: 0.3250 - val_accuracy: 0.9370\n"
     ]
    }
   ],
   "source": [
    "model_3.compile(optimizer='adam',\n",
    "                loss=tf.keras.losses.SparseCategoricalCrossentropy(from_logits=True), \n",
    "                metrics=['accuracy'])\n",
    "history_3 = model_3.fit(X_train, y_train, epochs=10, validation_data=(X_test, y_test))"
   ]
  },
  {
   "cell_type": "code",
   "execution_count": 12,
   "metadata": {},
   "outputs": [
    {
     "name": "stdout",
     "output_type": "stream",
     "text": [
      "Testing Loss: 0.3249976336956024\n",
      "Testing Accuracy: 0.9369771480560303\n",
      "Training Accuracy: 0.9937716126441956\n"
     ]
    },
    {
     "data": {
      "image/png": "[encoded data removed]",
      "text/plain": [
       "<Figure size 432x288 with 1 Axes>"
      ]
     },
     "metadata": {
      "needs_background": "light"
     },
     "output_type": "display_data"
    }
   ],
   "source": [
    "test_loss3, test_acc3 = model_3.evaluate(X_test,  y_test, verbose = 0)\n",
    "training_acc3 = history_3.history['accuracy'][-1]\n",
    "print('Testing Loss: {}\\nTesting Accuracy: {}\\nTraining Accuracy: {}'.format(test_loss3, test_acc3, training_acc3))\n",
    "plot_accuracy(model_3, history_3)"
   ]
  },
  {
   "cell_type": "markdown",
   "metadata": {},
   "source": [
    "## Model 4: Weight Initialization\n",
    "\n",
    "Using the `he_normal` weight initialization, the training accuracy approaches 100% in just three iterations. A different approach would be better. "
   ]
  },
  {
   "cell_type": "code",
   "execution_count": 13,
   "metadata": {},
   "outputs": [
    {
     "name": "stdout",
     "output_type": "stream",
     "text": [
      "Model: \"sequential_3\"\n",
      "_________________________________________________________________\n",
      "Layer (type)                 Output Shape              Param #   \n",
      "=================================================================\n",
      "conv2d_9 (Conv2D)            (None, 26, 26, 32)        320       \n",
      "_________________________________________________________________\n",
      "max_pooling2d_7 (MaxPooling2 (None, 13, 13, 32)        0         \n",
      "_________________________________________________________________\n",
      "conv2d_10 (Conv2D)           (None, 11, 11, 64)        18496     \n",
      "_________________________________________________________________\n",
      "max_pooling2d_8 (MaxPooling2 (None, 5, 5, 64)          0         \n",
      "_________________________________________________________________\n",
      "conv2d_11 (Conv2D)           (None, 3, 3, 64)          36928     \n",
      "_________________________________________________________________\n",
      "flatten_3 (Flatten)          (None, 576)               0         \n",
      "_________________________________________________________________\n",
      "dense_6 (Dense)              (None, 64)                36928     \n",
      "_________________________________________________________________\n",
      "dense_7 (Dense)              (None, 25)                1625      \n",
      "=================================================================\n",
      "Total params: 94,297\n",
      "Trainable params: 94,297\n",
      "Non-trainable params: 0\n",
      "_________________________________________________________________\n"
     ]
    }
   ],
   "source": [
    "model_4 = models.Sequential()\n",
    "model_4.add(layers.Conv2D(32, (3, 3), activation='relu', kernel_initializer= 'he_normal', input_shape=(28, 28, 1)))\n",
    "model_4.add(layers.MaxPooling2D((2, 2)))\n",
    "model_4.add(layers.Conv2D(64, (3, 3), activation='relu'))\n",
    "model_4.add(layers.MaxPooling2D((2, 2)))\n",
    "model_4.add(layers.Conv2D(64, (3, 3), activation='relu'))\n",
    "model_4.add(layers.Flatten())\n",
    "model_4.add(layers.Dense(64, activation='relu'))\n",
    "model_4.add(layers.Dense(25))\n",
    "model_4.summary()"
   ]
  },
  {
   "cell_type": "code",
   "execution_count": 14,
   "metadata": {},
   "outputs": [
    {
     "name": "stdout",
     "output_type": "stream",
     "text": [
      "Epoch 1/10\n",
      "858/858 [==============================] - 27s 31ms/step - loss: 1.6326 - accuracy: 0.5152 - val_loss: 0.4717 - val_accuracy: 0.8652\n",
      "Epoch 2/10\n",
      "858/858 [==============================] - 25s 29ms/step - loss: 0.0606 - accuracy: 0.9855 - val_loss: 0.4488 - val_accuracy: 0.9091\n",
      "Epoch 3/10\n",
      "858/858 [==============================] - 24s 28ms/step - loss: 0.0183 - accuracy: 0.9956 - val_loss: 0.4738 - val_accuracy: 0.9078\n",
      "Epoch 4/10\n",
      "858/858 [==============================] - 25s 29ms/step - loss: 0.0045 - accuracy: 0.9989 - val_loss: 0.4584 - val_accuracy: 0.8919\n",
      "Epoch 5/10\n",
      "858/858 [==============================] - 24s 28ms/step - loss: 0.0068 - accuracy: 0.9986 - val_loss: 0.4575 - val_accuracy: 0.9076\n",
      "Epoch 6/10\n",
      "858/858 [==============================] - 25s 29ms/step - loss: 2.0308e-04 - accuracy: 1.0000 - val_loss: 0.4750 - val_accuracy: 0.9110\n",
      "Epoch 7/10\n",
      "858/858 [==============================] - 26s 30ms/step - loss: 1.0786e-04 - accuracy: 1.0000 - val_loss: 0.4943 - val_accuracy: 0.9147\n",
      "Epoch 8/10\n",
      "858/858 [==============================] - 24s 28ms/step - loss: 7.0749e-05 - accuracy: 1.0000 - val_loss: 0.5169 - val_accuracy: 0.9124\n",
      "Epoch 9/10\n",
      "858/858 [==============================] - 25s 29ms/step - loss: 4.8156e-05 - accuracy: 1.0000 - val_loss: 0.5235 - val_accuracy: 0.9130\n",
      "Epoch 10/10\n",
      "858/858 [==============================] - 25s 28ms/step - loss: 0.0219 - accuracy: 0.9935 - val_loss: 0.4303 - val_accuracy: 0.9254\n"
     ]
    }
   ],
   "source": [
    "model_4.compile(optimizer='adam',\n",
    "                loss=tf.keras.losses.SparseCategoricalCrossentropy(from_logits=True), \n",
    "                metrics=['accuracy'])\n",
    "history_4 = model_4.fit(X_train, y_train, epochs=10, validation_data=(X_test, y_test))"
   ]
  },
  {
   "cell_type": "code",
   "execution_count": 15,
   "metadata": {},
   "outputs": [
    {
     "name": "stdout",
     "output_type": "stream",
     "text": [
      "Testing Loss: 0.4303167462348938\n",
      "Testing Accuracy: 0.9254043698310852\n",
      "Training Accuracy: 0.9906027913093567\n"
     ]
    },
    {
     "data": {
      "image/png": "[encoded data removed]",
      "text/plain": [
       "<Figure size 432x288 with 1 Axes>"
      ]
     },
     "metadata": {
      "needs_background": "light"
     },
     "output_type": "display_data"
    }
   ],
   "source": [
    "test_loss4, test_acc4 = model_4.evaluate(X_test,  y_test, verbose = 0)\n",
    "training_acc4 = history_4.history['accuracy'][-1]\n",
    "print('Testing Loss: {}\\nTesting Accuracy: {}\\nTraining Accuracy: {}'.format(test_loss4, test_acc4, training_acc4))\n",
    "plot_accuracy(model_4, history_4)"
   ]
  },
  {
   "cell_type": "markdown",
   "metadata": {},
   "source": [
    "## Model 5: Dropout\n",
    "After MaxPooling\n",
    "\n",
    "The addition of dropout layers appeared to be a promising approach. Other articles online indicated that placement of Dropout layers after MaxPooling is also effective. This is applied here, along with the addition of another Conv2D -> MaxPooling. The testing accuracy here is the best so far at 94.8 %, while the training accuracy is at 96.9%. This appears to generalize better being less complex than the baseline model which reached a 100% training accuracy."
   ]
  },
  {
   "cell_type": "code",
   "execution_count": 16,
   "metadata": {},
   "outputs": [
    {
     "name": "stdout",
     "output_type": "stream",
     "text": [
      "Model: \"sequential_4\"\n",
      "_________________________________________________________________\n",
      "Layer (type)                 Output Shape              Param #   \n",
      "=================================================================\n",
      "conv2d_12 (Conv2D)           (None, 26, 26, 32)        320       \n",
      "_________________________________________________________________\n",
      "max_pooling2d_9 (MaxPooling2 (None, 13, 13, 32)        0         \n",
      "_________________________________________________________________\n",
      "dropout_2 (Dropout)          (None, 13, 13, 32)        0         \n",
      "_________________________________________________________________\n",
      "conv2d_13 (Conv2D)           (None, 11, 11, 64)        18496     \n",
      "_________________________________________________________________\n",
      "max_pooling2d_10 (MaxPooling (None, 5, 5, 64)          0         \n",
      "_________________________________________________________________\n",
      "dropout_3 (Dropout)          (None, 5, 5, 64)          0         \n",
      "_________________________________________________________________\n",
      "conv2d_14 (Conv2D)           (None, 3, 3, 64)          36928     \n",
      "_________________________________________________________________\n",
      "max_pooling2d_11 (MaxPooling (None, 1, 1, 64)          0         \n",
      "_________________________________________________________________\n",
      "dropout_4 (Dropout)          (None, 1, 1, 64)          0         \n",
      "_________________________________________________________________\n",
      "flatten_4 (Flatten)          (None, 64)                0         \n",
      "_________________________________________________________________\n",
      "dense_8 (Dense)              (None, 64)                4160      \n",
      "_________________________________________________________________\n",
      "dense_9 (Dense)              (None, 25)                1625      \n",
      "=================================================================\n",
      "Total params: 61,529\n",
      "Trainable params: 61,529\n",
      "Non-trainable params: 0\n",
      "_________________________________________________________________\n"
     ]
    }
   ],
   "source": [
    "model_5 = models.Sequential()\n",
    "model_5.add(layers.Conv2D(32, (3, 3), activation='relu', input_shape=(28, 28, 1)))\n",
    "model_5.add(layers.MaxPooling2D((2, 2)))\n",
    "model_5.add(layers.Dropout(0.2))\n",
    "model_5.add(layers.Conv2D(64, (3, 3), activation='relu'))\n",
    "model_5.add(layers.MaxPooling2D((2, 2)))\n",
    "model_5.add(layers.Dropout(0.2))\n",
    "model_5.add(layers.Conv2D(64, (3, 3), activation='relu'))\n",
    "model_5.add(layers.MaxPooling2D((2, 2)))\n",
    "model_5.add(layers.Dropout(0.2))\n",
    "model_5.add(layers.Flatten())\n",
    "model_5.add(layers.Dense(64, activation='relu'))\n",
    "model_5.add(layers.Dense(25))\n",
    "model_5.summary()"
   ]
  },
  {
   "cell_type": "code",
   "execution_count": 17,
   "metadata": {},
   "outputs": [
    {
     "name": "stdout",
     "output_type": "stream",
     "text": [
      "Epoch 1/10\n",
      "858/858 [==============================] - 27s 30ms/step - loss: 2.6140 - accuracy: 0.1951 - val_loss: 0.8425 - val_accuracy: 0.7121\n",
      "Epoch 2/10\n",
      "858/858 [==============================] - 29s 34ms/step - loss: 0.8263 - accuracy: 0.7191 - val_loss: 0.4904 - val_accuracy: 0.8245\n",
      "Epoch 3/10\n",
      "858/858 [==============================] - 30s 35ms/step - loss: 0.4735 - accuracy: 0.8410 - val_loss: 0.3603 - val_accuracy: 0.8659\n",
      "Epoch 4/10\n",
      "858/858 [==============================] - 27s 32ms/step - loss: 0.3119 - accuracy: 0.8962 - val_loss: 0.2551 - val_accuracy: 0.9081\n",
      "Epoch 5/10\n",
      "858/858 [==============================] - 31s 37ms/step - loss: 0.2325 - accuracy: 0.9223 - val_loss: 0.2526 - val_accuracy: 0.9073\n",
      "Epoch 6/10\n",
      "858/858 [==============================] - 30s 35ms/step - loss: 0.1773 - accuracy: 0.9413 - val_loss: 0.2317 - val_accuracy: 0.9382\n",
      "Epoch 7/10\n",
      "858/858 [==============================] - 26s 30ms/step - loss: 0.1495 - accuracy: 0.9511 - val_loss: 0.2088 - val_accuracy: 0.9465\n",
      "Epoch 8/10\n",
      "858/858 [==============================] - 30s 35ms/step - loss: 0.1224 - accuracy: 0.9604 - val_loss: 0.1560 - val_accuracy: 0.9483\n",
      "Epoch 9/10\n",
      "858/858 [==============================] - 29s 34ms/step - loss: 0.1062 - accuracy: 0.9641 - val_loss: 0.1461 - val_accuracy: 0.9573\n",
      "Epoch 10/10\n",
      "858/858 [==============================] - 27s 31ms/step - loss: 0.0945 - accuracy: 0.9697 - val_loss: 0.1924 - val_accuracy: 0.9484\n"
     ]
    }
   ],
   "source": [
    "model_5.compile(optimizer='adam',\n",
    "                loss=tf.keras.losses.SparseCategoricalCrossentropy(from_logits=True), \n",
    "                metrics=['accuracy'])\n",
    "history_5 = model_5.fit(X_train, y_train, epochs=10, validation_data=(X_test, y_test))"
   ]
  },
  {
   "cell_type": "code",
   "execution_count": 18,
   "metadata": {},
   "outputs": [
    {
     "name": "stdout",
     "output_type": "stream",
     "text": [
      "Testing Loss: 0.1924448162317276\n",
      "Testing Accuracy: 0.9484105110168457\n",
      "Training Accuracy: 0.968639612197876\n"
     ]
    },
    {
     "data": {
      "image/png": "[encoded data removed]",
      "text/plain": [
       "<Figure size 432x288 with 1 Axes>"
      ]
     },
     "metadata": {
      "needs_background": "light"
     },
     "output_type": "display_data"
    }
   ],
   "source": [
    "test_loss5, test_acc5 = model_5.evaluate(X_test,  y_test, verbose = 0)\n",
    "training_acc5 = history_5.history['accuracy'][-1]\n",
    "print('Testing Loss: {}\\nTesting Accuracy: {}\\nTraining Accuracy: {}'.format(test_loss5, test_acc5, training_acc5))\n",
    "plot_accuracy(model_5, history_5)"
   ]
  },
  {
   "cell_type": "code",
   "execution_count": 22,
   "metadata": {},
   "outputs": [
    {
     "data": {
      "text/html": [
       "<div>\n",
       "<style scoped>\n",
       "    .dataframe tbody tr th:only-of-type {\n",
       "        vertical-align: middle;\n",
       "    }\n",
       "\n",
       "    .dataframe tbody tr th {\n",
       "        vertical-align: top;\n",
       "    }\n",
       "\n",
       "    .dataframe thead th {\n",
       "        text-align: right;\n",
       "    }\n",
       "</style>\n",
       "<table border=\"1\" class=\"dataframe\">\n",
       "  <thead>\n",
       "    <tr style=\"text-align: right;\">\n",
       "      <th></th>\n",
       "      <th>Training Accuracy</th>\n",
       "      <th>Testing Accuracy</th>\n",
       "      <th>Testing Loss</th>\n",
       "    </tr>\n",
       "  </thead>\n",
       "  <tbody>\n",
       "    <tr>\n",
       "      <th>0</th>\n",
       "      <td>1.000000</td>\n",
       "      <td>0.930424</td>\n",
       "      <td>0.326212</td>\n",
       "    </tr>\n",
       "    <tr>\n",
       "      <th>1</th>\n",
       "      <td>0.996722</td>\n",
       "      <td>0.842303</td>\n",
       "      <td>0.806372</td>\n",
       "    </tr>\n",
       "    <tr>\n",
       "      <th>2</th>\n",
       "      <td>0.993772</td>\n",
       "      <td>0.936977</td>\n",
       "      <td>0.324998</td>\n",
       "    </tr>\n",
       "    <tr>\n",
       "      <th>3</th>\n",
       "      <td>0.990603</td>\n",
       "      <td>0.925404</td>\n",
       "      <td>0.430317</td>\n",
       "    </tr>\n",
       "    <tr>\n",
       "      <th>4</th>\n",
       "      <td>0.968640</td>\n",
       "      <td>0.948411</td>\n",
       "      <td>0.192445</td>\n",
       "    </tr>\n",
       "  </tbody>\n",
       "</table>\n",
       "</div>"
      ],
      "text/plain": [
       "   Training Accuracy  Testing Accuracy  Testing Loss\n",
       "0           1.000000          0.930424      0.326212\n",
       "1           0.996722          0.842303      0.806372\n",
       "2           0.993772          0.936977      0.324998\n",
       "3           0.990603          0.925404      0.430317\n",
       "4           0.968640          0.948411      0.192445"
      ]
     },
     "execution_count": 22,
     "metadata": {},
     "output_type": "execute_result"
    }
   ],
   "source": [
    "training_acc = [training_acc1, training_acc2, training_acc3, training_acc4, training_acc5]\n",
    "testing_acc = [test_acc1, test_acc2, test_acc3, test_acc4, test_acc5]\n",
    "testing_loss = [test_loss1, test_loss2, test_loss3, test_loss4, test_loss5]\n",
    "\n",
    "results_dict = {'Training Accuracy': training_acc, 'Testing Accuracy': testing_acc, 'Testing Loss': testing_loss}\n",
    "results = pd.DataFrame(results_dict)\n",
    "results"
   ]
  },
  {
   "cell_type": "markdown",
   "metadata": {},
   "source": [
    "##"
   ]
  }
 ],
 "metadata": {
  "interpreter": {
   "hash": "e348f125b6f91a14eca7d5249f64a17f3ef476ef6da90e21206c2cb49670b48b"
  },
  "kernelspec": {
   "display_name": "Python 3.8.3 ('base')",
   "language": "python",
   "name": "python3"
  },
  "language_info": {
   "codemirror_mode": {
    "name": "ipython",
    "version": 3
   },
   "file_extension": ".py",
   "mimetype": "text/x-python",
   "name": "python",
   "nbconvert_exporter": "python",
   "pygments_lexer": "ipython3",
   "version": "3.8.3"
  },
  "orig_nbformat": 4
 },
 "nbformat": 4,
 "nbformat_minor": 2
}
