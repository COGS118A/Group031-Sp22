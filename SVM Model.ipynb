{
 "cells": [
  {
   "cell_type": "markdown",
   "id": "5e42c2aa",
   "metadata": {},
   "source": [
    "# SVM Model"
   ]
  },
  {
   "cell_type": "markdown",
   "id": "5fb17961",
   "metadata": {},
   "source": [
    "In this notebook, we will train dataset using SVM model. We will first look into the dataset (Data Analysis), try different combinations of hyperparameter using GridSearchCV, and some sanity check. "
   ]
  },
  {
   "cell_type": "markdown",
   "id": "0e727717",
   "metadata": {},
   "source": [
    "## Section 1 - Data Analysis"
   ]
  },
  {
   "cell_type": "code",
   "execution_count": 1,
   "id": "27ed4199",
   "metadata": {},
   "outputs": [],
   "source": [
    "import pandas as pd\n",
    "import numpy as np\n",
    "import matplotlib.pyplot as plt\n",
    "import seaborn as sns\n",
    "import sklearn"
   ]
  },
  {
   "cell_type": "code",
   "execution_count": 2,
   "id": "38454955",
   "metadata": {},
   "outputs": [
    {
     "data": {
      "text/html": [
       "<div>\n",
       "<style scoped>\n",
       "    .dataframe tbody tr th:only-of-type {\n",
       "        vertical-align: middle;\n",
       "    }\n",
       "\n",
       "    .dataframe tbody tr th {\n",
       "        vertical-align: top;\n",
       "    }\n",
       "\n",
       "    .dataframe thead th {\n",
       "        text-align: right;\n",
       "    }\n",
       "</style>\n",
       "<table border=\"1\" class=\"dataframe\">\n",
       "  <thead>\n",
       "    <tr style=\"text-align: right;\">\n",
       "      <th></th>\n",
       "      <th>label</th>\n",
       "      <th>pixel1</th>\n",
       "      <th>pixel2</th>\n",
       "      <th>pixel3</th>\n",
       "      <th>pixel4</th>\n",
       "      <th>pixel5</th>\n",
       "      <th>pixel6</th>\n",
       "      <th>pixel7</th>\n",
       "      <th>pixel8</th>\n",
       "      <th>pixel9</th>\n",
       "      <th>...</th>\n",
       "      <th>pixel775</th>\n",
       "      <th>pixel776</th>\n",
       "      <th>pixel777</th>\n",
       "      <th>pixel778</th>\n",
       "      <th>pixel779</th>\n",
       "      <th>pixel780</th>\n",
       "      <th>pixel781</th>\n",
       "      <th>pixel782</th>\n",
       "      <th>pixel783</th>\n",
       "      <th>pixel784</th>\n",
       "    </tr>\n",
       "  </thead>\n",
       "  <tbody>\n",
       "    <tr>\n",
       "      <th>0</th>\n",
       "      <td>3</td>\n",
       "      <td>107</td>\n",
       "      <td>118</td>\n",
       "      <td>127</td>\n",
       "      <td>134</td>\n",
       "      <td>139</td>\n",
       "      <td>143</td>\n",
       "      <td>146</td>\n",
       "      <td>150</td>\n",
       "      <td>153</td>\n",
       "      <td>...</td>\n",
       "      <td>207</td>\n",
       "      <td>207</td>\n",
       "      <td>207</td>\n",
       "      <td>207</td>\n",
       "      <td>206</td>\n",
       "      <td>206</td>\n",
       "      <td>206</td>\n",
       "      <td>204</td>\n",
       "      <td>203</td>\n",
       "      <td>202</td>\n",
       "    </tr>\n",
       "    <tr>\n",
       "      <th>1</th>\n",
       "      <td>6</td>\n",
       "      <td>155</td>\n",
       "      <td>157</td>\n",
       "      <td>156</td>\n",
       "      <td>156</td>\n",
       "      <td>156</td>\n",
       "      <td>157</td>\n",
       "      <td>156</td>\n",
       "      <td>158</td>\n",
       "      <td>158</td>\n",
       "      <td>...</td>\n",
       "      <td>69</td>\n",
       "      <td>149</td>\n",
       "      <td>128</td>\n",
       "      <td>87</td>\n",
       "      <td>94</td>\n",
       "      <td>163</td>\n",
       "      <td>175</td>\n",
       "      <td>103</td>\n",
       "      <td>135</td>\n",
       "      <td>149</td>\n",
       "    </tr>\n",
       "    <tr>\n",
       "      <th>2</th>\n",
       "      <td>2</td>\n",
       "      <td>187</td>\n",
       "      <td>188</td>\n",
       "      <td>188</td>\n",
       "      <td>187</td>\n",
       "      <td>187</td>\n",
       "      <td>186</td>\n",
       "      <td>187</td>\n",
       "      <td>188</td>\n",
       "      <td>187</td>\n",
       "      <td>...</td>\n",
       "      <td>202</td>\n",
       "      <td>201</td>\n",
       "      <td>200</td>\n",
       "      <td>199</td>\n",
       "      <td>198</td>\n",
       "      <td>199</td>\n",
       "      <td>198</td>\n",
       "      <td>195</td>\n",
       "      <td>194</td>\n",
       "      <td>195</td>\n",
       "    </tr>\n",
       "    <tr>\n",
       "      <th>3</th>\n",
       "      <td>2</td>\n",
       "      <td>211</td>\n",
       "      <td>211</td>\n",
       "      <td>212</td>\n",
       "      <td>212</td>\n",
       "      <td>211</td>\n",
       "      <td>210</td>\n",
       "      <td>211</td>\n",
       "      <td>210</td>\n",
       "      <td>210</td>\n",
       "      <td>...</td>\n",
       "      <td>235</td>\n",
       "      <td>234</td>\n",
       "      <td>233</td>\n",
       "      <td>231</td>\n",
       "      <td>230</td>\n",
       "      <td>226</td>\n",
       "      <td>225</td>\n",
       "      <td>222</td>\n",
       "      <td>229</td>\n",
       "      <td>163</td>\n",
       "    </tr>\n",
       "    <tr>\n",
       "      <th>4</th>\n",
       "      <td>13</td>\n",
       "      <td>164</td>\n",
       "      <td>167</td>\n",
       "      <td>170</td>\n",
       "      <td>172</td>\n",
       "      <td>176</td>\n",
       "      <td>179</td>\n",
       "      <td>180</td>\n",
       "      <td>184</td>\n",
       "      <td>185</td>\n",
       "      <td>...</td>\n",
       "      <td>92</td>\n",
       "      <td>105</td>\n",
       "      <td>105</td>\n",
       "      <td>108</td>\n",
       "      <td>133</td>\n",
       "      <td>163</td>\n",
       "      <td>157</td>\n",
       "      <td>163</td>\n",
       "      <td>164</td>\n",
       "      <td>179</td>\n",
       "    </tr>\n",
       "    <tr>\n",
       "      <th>...</th>\n",
       "      <td>...</td>\n",
       "      <td>...</td>\n",
       "      <td>...</td>\n",
       "      <td>...</td>\n",
       "      <td>...</td>\n",
       "      <td>...</td>\n",
       "      <td>...</td>\n",
       "      <td>...</td>\n",
       "      <td>...</td>\n",
       "      <td>...</td>\n",
       "      <td>...</td>\n",
       "      <td>...</td>\n",
       "      <td>...</td>\n",
       "      <td>...</td>\n",
       "      <td>...</td>\n",
       "      <td>...</td>\n",
       "      <td>...</td>\n",
       "      <td>...</td>\n",
       "      <td>...</td>\n",
       "      <td>...</td>\n",
       "      <td>...</td>\n",
       "    </tr>\n",
       "    <tr>\n",
       "      <th>27450</th>\n",
       "      <td>13</td>\n",
       "      <td>189</td>\n",
       "      <td>189</td>\n",
       "      <td>190</td>\n",
       "      <td>190</td>\n",
       "      <td>192</td>\n",
       "      <td>193</td>\n",
       "      <td>193</td>\n",
       "      <td>193</td>\n",
       "      <td>193</td>\n",
       "      <td>...</td>\n",
       "      <td>132</td>\n",
       "      <td>165</td>\n",
       "      <td>99</td>\n",
       "      <td>77</td>\n",
       "      <td>52</td>\n",
       "      <td>200</td>\n",
       "      <td>234</td>\n",
       "      <td>200</td>\n",
       "      <td>222</td>\n",
       "      <td>225</td>\n",
       "    </tr>\n",
       "    <tr>\n",
       "      <th>27451</th>\n",
       "      <td>23</td>\n",
       "      <td>151</td>\n",
       "      <td>154</td>\n",
       "      <td>157</td>\n",
       "      <td>158</td>\n",
       "      <td>160</td>\n",
       "      <td>161</td>\n",
       "      <td>163</td>\n",
       "      <td>164</td>\n",
       "      <td>166</td>\n",
       "      <td>...</td>\n",
       "      <td>198</td>\n",
       "      <td>198</td>\n",
       "      <td>198</td>\n",
       "      <td>198</td>\n",
       "      <td>198</td>\n",
       "      <td>196</td>\n",
       "      <td>195</td>\n",
       "      <td>195</td>\n",
       "      <td>195</td>\n",
       "      <td>194</td>\n",
       "    </tr>\n",
       "    <tr>\n",
       "      <th>27452</th>\n",
       "      <td>18</td>\n",
       "      <td>174</td>\n",
       "      <td>174</td>\n",
       "      <td>174</td>\n",
       "      <td>174</td>\n",
       "      <td>174</td>\n",
       "      <td>175</td>\n",
       "      <td>175</td>\n",
       "      <td>174</td>\n",
       "      <td>173</td>\n",
       "      <td>...</td>\n",
       "      <td>121</td>\n",
       "      <td>196</td>\n",
       "      <td>209</td>\n",
       "      <td>208</td>\n",
       "      <td>206</td>\n",
       "      <td>204</td>\n",
       "      <td>203</td>\n",
       "      <td>202</td>\n",
       "      <td>200</td>\n",
       "      <td>200</td>\n",
       "    </tr>\n",
       "    <tr>\n",
       "      <th>27453</th>\n",
       "      <td>17</td>\n",
       "      <td>177</td>\n",
       "      <td>181</td>\n",
       "      <td>184</td>\n",
       "      <td>185</td>\n",
       "      <td>187</td>\n",
       "      <td>189</td>\n",
       "      <td>190</td>\n",
       "      <td>191</td>\n",
       "      <td>191</td>\n",
       "      <td>...</td>\n",
       "      <td>119</td>\n",
       "      <td>56</td>\n",
       "      <td>27</td>\n",
       "      <td>58</td>\n",
       "      <td>102</td>\n",
       "      <td>79</td>\n",
       "      <td>47</td>\n",
       "      <td>64</td>\n",
       "      <td>87</td>\n",
       "      <td>93</td>\n",
       "    </tr>\n",
       "    <tr>\n",
       "      <th>27454</th>\n",
       "      <td>23</td>\n",
       "      <td>179</td>\n",
       "      <td>180</td>\n",
       "      <td>180</td>\n",
       "      <td>180</td>\n",
       "      <td>182</td>\n",
       "      <td>181</td>\n",
       "      <td>182</td>\n",
       "      <td>183</td>\n",
       "      <td>182</td>\n",
       "      <td>...</td>\n",
       "      <td>108</td>\n",
       "      <td>132</td>\n",
       "      <td>170</td>\n",
       "      <td>194</td>\n",
       "      <td>214</td>\n",
       "      <td>203</td>\n",
       "      <td>197</td>\n",
       "      <td>205</td>\n",
       "      <td>209</td>\n",
       "      <td>215</td>\n",
       "    </tr>\n",
       "  </tbody>\n",
       "</table>\n",
       "<p>27455 rows × 785 columns</p>\n",
       "</div>"
      ],
      "text/plain": [
       "       label  pixel1  pixel2  pixel3  pixel4  pixel5  pixel6  pixel7  pixel8  \\\n",
       "0          3     107     118     127     134     139     143     146     150   \n",
       "1          6     155     157     156     156     156     157     156     158   \n",
       "2          2     187     188     188     187     187     186     187     188   \n",
       "3          2     211     211     212     212     211     210     211     210   \n",
       "4         13     164     167     170     172     176     179     180     184   \n",
       "...      ...     ...     ...     ...     ...     ...     ...     ...     ...   \n",
       "27450     13     189     189     190     190     192     193     193     193   \n",
       "27451     23     151     154     157     158     160     161     163     164   \n",
       "27452     18     174     174     174     174     174     175     175     174   \n",
       "27453     17     177     181     184     185     187     189     190     191   \n",
       "27454     23     179     180     180     180     182     181     182     183   \n",
       "\n",
       "       pixel9  ...  pixel775  pixel776  pixel777  pixel778  pixel779  \\\n",
       "0         153  ...       207       207       207       207       206   \n",
       "1         158  ...        69       149       128        87        94   \n",
       "2         187  ...       202       201       200       199       198   \n",
       "3         210  ...       235       234       233       231       230   \n",
       "4         185  ...        92       105       105       108       133   \n",
       "...       ...  ...       ...       ...       ...       ...       ...   \n",
       "27450     193  ...       132       165        99        77        52   \n",
       "27451     166  ...       198       198       198       198       198   \n",
       "27452     173  ...       121       196       209       208       206   \n",
       "27453     191  ...       119        56        27        58       102   \n",
       "27454     182  ...       108       132       170       194       214   \n",
       "\n",
       "       pixel780  pixel781  pixel782  pixel783  pixel784  \n",
       "0           206       206       204       203       202  \n",
       "1           163       175       103       135       149  \n",
       "2           199       198       195       194       195  \n",
       "3           226       225       222       229       163  \n",
       "4           163       157       163       164       179  \n",
       "...         ...       ...       ...       ...       ...  \n",
       "27450       200       234       200       222       225  \n",
       "27451       196       195       195       195       194  \n",
       "27452       204       203       202       200       200  \n",
       "27453        79        47        64        87        93  \n",
       "27454       203       197       205       209       215  \n",
       "\n",
       "[27455 rows x 785 columns]"
      ]
     },
     "execution_count": 2,
     "metadata": {},
     "output_type": "execute_result"
    }
   ],
   "source": [
    "data = pd.read_csv('sign_mnist_train.csv')\n",
    "data"
   ]
  },
  {
   "cell_type": "code",
   "execution_count": 3,
   "id": "ce649631",
   "metadata": {},
   "outputs": [],
   "source": [
    "y_train = data['label']\n",
    "X_train = data.drop(columns = 'label')"
   ]
  },
  {
   "cell_type": "markdown",
   "id": "89e396d3",
   "metadata": {},
   "source": [
    "### Check if there is any N/A value"
   ]
  },
  {
   "cell_type": "code",
   "execution_count": 4,
   "id": "d22e3114",
   "metadata": {},
   "outputs": [
    {
     "data": {
      "text/plain": [
       "0"
      ]
     },
     "execution_count": 4,
     "metadata": {},
     "output_type": "execute_result"
    }
   ],
   "source": [
    "data.isna().any().sum()"
   ]
  },
  {
   "cell_type": "markdown",
   "id": "61452990",
   "metadata": {},
   "source": [
    "### Check distribution of labels"
   ]
  },
  {
   "cell_type": "code",
   "execution_count": 5,
   "id": "f2ec3120",
   "metadata": {},
   "outputs": [],
   "source": [
    "column_val = 'pixel{value}'\n",
    "for i in range(1, 785):\n",
    "    if (data[column_val.format(value=i)] < 0).any() or (data[column_val.format(value=i)] > 255).any():\n",
    "        print(\"Unexpected value encountered in pixel column {value}\".format(value=i))"
   ]
  },
  {
   "cell_type": "code",
   "execution_count": 6,
   "id": "cfddcc39",
   "metadata": {},
   "outputs": [
    {
     "data": {
      "image/png": "[encoded data removed]",
      "text/plain": [
       "<Figure size 576x432 with 1 Axes>"
      ]
     },
     "metadata": {
      "needs_background": "light"
     },
     "output_type": "display_data"
    }
   ],
   "source": [
    "plt.figure(figsize = (8,6))\n",
    "sns.countplot(x = data['label'], color = 'b')\n",
    "plt.title('Target Classes')\n",
    "plt.show()"
   ]
  },
  {
   "cell_type": "markdown",
   "id": "529c8511",
   "metadata": {},
   "source": [
    "As we can see the graph above, we can see that there are roughly same amount of labels in the train dataset. Also, we don't see any corrupted values like np.na() or non-integer values in our dataset. That being said, our dataset is well-collected and maintained."
   ]
  },
  {
   "cell_type": "markdown",
   "id": "ffe02223",
   "metadata": {},
   "source": [
    "### Simple GridSearchCV (for checking data normalization)"
   ]
  },
  {
   "cell_type": "markdown",
   "id": "6bddde5d",
   "metadata": {},
   "source": [
    "We will run a simple GridSearchCV using SVM to check the data normalization. The reason is because GridSearchCV will break the train data into k number of folds, and use one fold as a validation test. Since it breaks down the train dataset, it allows us to solely test on train dataset as well as increase the efficiency of runtime. "
   ]
  },
  {
   "cell_type": "code",
   "execution_count": 7,
   "id": "7696aad9",
   "metadata": {},
   "outputs": [],
   "source": [
    "# Prerequisite\n",
    "from sklearn.model_selection import cross_val_score, KFold, GridSearchCV\n",
    "from sklearn.svm import SVC\n",
    "from sklearn.preprocessing import StandardScaler\n",
    "from sklearn.pipeline import Pipeline\n",
    "from sklearn.decomposition import PCA"
   ]
  },
  {
   "cell_type": "code",
   "execution_count": 15,
   "id": "a8df41f1",
   "metadata": {
    "scrolled": false
   },
   "outputs": [
    {
     "name": "stdout",
     "output_type": "stream",
     "text": [
      "Fitting 5 folds for each of 3 candidates, totalling 15 fits\n",
      "[CV 1/5] END .............C=0.01, kernel=linear;, score=1.000 total time=  36.8s\n",
      "[CV 2/5] END .............C=0.01, kernel=linear;, score=1.000 total time=  37.6s\n",
      "[CV 3/5] END .............C=0.01, kernel=linear;, score=1.000 total time=  49.3s\n",
      "[CV 4/5] END .............C=0.01, kernel=linear;, score=1.000 total time=  39.8s\n",
      "[CV 5/5] END .............C=0.01, kernel=linear;, score=1.000 total time=  35.0s\n",
      "[CV 1/5] END ...............C=0.01, kernel=poly;, score=1.000 total time=  47.5s\n",
      "[CV 2/5] END ...............C=0.01, kernel=poly;, score=1.000 total time= 1.3min\n",
      "[CV 3/5] END ...............C=0.01, kernel=poly;, score=1.000 total time=  59.1s\n",
      "[CV 4/5] END ...............C=0.01, kernel=poly;, score=1.000 total time= 1.0min\n",
      "[CV 5/5] END ...............C=0.01, kernel=poly;, score=1.000 total time=  50.7s\n",
      "[CV 1/5] END ................C=0.01, kernel=rbf;, score=0.356 total time= 9.3min\n",
      "[CV 2/5] END ................C=0.01, kernel=rbf;, score=0.350 total time= 9.6min\n",
      "[CV 3/5] END ................C=0.01, kernel=rbf;, score=0.350 total time= 9.1min\n",
      "[CV 4/5] END ................C=0.01, kernel=rbf;, score=0.353 total time= 9.2min\n",
      "[CV 5/5] END ................C=0.01, kernel=rbf;, score=0.359 total time= 9.2min\n",
      "{'mean_fit_time': array([ 32.26619635,  49.2686182 , 474.73812776]), 'std_fit_time': array([ 3.74129136, 10.30975646, 10.05057906]), 'mean_score_time': array([ 7.41883836, 10.60939541, 81.17203441]), 'std_score_time': array([1.49053237, 1.28174467, 5.84576045]), 'param_C': masked_array(data=[0.01, 0.01, 0.01],\n",
      "             mask=[False, False, False],\n",
      "       fill_value='?',\n",
      "            dtype=object), 'param_kernel': masked_array(data=['linear', 'poly', 'rbf'],\n",
      "             mask=[False, False, False],\n",
      "       fill_value='?',\n",
      "            dtype=object), 'params': [{'C': 0.01, 'kernel': 'linear'}, {'C': 0.01, 'kernel': 'poly'}, {'C': 0.01, 'kernel': 'rbf'}], 'split0_test_score': array([1.        , 0.99981788, 0.35640138]), 'split1_test_score': array([1.        , 1.        , 0.35002732]), 'split2_test_score': array([1.        , 1.        , 0.35002732]), 'split3_test_score': array([1.        , 1.        , 0.35257694]), 'split4_test_score': array([1.        , 1.        , 0.35895101]), 'mean_test_score': array([1.        , 0.99996358, 0.35359679]), 'std_test_score': array([0.00000000e+00, 7.28464761e-05, 3.55121901e-03]), 'rank_test_score': array([1, 2, 3], dtype=int32)}\n"
     ]
    }
   ],
   "source": [
    "model = SVC(random_state=42)\n",
    "p_grid = {'C': [0.01],\n",
    "          'kernel': ['linear', 'poly', 'rbf']}\n",
    "clf1 = GridSearchCV(estimator=model, param_grid=p_grid, verbose=3)\n",
    "clf1.fit(X_train, y_train)\n",
    "\n",
    "# View the Grid Search CV Results\n",
    "print(clf1.cv_results_)"
   ]
  },
  {
   "cell_type": "markdown",
   "id": "0dba85bb",
   "metadata": {},
   "source": [
    "From the GridSearchCV with regularization parameter of 0.01 (and tested onto different kernel types), we see the validation score of 1.0 for linear and poly kernel in contrast to rbf kernel which shows average score of 0.35. This tells us that our data might be too-normalized so that the train dataset's same label dataset are equal to each other. We can test this claim by using low-neighbor KNN. That way, KNN acts like linear kernel of SVM. If we see the same if not really close to the score of 1, then our claim is true.\n",
    "\n",
    "On the other hand, we see the SVM kernel type \"RBF\" is performing drastically worse than other kernels. That can possibly mean that the gamma type of RBF setting is not accurate / relevant to our dataset. Let's test several different types of gamma value to find optimal gamma value."
   ]
  },
  {
   "cell_type": "markdown",
   "id": "635275fe",
   "metadata": {},
   "source": [
    "### Claim Test - Low neighbor of K-NN"
   ]
  },
  {
   "cell_type": "code",
   "execution_count": 7,
   "id": "f2275004",
   "metadata": {},
   "outputs": [
    {
     "name": "stdout",
     "output_type": "stream",
     "text": [
      "Fitting 2 folds for each of 5 candidates, totalling 10 fits\n",
      "[CV 1/2] END .....................n_neighbors=1;, score=0.997 total time=   4.6s\n",
      "[CV 2/2] END .....................n_neighbors=1;, score=0.998 total time=   3.7s\n",
      "[CV 1/2] END .....................n_neighbors=2;, score=0.993 total time=   4.0s\n",
      "[CV 2/2] END .....................n_neighbors=2;, score=0.994 total time=   4.3s\n",
      "[CV 1/2] END .....................n_neighbors=3;, score=0.992 total time=   5.1s\n",
      "[CV 2/2] END .....................n_neighbors=3;, score=0.994 total time=   4.2s\n",
      "[CV 1/2] END .....................n_neighbors=5;, score=0.988 total time=   5.5s\n",
      "[CV 2/2] END .....................n_neighbors=5;, score=0.987 total time=   4.5s\n",
      "[CV 1/2] END ....................n_neighbors=10;, score=0.967 total time=   5.0s\n",
      "[CV 2/2] END ....................n_neighbors=10;, score=0.971 total time=   4.5s\n",
      "{'mean_fit_time': array([0.08092296, 0.05262494, 0.05003464, 0.05487835, 0.05060446]), 'std_fit_time': array([0.02823985, 0.00103688, 0.0032953 , 0.0047344 , 0.00068343]), 'mean_score_time': array([4.07718408, 4.05949807, 4.59923804, 4.93178797, 4.66388404]), 'std_score_time': array([0.38225114, 0.15794015, 0.41359508, 0.47660303, 0.26190794]), 'param_n_neighbors': masked_array(data=[1, 2, 3, 5, 10],\n",
      "             mask=[False, False, False, False, False],\n",
      "       fill_value='?',\n",
      "            dtype=object), 'params': [{'n_neighbors': 1}, {'n_neighbors': 2}, {'n_neighbors': 3}, {'n_neighbors': 5}, {'n_neighbors': 10}], 'split0_test_score': array([0.99708625, 0.99293415, 0.99227855, 0.98783508, 0.96685606]), 'split1_test_score': array([0.99774168, 0.99402637, 0.99366213, 0.98732425, 0.97144314]), 'mean_test_score': array([0.99741396, 0.99348026, 0.99297034, 0.98757967, 0.9691496 ]), 'std_test_score': array([0.00032771, 0.00054611, 0.00069179, 0.00025542, 0.00229354]), 'rank_test_score': array([1, 2, 3, 4, 5], dtype=int32)}\n"
     ]
    }
   ],
   "source": [
    "from sklearn.neighbors import KNeighborsClassifier\n",
    "from sklearn.model_selection import cross_val_score, KFold, GridSearchCV\n",
    "\n",
    "rf = KFold(n_splits=2, shuffle=True, random_state=42)\n",
    "\n",
    "model = KNeighborsClassifier()\n",
    "p_grid = {'n_neighbors':[1,2,3,5,10]}\n",
    "clf1 = GridSearchCV(estimator=model, param_grid=p_grid, cv=rf, verbose=3)\n",
    "clf1.fit(X_train, y_train)\n",
    "\n",
    "# View the Grid Search CV Results\n",
    "print(clf1.cv_results_)"
   ]
  },
  {
   "cell_type": "markdown",
   "id": "34450159",
   "metadata": {},
   "source": [
    "As we can see, the values are really close to 1, thus our claim is true. "
   ]
  },
  {
   "cell_type": "markdown",
   "id": "25168e79",
   "metadata": {},
   "source": [
    "#### Claim Test - different Gamma value for RBF Kernel"
   ]
  },
  {
   "cell_type": "code",
   "execution_count": 8,
   "id": "4602e86d",
   "metadata": {
    "scrolled": false
   },
   "outputs": [
    {
     "name": "stdout",
     "output_type": "stream",
     "text": [
      "Fitting 5 folds for each of 7 candidates, totalling 35 fits\n",
      "[CV 1/5] END ...........gamma=scale, kernel=rbf;, score=1.000 total time= 1.5min\n",
      "[CV 2/5] END ...........gamma=scale, kernel=rbf;, score=1.000 total time= 1.3min\n",
      "[CV 3/5] END ...........gamma=scale, kernel=rbf;, score=1.000 total time= 1.5min\n",
      "[CV 4/5] END ...........gamma=scale, kernel=rbf;, score=1.000 total time= 1.4min\n",
      "[CV 5/5] END ...........gamma=scale, kernel=rbf;, score=1.000 total time= 1.5min\n",
      "[CV 1/5] END ............gamma=auto, kernel=rbf;, score=0.228 total time= 7.9min\n",
      "[CV 2/5] END ............gamma=auto, kernel=rbf;, score=0.223 total time= 7.6min\n",
      "[CV 3/5] END ............gamma=auto, kernel=rbf;, score=0.225 total time= 7.7min\n",
      "[CV 4/5] END ............gamma=auto, kernel=rbf;, score=0.222 total time= 7.4min\n",
      "[CV 5/5] END ............gamma=auto, kernel=rbf;, score=0.230 total time= 8.0min\n",
      "[CV 1/5] END ............gamma=0.01, kernel=rbf;, score=0.114 total time= 8.3min\n",
      "[CV 2/5] END ............gamma=0.01, kernel=rbf;, score=0.112 total time= 9.6min\n",
      "[CV 3/5] END ............gamma=0.01, kernel=rbf;, score=0.111 total time= 8.0min\n",
      "[CV 4/5] END ............gamma=0.01, kernel=rbf;, score=0.113 total time= 8.0min\n",
      "[CV 5/5] END ............gamma=0.01, kernel=rbf;, score=0.118 total time= 8.2min\n",
      "[CV 1/5] END ............gamma=0.05, kernel=rbf;, score=0.047 total time= 8.1min\n",
      "[CV 2/5] END ............gamma=0.05, kernel=rbf;, score=0.047 total time= 8.1min\n",
      "[CV 3/5] END ............gamma=0.05, kernel=rbf;, score=0.047 total time= 8.0min\n",
      "[CV 4/5] END ............gamma=0.05, kernel=rbf;, score=0.047 total time= 8.1min\n",
      "[CV 5/5] END ............gamma=0.05, kernel=rbf;, score=0.047 total time= 7.9min\n",
      "[CV 1/5] END .............gamma=0.1, kernel=rbf;, score=0.047 total time= 8.0min\n",
      "[CV 2/5] END .............gamma=0.1, kernel=rbf;, score=0.047 total time= 8.0min\n",
      "[CV 3/5] END .............gamma=0.1, kernel=rbf;, score=0.047 total time= 8.0min\n",
      "[CV 4/5] END .............gamma=0.1, kernel=rbf;, score=0.047 total time= 8.2min\n",
      "[CV 5/5] END .............gamma=0.1, kernel=rbf;, score=0.047 total time= 8.1min\n",
      "[CV 1/5] END .............gamma=0.5, kernel=rbf;, score=0.047 total time= 8.3min\n",
      "[CV 2/5] END .............gamma=0.5, kernel=rbf;, score=0.047 total time= 7.5min\n",
      "[CV 3/5] END .............gamma=0.5, kernel=rbf;, score=0.047 total time= 7.9min\n",
      "[CV 4/5] END .............gamma=0.5, kernel=rbf;, score=0.047 total time= 7.3min\n",
      "[CV 5/5] END .............gamma=0.5, kernel=rbf;, score=0.047 total time= 7.3min\n",
      "[CV 1/5] END ...............gamma=1, kernel=rbf;, score=0.047 total time= 7.3min\n",
      "[CV 2/5] END ...............gamma=1, kernel=rbf;, score=0.047 total time= 7.4min\n",
      "[CV 3/5] END ...............gamma=1, kernel=rbf;, score=0.047 total time= 7.3min\n",
      "[CV 4/5] END ...............gamma=1, kernel=rbf;, score=0.047 total time= 7.3min\n",
      "[CV 5/5] END ...............gamma=1, kernel=rbf;, score=0.047 total time= 7.3min\n",
      "{'mean_fit_time': array([ 55.50775375, 385.24071765, 417.32290087, 392.17943363,\n",
      "       394.41305556, 373.66029153, 351.36644444]), 'std_fit_time': array([ 2.52305241,  8.90259182, 35.49199267,  4.61696871,  4.6629026 ,\n",
      "       23.47086301,  2.81605568]), 'mean_score_time': array([31.08351445, 78.23451672, 87.42298079, 90.3352643 , 90.25186086,\n",
      "       86.292519  , 86.09148402]), 'std_score_time': array([1.23086326, 4.7101795 , 5.16318504, 0.38218689, 2.1571724 ,\n",
      "       0.38602065, 0.2511029 ]), 'param_gamma': masked_array(data=['scale', 'auto', 0.01, 0.05, 0.1, 0.5, 1],\n",
      "             mask=[False, False, False, False, False, False, False],\n",
      "       fill_value='?',\n",
      "            dtype=object), 'param_kernel': masked_array(data=['rbf', 'rbf', 'rbf', 'rbf', 'rbf', 'rbf', 'rbf'],\n",
      "             mask=[False, False, False, False, False, False, False],\n",
      "       fill_value='?',\n",
      "            dtype=object), 'params': [{'gamma': 'scale', 'kernel': 'rbf'}, {'gamma': 'auto', 'kernel': 'rbf'}, {'gamma': 0.01, 'kernel': 'rbf'}, {'gamma': 0.05, 'kernel': 'rbf'}, {'gamma': 0.1, 'kernel': 'rbf'}, {'gamma': 0.5, 'kernel': 'rbf'}, {'gamma': 1, 'kernel': 'rbf'}], 'split0_test_score': array([1.        , 0.22782735, 0.11400474, 0.04716809, 0.04698598,\n",
      "       0.04698598, 0.04698598]), 'split1_test_score': array([1.        , 0.22254598, 0.11181934, 0.04735021, 0.04716809,\n",
      "       0.04716809, 0.04716809]), 'split2_test_score': array([0.99981788, 0.22473138, 0.11145511, 0.04716809, 0.04716809,\n",
      "       0.04716809, 0.04716809]), 'split3_test_score': array([0.99981788, 0.22218175, 0.11309415, 0.04716809, 0.04716809,\n",
      "       0.04716809, 0.04716809]), 'split4_test_score': array([1.        , 0.23019486, 0.11819341, 0.04716809, 0.04716809,\n",
      "       0.04716809, 0.04716809]), 'mean_test_score': array([0.99992715, 0.22549627, 0.11371335, 0.04720452, 0.04713167,\n",
      "       0.04713167, 0.04713167]), 'std_test_score': array([8.92183479e-05, 3.09147262e-03, 2.41769103e-03, 7.28464761e-05,\n",
      "       7.28464761e-05, 7.28464761e-05, 7.28464761e-05]), 'rank_test_score': array([1, 2, 3, 4, 5, 5, 5], dtype=int32)}\n"
     ]
    }
   ],
   "source": [
    "from sklearn.svm import SVC\n",
    "from sklearn.model_selection import cross_val_score, KFold, GridSearchCV\n",
    "\n",
    "model = SVC(random_state=42)\n",
    "p_grid = {'gamma': ['scale', 'auto', 0.01, 0.05, 0.1, 0.5, 1],\n",
    "          'kernel': ['rbf']}\n",
    "clf1 = GridSearchCV(estimator=model, param_grid=p_grid, verbose=3)\n",
    "clf1.fit(X_train, y_train)\n",
    "\n",
    "# View the Grid Search CV Results\n",
    "print(clf1.cv_results_)"
   ]
  },
  {
   "cell_type": "markdown",
   "id": "fce63b46",
   "metadata": {},
   "source": [
    "From the above GridSearchCV that search through all possibilities of gamma values for RBF kernel, we see that the gamma kernel of 'Scale' (which is equivalent to 1 / (n_features * X.var()) (more in https://scikit-learn.org/stable/modules/generated/sklearn.svm.SVC.html)) performs just like other kernels. Therfore, let's restrict kernel gamma to scale."
   ]
  },
  {
   "cell_type": "markdown",
   "id": "e3b9782b",
   "metadata": {},
   "source": [
    "## Section 2 - Data Augmentation"
   ]
  },
  {
   "cell_type": "markdown",
   "id": "4bcac5ca",
   "metadata": {},
   "source": [
    "In order to make the model more suitable for real-world examples (rather than lab-recorded dataset), we need to perform data augmentation to artificially create noise inside the dataset. One way to perform that is to reduce the dimension of the dataset (called PCA)."
   ]
  },
  {
   "cell_type": "markdown",
   "id": "a5d316cd",
   "metadata": {},
   "source": [
    "#### PCA (Principal Component Analysis)"
   ]
  },
  {
   "cell_type": "markdown",
   "id": "860ffd22",
   "metadata": {},
   "source": [
    "PCA is unsupervised machine-learning algorithm where it takes the dataset and reduce the dimensionality of the dataset  (https://en.wikipedia.org/wiki/Principal_component_analysis). We will then use GridSearchCV with pipeline to test PCA and SVM at the same time."
   ]
  },
  {
   "cell_type": "markdown",
   "id": "74662e51",
   "metadata": {},
   "source": [
    "#### Small test - PCA with linear kernel SVM"
   ]
  },
  {
   "cell_type": "markdown",
   "id": "c24a6a04",
   "metadata": {},
   "source": [
    "From previous test runs (outside this notebook), somehow it takes forever to compile when PCA is used with Linear kernel. Here is the example:"
   ]
  },
  {
   "cell_type": "code",
   "execution_count": null,
   "id": "b9040d57",
   "metadata": {},
   "outputs": [
    {
     "name": "stdout",
     "output_type": "stream",
     "text": [
      "Fitting 5 folds for each of 4 candidates, totalling 20 fits\n"
     ]
    }
   ],
   "source": [
    "# We are setting n_components to different areas of possibility thus check how drastically changes the time / accuracy of dataset.\n",
    "p_grid = {\n",
    "    'pca__n_components': [700, 300, 100, 50]\n",
    "}\n",
    "pipe = Pipeline([('pca', PCA(random_state=42)), ('svc', SVC(C=0.01, kernel='linear', random_state=42))]) \n",
    "clf1 = GridSearchCV(estimator=pipe, param_grid=p_grid, verbose=3, n_jobs=-1)\n",
    "clf1.fit(X_train, y_train)\n",
    "\n",
    "# View the Grid Search CV Results\n",
    "print(clf1.cv_results_)"
   ]
  },
  {
   "cell_type": "code",
   "execution_count": null,
   "id": "fd7fd4df",
   "metadata": {},
   "outputs": [
    {
     "name": "stdout",
     "output_type": "stream",
     "text": [
      "Fitting 5 folds for each of 24 candidates, totalling 120 fits\n"
     ]
    }
   ],
   "source": [
    "p_grid = {\n",
    "    'pca__n_components': [5, 10, 15, 20, 25, 30, 35, 40, 45, 50, 55, 60],\n",
    "    'svc__C': [0.01], # Since we are focusing on which component value is optimal, we are not going to change the regularization value.\n",
    "    'svc__kernel': ['linear', 'poly']}\n",
    "pipe = Pipeline([('pca', PCA(random_state=42)), ('svc', SVC(random_state=42))])\n",
    "clf1 = GridSearchCV(estimator=pipe, param_grid=p_grid, verbose=3, n_jobs=-1)\n",
    "clf1.fit(X_train, y_train)\n",
    "\n",
    "# View the Grid Search CV Results\n",
    "print(clf1.cv_results_)"
   ]
  },
  {
   "cell_type": "code",
   "execution_count": null,
   "id": "171a73f7",
   "metadata": {},
   "outputs": [],
   "source": [
    "# Testing PCA for 'RBF' kernel\n",
    "p_grid = {\n",
    "    'pca__n_components': [5, 10, 15, 20, 25, 30, 35, 40, 45, 50, 55, 60],\n",
    "    'svc__C': [0.01], # Since we are focusing on which component value is optimal, we are not going to change the regularization value.\n",
    "    'svc__kernel': ['rbf'],\n",
    "    'svc__gamma': ['scale']}\n",
    "pipe = Pipeline([('pca', PCA(random_state=42)), ('svc', SVC(random_state=42))])\n",
    "clf1 = GridSearchCV(estimator=pipe, param_grid=p_grid, verbose=3, n_jobs=-1)\n",
    "clf1.fit(X_train, y_train)\n",
    "\n",
    "# View the Grid Search CV Results\n",
    "print(clf1.cv_results_)"
   ]
  },
  {
   "cell_type": "code",
   "execution_count": null,
   "id": "76788f5f",
   "metadata": {},
   "outputs": [],
   "source": [
    "pca = PCA()\n",
    "\n",
    "fig, (ax0, ax1) = plt.subplots(nrows=2, sharex=True, figsize=(6, 6))\n",
    "ax0.plot(\n",
    "    np.arange(1, pca.n_components_ + 1), pca.explained_variance_ratio_, \"+\", linewidth=2\n",
    ")\n",
    "ax0.set_ylabel(\"PCA explained variance ratio\")\n",
    "\n",
    "ax0.axvline(\n",
    "    clf1.best_estimator_.named_steps[\"pca\"].n_components,\n",
    "    linestyle=\":\",\n",
    "    label=\"n_components chosen\",\n",
    ")"
   ]
  },
  {
   "cell_type": "markdown",
   "id": "b1b8ec46",
   "metadata": {},
   "source": [
    "(Write analysis here)"
   ]
  },
  {
   "cell_type": "markdown",
   "id": "93199587",
   "metadata": {},
   "source": [
    "## With StandardScaler"
   ]
  },
  {
   "cell_type": "code",
   "execution_count": 8,
   "id": "1ad9624d",
   "metadata": {},
   "outputs": [
    {
     "data": {
      "text/plain": [
       "0.8068878973786949"
      ]
     },
     "execution_count": 8,
     "metadata": {},
     "output_type": "execute_result"
    }
   ],
   "source": [
    "from sklearn.preprocessing import StandardScaler\n",
    "from sklearn.pipeline import Pipeline\n",
    "\n",
    "pipe = Pipeline([('scaler', StandardScaler()), ('svc', SVC(C=0.01, kernel='linear', random_state=42))])\n",
    "pipe.fit(X_train, y_train)\n",
    "pipe.score(X_test, y_test)"
   ]
  },
  {
   "cell_type": "markdown",
   "id": "99787d1d",
   "metadata": {},
   "source": [
    "## With PCA and StandardScaler"
   ]
  },
  {
   "cell_type": "code",
   "execution_count": 9,
   "id": "6929f123",
   "metadata": {},
   "outputs": [
    {
     "data": {
      "text/plain": [
       "0.8066090351366425"
      ]
     },
     "execution_count": 9,
     "metadata": {},
     "output_type": "execute_result"
    }
   ],
   "source": [
    "from sklearn.preprocessing import StandardScaler\n",
    "from sklearn.decomposition import PCA\n",
    "from sklearn.pipeline import Pipeline\n",
    "\n",
    "# Chose n_components as 35 since sign language contains 35 distinct letter signs\n",
    "pipe = Pipeline([('scaler', StandardScaler()),('PCA', PCA(n_components=35)), ('svc', SVC(C=0.01, kernel='linear', random_state=42))])\n",
    "pipe.fit(X_train, y_train)\n",
    "pipe.score(X_test, y_test)"
   ]
  },
  {
   "cell_type": "markdown",
   "id": "b8f2f54c",
   "metadata": {},
   "source": [
    "## With Kfold and GridSearchCV"
   ]
  },
  {
   "cell_type": "markdown",
   "id": "32fd3dc3",
   "metadata": {},
   "source": [
    "Somehow, we see overfitting. I don't have a clue to make claim of this issue (most likely just small dataset making overfitting)"
   ]
  },
  {
   "cell_type": "markdown",
   "id": "eb0861dc",
   "metadata": {},
   "source": [
    "## Custom Hyperparameter Selection"
   ]
  },
  {
   "cell_type": "code",
   "execution_count": null,
   "id": "d21ca002",
   "metadata": {},
   "outputs": [
    {
     "name": "stdout",
     "output_type": "stream",
     "text": [
      "Time Elapsed:  38.81698489189148\n",
      "Time Elapsed:  72.55560040473938\n",
      "Time Elapsed:  786.5751214027405\n",
      "Time Elapsed:  812.8502168655396\n",
      "Time Elapsed:  52.03745412826538\n",
      "Time Elapsed:  37.626795530319214\n",
      "Time Elapsed:  471.2527973651886\n",
      "Time Elapsed:  812.1136202812195\n",
      "Time Elapsed:  39.940268993377686\n",
      "Time Elapsed:  27.383901834487915\n",
      "Time Elapsed:  342.4818193912506\n",
      "Time Elapsed:  840.290323972702\n",
      "Time Elapsed:  36.873708963394165\n",
      "Time Elapsed:  30.165858030319214\n",
      "Time Elapsed:  195.7655382156372\n",
      "Time Elapsed:  966.0575969219208\n",
      "Time Elapsed:  50.02760887145996\n",
      "Time Elapsed:  32.56570553779602\n",
      "Time Elapsed:  135.58537697792053\n",
      "Time Elapsed:  879.2025561332703\n",
      "Time Elapsed:  41.81144642829895\n",
      "Time Elapsed:  31.157321453094482\n"
     ]
    }
   ],
   "source": [
    "import time\n",
    "result = {\n",
    "    'C': [],\n",
    "    'Kernel': [],\n",
    "    'Score': [],\n",
    "    'Time': []\n",
    "}\n",
    "\n",
    "C = [0.01, 0.05, 0.1, 0.5, 1, 10]\n",
    "kernel = ['linear', 'poly', 'rbf', 'sigmoid']\n",
    "\n",
    "for c in C:\n",
    "    for k in kernel:\n",
    "        start = time.time()\n",
    "        model = SVC(C=c, kernel=k, random_state=42).fit(X_train, y_train)\n",
    "        score = model.score(X_test, y_test)\n",
    "        end = time.time()\n",
    "        print(\"Time Elapsed: \", end-start)\n",
    "        result['C'].append(c)\n",
    "        result['Kernel'].append(k)\n",
    "        result['Score'].append(score)\n",
    "        result['Time'].append((end-start))\n",
    "\n",
    "result"
   ]
  },
  {
   "cell_type": "markdown",
   "id": "ecfd3efe",
   "metadata": {},
   "source": [
    "### Show which model did best"
   ]
  },
  {
   "cell_type": "code",
   "execution_count": 14,
   "id": "88fcfbe2",
   "metadata": {},
   "outputs": [
    {
     "name": "stdout",
     "output_type": "stream",
     "text": [
      "Best Model: \n",
      "C:  1\n",
      "Kernel:  rbf\n",
      "Score:  0.8418851087562744\n",
      "Elapsed Time:  135.58537697792053\n"
     ]
    }
   ],
   "source": [
    "index = 0\n",
    "score = 0\n",
    "\n",
    "for i in range(len(result['Score'])):\n",
    "    if result['Score'][i] > score:\n",
    "        score = result['Score'][i]\n",
    "        index = i\n",
    "\n",
    "print(\"Best Model: \")\n",
    "print(\"C: \", result['C'][index])\n",
    "print(\"Kernel: \", result['Kernel'][index])\n",
    "print(\"Score: \", result['Score'][index])\n",
    "print(\"Elapsed Time: \", result['Time'][index])"
   ]
  },
  {
   "cell_type": "markdown",
   "id": "f189799d",
   "metadata": {},
   "source": [
    "## PCA with different values (with best model)"
   ]
  },
  {
   "cell_type": "code",
   "execution_count": 16,
   "id": "457bc5f1",
   "metadata": {},
   "outputs": [
    {
     "name": "stdout",
     "output_type": "stream",
     "text": [
      "N_Components of 50:  0.8721416620189626\n",
      "N_Components of 40:  0.8711656441717791\n",
      "N_Components of 30:  0.8621026213050753\n",
      "N_Components of 20:  0.8297546012269938\n"
     ]
    }
   ],
   "source": [
    "# n_components = 50\n",
    "pipe = Pipeline([('PCA', PCA(n_components=50)), ('svc', SVC(C=1, kernel='rbf', random_state=42))])\n",
    "pipe.fit(X_train, y_train)\n",
    "print(\"N_Components of 50: \", pipe.score(X_test, y_test))\n",
    "\n",
    "# n_components = 40\n",
    "pipe = Pipeline([('PCA', PCA(n_components=40)), ('svc', SVC(C=1, kernel='rbf', random_state=42))])\n",
    "pipe.fit(X_train, y_train)\n",
    "print(\"N_Components of 40: \", pipe.score(X_test, y_test))\n",
    "\n",
    "# n_components = 30\n",
    "pipe = Pipeline([('PCA', PCA(n_components=30)), ('svc', SVC(C=1, kernel='rbf', random_state=42))])\n",
    "pipe.fit(X_train, y_train)\n",
    "print(\"N_Components of 30: \", pipe.score(X_test, y_test))\n",
    "\n",
    "# n_components = 20\n",
    "pipe = Pipeline([('PCA', PCA(n_components=20)), ('svc', SVC(C=1, kernel='rbf', random_state=42))])\n",
    "pipe.fit(X_train, y_train)\n",
    "print(\"N_Components of 20: \", pipe.score(X_test, y_test))"
   ]
  },
  {
   "cell_type": "code",
   "execution_count": 17,
   "id": "6a6f50a7",
   "metadata": {},
   "outputs": [
    {
     "name": "stdout",
     "output_type": "stream",
     "text": [
      "N_Components of 20:  0.6755437813720022\n"
     ]
    }
   ],
   "source": [
    "# n_components = 10\n",
    "pipe = Pipeline([('PCA', PCA(n_components=10)), ('svc', SVC(C=1, kernel='rbf', random_state=42))])\n",
    "pipe.fit(X_train, y_train)\n",
    "print(\"N_Components of 20: \", pipe.score(X_test, y_test))"
   ]
  },
  {
   "cell_type": "markdown",
   "id": "9e9f7e2d",
   "metadata": {},
   "source": [
    "## Questions to Ask:\n",
    "\n",
    "### Should we normalize the dataset\n",
    "### Is RBF style correct to our dataset style\n",
    "### Anything I should do for model selection / optimization of model?"
   ]
  },
  {
   "cell_type": "markdown",
   "id": "d7b46ec1",
   "metadata": {},
   "source": [
    "## From TA - Try smaller size when using GridSearchCV"
   ]
  },
  {
   "cell_type": "code",
   "execution_count": 10,
   "id": "debaee0c",
   "metadata": {},
   "outputs": [
    {
     "name": "stdout",
     "output_type": "stream",
     "text": [
      "Fitting 5 folds for each of 3 candidates, totalling 15 fits\n",
      "[CV 1/5] END .............C=0.01, kernel=linear;, score=0.991 total time=   1.8s\n",
      "[CV 2/5] END .............C=0.01, kernel=linear;, score=0.983 total time=   2.4s\n",
      "[CV 3/5] END .............C=0.01, kernel=linear;, score=0.996 total time=   2.1s\n",
      "[CV 4/5] END .............C=0.01, kernel=linear;, score=0.995 total time=   2.3s\n",
      "[CV 5/5] END .............C=0.01, kernel=linear;, score=0.991 total time=   2.3s\n",
      "[CV 1/5] END ...............C=0.01, kernel=poly;, score=0.975 total time=   2.0s\n",
      "[CV 2/5] END ...............C=0.01, kernel=poly;, score=0.958 total time=   3.2s\n",
      "[CV 3/5] END ...............C=0.01, kernel=poly;, score=0.965 total time=   2.4s\n",
      "[CV 4/5] END ...............C=0.01, kernel=poly;, score=0.962 total time=   2.0s\n",
      "[CV 5/5] END ...............C=0.01, kernel=poly;, score=0.970 total time=   2.7s\n",
      "[CV 1/5] END ................C=0.01, kernel=rbf;, score=0.048 total time=   7.1s\n",
      "[CV 2/5] END ................C=0.01, kernel=rbf;, score=0.087 total time=   7.1s\n",
      "[CV 3/5] END ................C=0.01, kernel=rbf;, score=0.089 total time=   7.1s\n",
      "[CV 4/5] END ................C=0.01, kernel=rbf;, score=0.048 total time=   7.6s\n",
      "[CV 5/5] END ................C=0.01, kernel=rbf;, score=0.047 total time=   9.1s\n",
      "{'mean_fit_time': array([1.63314867, 1.69378061, 4.72481589]), 'std_fit_time': array([0.10439312, 0.37672324, 0.38250209]), 'mean_score_time': array([0.54784479, 0.75271754, 2.89275122]), 'std_score_time': array([0.1131347 , 0.14353208, 0.44720891]), 'param_C': masked_array(data=[0.01, 0.01, 0.01],\n",
      "             mask=[False, False, False],\n",
      "       fill_value='?',\n",
      "            dtype=object), 'param_kernel': masked_array(data=['linear', 'poly', 'rbf'],\n",
      "             mask=[False, False, False],\n",
      "       fill_value='?',\n",
      "            dtype=object), 'params': [{'C': 0.01, 'kernel': 'linear'}, {'C': 0.01, 'kernel': 'poly'}, {'C': 0.01, 'kernel': 'rbf'}], 'split0_test_score': array([0.991, 0.975, 0.048]), 'split1_test_score': array([0.983, 0.958, 0.087]), 'split2_test_score': array([0.996, 0.965, 0.089]), 'split3_test_score': array([0.995, 0.962, 0.048]), 'split4_test_score': array([0.991, 0.97 , 0.047]), 'mean_test_score': array([0.9912, 0.966 , 0.0638]), 'std_test_score': array([0.00457821, 0.00596657, 0.01977271]), 'rank_test_score': array([1, 2, 3], dtype=int32)}\n"
     ]
    }
   ],
   "source": [
    "from sklearn.svm import SVC\n",
    "from sklearn.model_selection import cross_val_score, KFold, GridSearchCV\n",
    "\n",
    "X_train_small = X_train[0:5000] # 5001 elements\n",
    "y_train_small = y_train[0:5000]\n",
    "X_test_small = X_test[0:5000]\n",
    "y_test_small = y_test[0:5000]\n",
    "\n",
    "model = SVC(random_state=42)\n",
    "p_grid = {'C': [0.01],\n",
    "          'kernel': ['linear', 'poly', 'rbf']}\n",
    "clf1 = GridSearchCV(estimator=model, param_grid=p_grid, verbose=3)\n",
    "clf1.fit(X_train_small, y_train_small)\n",
    "\n",
    "# View the Grid Search CV Results\n",
    "print(clf1.cv_results_)"
   ]
  },
  {
   "cell_type": "code",
   "execution_count": 11,
   "id": "46bfbdbf",
   "metadata": {},
   "outputs": [
    {
     "name": "stdout",
     "output_type": "stream",
     "text": [
      "Fitting 5 folds for each of 3 candidates, totalling 15 fits\n",
      "[CV 1/5] END .............C=0.01, kernel=linear;, score=1.000 total time=   6.8s\n",
      "[CV 2/5] END .............C=0.01, kernel=linear;, score=1.000 total time=   5.4s\n",
      "[CV 3/5] END .............C=0.01, kernel=linear;, score=1.000 total time=   5.0s\n",
      "[CV 4/5] END .............C=0.01, kernel=linear;, score=0.999 total time=   4.8s\n",
      "[CV 5/5] END .............C=0.01, kernel=linear;, score=1.000 total time=   4.3s\n",
      "[CV 1/5] END ...............C=0.01, kernel=poly;, score=0.996 total time=   6.6s\n",
      "[CV 2/5] END ...............C=0.01, kernel=poly;, score=0.997 total time=   6.4s\n",
      "[CV 3/5] END ...............C=0.01, kernel=poly;, score=1.000 total time=   6.3s\n",
      "[CV 4/5] END ...............C=0.01, kernel=poly;, score=0.998 total time=   6.2s\n",
      "[CV 5/5] END ...............C=0.01, kernel=poly;, score=0.995 total time=   6.2s\n",
      "[CV 1/5] END ................C=0.01, kernel=rbf;, score=0.083 total time=  31.3s\n",
      "[CV 2/5] END ................C=0.01, kernel=rbf;, score=0.085 total time=  31.2s\n",
      "[CV 3/5] END ................C=0.01, kernel=rbf;, score=0.084 total time=  31.1s\n",
      "[CV 4/5] END ................C=0.01, kernel=rbf;, score=0.083 total time=  31.0s\n",
      "[CV 5/5] END ................C=0.01, kernel=rbf;, score=0.080 total time=  31.0s\n",
      "{'mean_fit_time': array([ 3.73259201,  3.42008781, 20.77409   ]), 'std_fit_time': array([0.71068615, 0.01275183, 0.05419357]), 'mean_score_time': array([ 1.53276377,  2.89006886, 10.32067494]), 'std_score_time': array([0.14020728, 0.15516876, 0.10647322]), 'param_C': masked_array(data=[0.01, 0.01, 0.01],\n",
      "             mask=[False, False, False],\n",
      "       fill_value='?',\n",
      "            dtype=object), 'param_kernel': masked_array(data=['linear', 'poly', 'rbf'],\n",
      "             mask=[False, False, False],\n",
      "       fill_value='?',\n",
      "            dtype=object), 'params': [{'C': 0.01, 'kernel': 'linear'}, {'C': 0.01, 'kernel': 'poly'}, {'C': 0.01, 'kernel': 'rbf'}], 'split0_test_score': array([1.    , 0.9955, 0.083 ]), 'split1_test_score': array([1.   , 0.997, 0.085]), 'split2_test_score': array([1.    , 0.9995, 0.084 ]), 'split3_test_score': array([0.999 , 0.9975, 0.0825]), 'split4_test_score': array([1.    , 0.995 , 0.0795]), 'mean_test_score': array([0.9998, 0.9969, 0.0828]), 'std_test_score': array([0.0004    , 0.00159374, 0.00186011]), 'rank_test_score': array([1, 2, 3], dtype=int32)}\n"
     ]
    }
   ],
   "source": [
    "# Around 10000 elements\n",
    "X_train_small = X_train[0:10000]\n",
    "y_train_small = y_train[0:10000]\n",
    "X_test_small = X_test[0:10000]\n",
    "y_test_small = y_test[0:10000]\n",
    "\n",
    "model = SVC(random_state=42)\n",
    "p_grid = {'C': [0.01],\n",
    "          'kernel': ['linear', 'poly', 'rbf']}\n",
    "clf1 = GridSearchCV(estimator=model, param_grid=p_grid, verbose=3)\n",
    "clf1.fit(X_train_small, y_train_small)\n",
    "\n",
    "# View the Grid Search CV Results\n",
    "print(clf1.cv_results_)"
   ]
  },
  {
   "cell_type": "markdown",
   "id": "5a9c6039",
   "metadata": {},
   "source": [
    "## What if we increase the fold value (say to 10, 20)"
   ]
  },
  {
   "cell_type": "code",
   "execution_count": null,
   "id": "3dc106f8",
   "metadata": {},
   "outputs": [
    {
     "name": "stdout",
     "output_type": "stream",
     "text": [
      "Fitting 20 folds for each of 3 candidates, totalling 60 fits\n",
      "[CV 1/20] END ............C=0.01, kernel=linear;, score=1.000 total time=  30.1s\n",
      "[CV 2/20] END ............C=0.01, kernel=linear;, score=1.000 total time=  37.4s\n",
      "[CV 3/20] END ............C=0.01, kernel=linear;, score=1.000 total time=  32.2s\n",
      "[CV 4/20] END ............C=0.01, kernel=linear;, score=1.000 total time=  28.5s\n",
      "[CV 5/20] END ............C=0.01, kernel=linear;, score=1.000 total time=  32.0s\n",
      "[CV 6/20] END ............C=0.01, kernel=linear;, score=1.000 total time=  32.3s\n",
      "[CV 7/20] END ............C=0.01, kernel=linear;, score=1.000 total time=  30.7s\n",
      "[CV 8/20] END ............C=0.01, kernel=linear;, score=1.000 total time=  30.1s\n",
      "[CV 9/20] END ............C=0.01, kernel=linear;, score=1.000 total time=  27.5s\n",
      "[CV 10/20] END ...........C=0.01, kernel=linear;, score=1.000 total time=  27.9s\n",
      "[CV 11/20] END ...........C=0.01, kernel=linear;, score=1.000 total time=  39.1s\n",
      "[CV 12/20] END ...........C=0.01, kernel=linear;, score=1.000 total time=  38.6s\n",
      "[CV 13/20] END ...........C=0.01, kernel=linear;, score=1.000 total time=  27.6s\n",
      "[CV 14/20] END ...........C=0.01, kernel=linear;, score=1.000 total time=  33.0s\n",
      "[CV 15/20] END ...........C=0.01, kernel=linear;, score=1.000 total time=  28.7s\n",
      "[CV 16/20] END ...........C=0.01, kernel=linear;, score=1.000 total time=  27.4s\n",
      "[CV 17/20] END ...........C=0.01, kernel=linear;, score=1.000 total time=  26.7s\n",
      "[CV 18/20] END ...........C=0.01, kernel=linear;, score=1.000 total time=  26.9s\n",
      "[CV 19/20] END ...........C=0.01, kernel=linear;, score=1.000 total time=  26.9s\n",
      "[CV 20/20] END ...........C=0.01, kernel=linear;, score=1.000 total time=  29.6s\n",
      "[CV 1/20] END ..............C=0.01, kernel=poly;, score=1.000 total time=  39.0s\n",
      "[CV 2/20] END ..............C=0.01, kernel=poly;, score=1.000 total time=  35.9s\n",
      "[CV 3/20] END ..............C=0.01, kernel=poly;, score=1.000 total time=  37.9s\n",
      "[CV 4/20] END ..............C=0.01, kernel=poly;, score=1.000 total time=  45.5s\n",
      "[CV 5/20] END ..............C=0.01, kernel=poly;, score=1.000 total time=  42.1s\n",
      "[CV 6/20] END ..............C=0.01, kernel=poly;, score=1.000 total time=  38.5s\n",
      "[CV 7/20] END ..............C=0.01, kernel=poly;, score=1.000 total time=  37.9s\n",
      "[CV 8/20] END ..............C=0.01, kernel=poly;, score=1.000 total time=  38.1s\n",
      "[CV 9/20] END ..............C=0.01, kernel=poly;, score=1.000 total time=  38.1s\n",
      "[CV 10/20] END .............C=0.01, kernel=poly;, score=1.000 total time=  45.1s\n",
      "[CV 11/20] END .............C=0.01, kernel=poly;, score=1.000 total time=  44.2s\n",
      "[CV 12/20] END .............C=0.01, kernel=poly;, score=1.000 total time=  44.4s\n",
      "[CV 13/20] END .............C=0.01, kernel=poly;, score=1.000 total time=  43.6s\n",
      "[CV 14/20] END .............C=0.01, kernel=poly;, score=1.000 total time=  42.1s\n",
      "[CV 15/20] END .............C=0.01, kernel=poly;, score=1.000 total time=  41.4s\n",
      "[CV 16/20] END .............C=0.01, kernel=poly;, score=1.000 total time=  53.2s\n",
      "[CV 17/20] END .............C=0.01, kernel=poly;, score=1.000 total time=  49.3s\n",
      "[CV 18/20] END .............C=0.01, kernel=poly;, score=1.000 total time=  48.2s\n",
      "[CV 19/20] END .............C=0.01, kernel=poly;, score=1.000 total time=  44.7s\n",
      "[CV 20/20] END .............C=0.01, kernel=poly;, score=1.000 total time=  42.6s\n",
      "[CV 1/20] END ...............C=0.01, kernel=rbf;, score=0.431 total time=11.4min\n",
      "[CV 2/20] END ...............C=0.01, kernel=rbf;, score=0.421 total time= 9.1min\n"
     ]
    }
   ],
   "source": [
    "from sklearn.svm import SVC\n",
    "from sklearn.model_selection import cross_val_score, KFold, GridSearchCV\n",
    "\n",
    "rf = KFold(n_splits=20, shuffle=True, random_state=42)\n",
    "\n",
    "model = SVC(random_state=42)\n",
    "p_grid = {'C': [0.01],\n",
    "          'kernel': ['linear', 'poly', 'rbf']}\n",
    "clf1 = GridSearchCV(estimator=model, param_grid=p_grid, cv=rf, verbose=3)\n",
    "clf1.fit(X_train, y_train)\n",
    "\n",
    "# View the Grid Search CV Results\n",
    "print(clf1.cv_results_)"
   ]
  },
  {
   "cell_type": "markdown",
   "id": "7d7bdf63",
   "metadata": {},
   "source": [
    "## KFold/GridSearchCV with less fold (to decrease complexity of model)"
   ]
  },
  {
   "cell_type": "code",
   "execution_count": null,
   "id": "b0b32f4f",
   "metadata": {},
   "outputs": [
    {
     "name": "stdout",
     "output_type": "stream",
     "text": [
      "Fitting 2 folds for each of 3 candidates, totalling 6 fits\n",
      "[CV 1/2] END .............C=0.01, kernel=linear;, score=1.000 total time=  16.1s\n",
      "[CV 2/2] END .............C=0.01, kernel=linear;, score=1.000 total time=  15.2s\n",
      "[CV 1/2] END ...............C=0.01, kernel=poly;, score=1.000 total time=  28.3s\n",
      "[CV 2/2] END ...............C=0.01, kernel=poly;, score=1.000 total time=  28.4s\n"
     ]
    }
   ],
   "source": [
    "from sklearn.svm import SVC\n",
    "from sklearn.model_selection import cross_val_score, KFold, GridSearchCV\n",
    "\n",
    "rf = KFold(n_splits=2, shuffle=True, random_state=42)\n",
    "\n",
    "model = SVC(random_state=42)\n",
    "p_grid = {'C': [0.01],\n",
    "          'kernel': ['linear', 'poly', 'rbf']}\n",
    "clf1 = GridSearchCV(estimator=model, param_grid=p_grid, cv=rf, verbose=3)\n",
    "clf1.fit(X_train, y_train)\n",
    "\n",
    "# View the Grid Search CV Results\n",
    "print(clf1.cv_results_)"
   ]
  },
  {
   "cell_type": "markdown",
   "id": "1d2ac859",
   "metadata": {},
   "source": [
    "## KFold/GridSearchCV with high regularization value with less fold"
   ]
  },
  {
   "cell_type": "code",
   "execution_count": 8,
   "id": "c31cf5c7",
   "metadata": {},
   "outputs": [
    {
     "name": "stdout",
     "output_type": "stream",
     "text": [
      "Fitting 2 folds for each of 8 candidates, totalling 16 fits\n",
      "[CV 1/2] END ................C=1, kernel=linear;, score=1.000 total time=  16.5s\n",
      "[CV 2/2] END ................C=1, kernel=linear;, score=1.000 total time=  16.2s\n",
      "[CV 1/2] END ..................C=1, kernel=poly;, score=1.000 total time=   9.6s\n",
      "[CV 2/2] END ..................C=1, kernel=poly;, score=1.000 total time=   9.3s\n",
      "[CV 1/2] END ...............C=10, kernel=linear;, score=1.000 total time=  16.2s\n",
      "[CV 2/2] END ...............C=10, kernel=linear;, score=1.000 total time=  16.2s\n",
      "[CV 1/2] END .................C=10, kernel=poly;, score=1.000 total time=   9.6s\n",
      "[CV 2/2] END .................C=10, kernel=poly;, score=1.000 total time=   9.3s\n",
      "[CV 1/2] END ...............C=25, kernel=linear;, score=1.000 total time=  16.2s\n",
      "[CV 2/2] END ...............C=25, kernel=linear;, score=1.000 total time=  16.0s\n",
      "[CV 1/2] END .................C=25, kernel=poly;, score=1.000 total time=   9.6s\n",
      "[CV 2/2] END .................C=25, kernel=poly;, score=1.000 total time=   9.3s\n",
      "[CV 1/2] END ..............C=100, kernel=linear;, score=1.000 total time=  16.0s\n",
      "[CV 2/2] END ..............C=100, kernel=linear;, score=1.000 total time=  16.7s\n",
      "[CV 1/2] END ................C=100, kernel=poly;, score=1.000 total time=  10.0s\n",
      "[CV 2/2] END ................C=100, kernel=poly;, score=1.000 total time=   9.5s\n",
      "{'mean_fit_time': array([6.23518193, 5.28930116, 6.24301338, 5.28233802, 6.24329495,\n",
      "       5.23273218, 6.19416285, 5.60670757]), 'std_fit_time': array([0.01342666, 0.02887011, 0.07609057, 0.00990856, 0.06186295,\n",
      "       0.03674591, 0.02173233, 0.17461491]), 'mean_score_time': array([10.13248622,  4.12595141,  9.96686769,  4.16370237,  9.86184192,\n",
      "        4.220263  , 10.14295721,  4.15937102]), 'std_score_time': array([0.1562041 , 0.11322343, 0.0402348 , 0.15868986, 0.13741708,\n",
      "       0.1723032 , 0.31083894, 0.08156145]), 'param_C': masked_array(data=[1, 1, 10, 10, 25, 25, 100, 100],\n",
      "             mask=[False, False, False, False, False, False, False, False],\n",
      "       fill_value='?',\n",
      "            dtype=object), 'param_kernel': masked_array(data=['linear', 'poly', 'linear', 'poly', 'linear', 'poly',\n",
      "                   'linear', 'poly'],\n",
      "             mask=[False, False, False, False, False, False, False, False],\n",
      "       fill_value='?',\n",
      "            dtype=object), 'params': [{'C': 1, 'kernel': 'linear'}, {'C': 1, 'kernel': 'poly'}, {'C': 10, 'kernel': 'linear'}, {'C': 10, 'kernel': 'poly'}, {'C': 25, 'kernel': 'linear'}, {'C': 25, 'kernel': 'poly'}, {'C': 100, 'kernel': 'linear'}, {'C': 100, 'kernel': 'poly'}], 'split0_test_score': array([1., 1., 1., 1., 1., 1., 1., 1.]), 'split1_test_score': array([1., 1., 1., 1., 1., 1., 1., 1.]), 'mean_test_score': array([1., 1., 1., 1., 1., 1., 1., 1.]), 'std_test_score': array([0., 0., 0., 0., 0., 0., 0., 0.]), 'rank_test_score': array([1, 1, 1, 1, 1, 1, 1, 1], dtype=int32)}\n"
     ]
    }
   ],
   "source": [
    "from sklearn.svm import SVC\n",
    "from sklearn.model_selection import cross_val_score, KFold, GridSearchCV\n",
    "\n",
    "rf = KFold(n_splits=2, shuffle=True, random_state=42)\n",
    "\n",
    "model = SVC(random_state=42)\n",
    "p_grid = {'C': [1, 10, 25, 100],\n",
    "          'kernel': ['linear', 'poly']}\n",
    "clf1 = GridSearchCV(estimator=model, param_grid=p_grid, cv=rf, verbose=3)\n",
    "clf1.fit(X_train, y_train)\n",
    "\n",
    "# View the Grid Search CV Results\n",
    "print(clf1.cv_results_)"
   ]
  },
  {
   "cell_type": "markdown",
   "id": "b57912da",
   "metadata": {},
   "source": [
    "## KNN with n_neighbors of 1,2,3,5, and 10"
   ]
  },
  {
   "cell_type": "markdown",
   "id": "ecff2a5c",
   "metadata": {},
   "source": [
    "## SVM with RBF low scale (Using GridSearchCV)"
   ]
  },
  {
   "cell_type": "markdown",
   "id": "7b73f475",
   "metadata": {},
   "source": [
    "## What if data is different (train and test dataset is somehow different)"
   ]
  },
  {
   "cell_type": "code",
   "execution_count": 25,
   "id": "38c228da",
   "metadata": {},
   "outputs": [],
   "source": [
    "from sklearn.model_selection import train_test_split\n",
    "\n",
    "combined_data = pd.concat([data, data2]).sample(frac=1)\n",
    "y = combined_data['label']\n",
    "X = combined_data.drop(columns = 'label')\n",
    "\n",
    "X_train_1, X_test_1, y_train_1, y_test_1 = train_test_split(X, y, test_size=0.3, random_state=42)"
   ]
  },
  {
   "cell_type": "code",
   "execution_count": 26,
   "id": "d27fa0ae",
   "metadata": {},
   "outputs": [
    {
     "data": {
      "text/plain": [
       "1.0"
      ]
     },
     "execution_count": 26,
     "metadata": {},
     "output_type": "execute_result"
    }
   ],
   "source": [
    "from sklearn.svm import SVC\n",
    "from sklearn.model_selection import cross_val_score, KFold, GridSearchCV\n",
    "\n",
    "SVC(C=0.01, kernel='linear', random_state=42).fit(X_train_1, y_train_1).score(X_test_1, y_test_1)"
   ]
  },
  {
   "cell_type": "markdown",
   "id": "766c3548",
   "metadata": {},
   "source": [
    "Original Value (Without combining train/test dataset) = 0.7816508644729504"
   ]
  },
  {
   "cell_type": "markdown",
   "id": "2158740f",
   "metadata": {},
   "source": []
  }
 ],
 "metadata": {
  "interpreter": {
   "hash": "a438dc07be8591a21bc4cfe37c9918039017d625b9b697f4b1d919c9e13acd19"
  },
  "kernelspec": {
   "display_name": "Python 3 (ipykernel)",
   "language": "python",
   "name": "python3"
  },
  "language_info": {
   "codemirror_mode": {
    "name": "ipython",
    "version": 3
   },
   "file_extension": ".py",
   "mimetype": "text/x-python",
   "name": "python",
   "nbconvert_exporter": "python",
   "pygments_lexer": "ipython3",
   "version": "3.9.5"
  }
 },
 "nbformat": 4,
 "nbformat_minor": 5
}
