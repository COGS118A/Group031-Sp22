{
  "cells": [
    {
      "cell_type": "code",
      "execution_count": 1,
      "metadata": {
        "id": "wdM8S_8qs-Z9"
      },
      "outputs": [],
      "source": [
        "import numpy as np\n",
        "import pandas as pd\n",
        "import tensorflow as tf\n",
        "\n",
        "import matplotlib.pyplot as plt"
      ]
    },
    {
      "cell_type": "code",
      "execution_count": 5,
      "metadata": {
        "id": "sWi6iYPIs-Z_",
        "outputId": "24a83de2-dbd1-4668-c1cb-62e26daa8c6c",
        "colab": {
          "base_uri": "https://localhost:8080/",
          "height": 488
        }
      },
      "outputs": [
        {
          "output_type": "execute_result",
          "data": {
            "text/plain": [
              "       label  pixel1  pixel2  pixel3  pixel4  pixel5  pixel6  pixel7  pixel8  \\\n",
              "0          3     107     118     127     134     139     143     146     150   \n",
              "1          6     155     157     156     156     156     157     156     158   \n",
              "2          2     187     188     188     187     187     186     187     188   \n",
              "3          2     211     211     212     212     211     210     211     210   \n",
              "4         13     164     167     170     172     176     179     180     184   \n",
              "...      ...     ...     ...     ...     ...     ...     ...     ...     ...   \n",
              "27450     13     189     189     190     190     192     193     193     193   \n",
              "27451     23     151     154     157     158     160     161     163     164   \n",
              "27452     18     174     174     174     174     174     175     175     174   \n",
              "27453     17     177     181     184     185     187     189     190     191   \n",
              "27454     23     179     180     180     180     182     181     182     183   \n",
              "\n",
              "       pixel9  ...  pixel775  pixel776  pixel777  pixel778  pixel779  \\\n",
              "0         153  ...       207       207       207       207       206   \n",
              "1         158  ...        69       149       128        87        94   \n",
              "2         187  ...       202       201       200       199       198   \n",
              "3         210  ...       235       234       233       231       230   \n",
              "4         185  ...        92       105       105       108       133   \n",
              "...       ...  ...       ...       ...       ...       ...       ...   \n",
              "27450     193  ...       132       165        99        77        52   \n",
              "27451     166  ...       198       198       198       198       198   \n",
              "27452     173  ...       121       196       209       208       206   \n",
              "27453     191  ...       119        56        27        58       102   \n",
              "27454     182  ...       108       132       170       194       214   \n",
              "\n",
              "       pixel780  pixel781  pixel782  pixel783  pixel784  \n",
              "0           206       206       204       203       202  \n",
              "1           163       175       103       135       149  \n",
              "2           199       198       195       194       195  \n",
              "3           226       225       222       229       163  \n",
              "4           163       157       163       164       179  \n",
              "...         ...       ...       ...       ...       ...  \n",
              "27450       200       234       200       222       225  \n",
              "27451       196       195       195       195       194  \n",
              "27452       204       203       202       200       200  \n",
              "27453        79        47        64        87        93  \n",
              "27454       203       197       205       209       215  \n",
              "\n",
              "[27455 rows x 785 columns]"
            ],
            "text/html": [
              "\n",
              "  <div id=\"df-82c39260-f4db-48f4-b9f8-b5eebcbc1cda\">\n",
              "    <div class=\"colab-df-container\">\n",
              "      <div>\n",
              "<style scoped>\n",
              "    .dataframe tbody tr th:only-of-type {\n",
              "        vertical-align: middle;\n",
              "    }\n",
              "\n",
              "    .dataframe tbody tr th {\n",
              "        vertical-align: top;\n",
              "    }\n",
              "\n",
              "    .dataframe thead th {\n",
              "        text-align: right;\n",
              "    }\n",
              "</style>\n",
              "<table border=\"1\" class=\"dataframe\">\n",
              "  <thead>\n",
              "    <tr style=\"text-align: right;\">\n",
              "      <th></th>\n",
              "      <th>label</th>\n",
              "      <th>pixel1</th>\n",
              "      <th>pixel2</th>\n",
              "      <th>pixel3</th>\n",
              "      <th>pixel4</th>\n",
              "      <th>pixel5</th>\n",
              "      <th>pixel6</th>\n",
              "      <th>pixel7</th>\n",
              "      <th>pixel8</th>\n",
              "      <th>pixel9</th>\n",
              "      <th>...</th>\n",
              "      <th>pixel775</th>\n",
              "      <th>pixel776</th>\n",
              "      <th>pixel777</th>\n",
              "      <th>pixel778</th>\n",
              "      <th>pixel779</th>\n",
              "      <th>pixel780</th>\n",
              "      <th>pixel781</th>\n",
              "      <th>pixel782</th>\n",
              "      <th>pixel783</th>\n",
              "      <th>pixel784</th>\n",
              "    </tr>\n",
              "  </thead>\n",
              "  <tbody>\n",
              "    <tr>\n",
              "      <th>0</th>\n",
              "      <td>3</td>\n",
              "      <td>107</td>\n",
              "      <td>118</td>\n",
              "      <td>127</td>\n",
              "      <td>134</td>\n",
              "      <td>139</td>\n",
              "      <td>143</td>\n",
              "      <td>146</td>\n",
              "      <td>150</td>\n",
              "      <td>153</td>\n",
              "      <td>...</td>\n",
              "      <td>207</td>\n",
              "      <td>207</td>\n",
              "      <td>207</td>\n",
              "      <td>207</td>\n",
              "      <td>206</td>\n",
              "      <td>206</td>\n",
              "      <td>206</td>\n",
              "      <td>204</td>\n",
              "      <td>203</td>\n",
              "      <td>202</td>\n",
              "    </tr>\n",
              "    <tr>\n",
              "      <th>1</th>\n",
              "      <td>6</td>\n",
              "      <td>155</td>\n",
              "      <td>157</td>\n",
              "      <td>156</td>\n",
              "      <td>156</td>\n",
              "      <td>156</td>\n",
              "      <td>157</td>\n",
              "      <td>156</td>\n",
              "      <td>158</td>\n",
              "      <td>158</td>\n",
              "      <td>...</td>\n",
              "      <td>69</td>\n",
              "      <td>149</td>\n",
              "      <td>128</td>\n",
              "      <td>87</td>\n",
              "      <td>94</td>\n",
              "      <td>163</td>\n",
              "      <td>175</td>\n",
              "      <td>103</td>\n",
              "      <td>135</td>\n",
              "      <td>149</td>\n",
              "    </tr>\n",
              "    <tr>\n",
              "      <th>2</th>\n",
              "      <td>2</td>\n",
              "      <td>187</td>\n",
              "      <td>188</td>\n",
              "      <td>188</td>\n",
              "      <td>187</td>\n",
              "      <td>187</td>\n",
              "      <td>186</td>\n",
              "      <td>187</td>\n",
              "      <td>188</td>\n",
              "      <td>187</td>\n",
              "      <td>...</td>\n",
              "      <td>202</td>\n",
              "      <td>201</td>\n",
              "      <td>200</td>\n",
              "      <td>199</td>\n",
              "      <td>198</td>\n",
              "      <td>199</td>\n",
              "      <td>198</td>\n",
              "      <td>195</td>\n",
              "      <td>194</td>\n",
              "      <td>195</td>\n",
              "    </tr>\n",
              "    <tr>\n",
              "      <th>3</th>\n",
              "      <td>2</td>\n",
              "      <td>211</td>\n",
              "      <td>211</td>\n",
              "      <td>212</td>\n",
              "      <td>212</td>\n",
              "      <td>211</td>\n",
              "      <td>210</td>\n",
              "      <td>211</td>\n",
              "      <td>210</td>\n",
              "      <td>210</td>\n",
              "      <td>...</td>\n",
              "      <td>235</td>\n",
              "      <td>234</td>\n",
              "      <td>233</td>\n",
              "      <td>231</td>\n",
              "      <td>230</td>\n",
              "      <td>226</td>\n",
              "      <td>225</td>\n",
              "      <td>222</td>\n",
              "      <td>229</td>\n",
              "      <td>163</td>\n",
              "    </tr>\n",
              "    <tr>\n",
              "      <th>4</th>\n",
              "      <td>13</td>\n",
              "      <td>164</td>\n",
              "      <td>167</td>\n",
              "      <td>170</td>\n",
              "      <td>172</td>\n",
              "      <td>176</td>\n",
              "      <td>179</td>\n",
              "      <td>180</td>\n",
              "      <td>184</td>\n",
              "      <td>185</td>\n",
              "      <td>...</td>\n",
              "      <td>92</td>\n",
              "      <td>105</td>\n",
              "      <td>105</td>\n",
              "      <td>108</td>\n",
              "      <td>133</td>\n",
              "      <td>163</td>\n",
              "      <td>157</td>\n",
              "      <td>163</td>\n",
              "      <td>164</td>\n",
              "      <td>179</td>\n",
              "    </tr>\n",
              "    <tr>\n",
              "      <th>...</th>\n",
              "      <td>...</td>\n",
              "      <td>...</td>\n",
              "      <td>...</td>\n",
              "      <td>...</td>\n",
              "      <td>...</td>\n",
              "      <td>...</td>\n",
              "      <td>...</td>\n",
              "      <td>...</td>\n",
              "      <td>...</td>\n",
              "      <td>...</td>\n",
              "      <td>...</td>\n",
              "      <td>...</td>\n",
              "      <td>...</td>\n",
              "      <td>...</td>\n",
              "      <td>...</td>\n",
              "      <td>...</td>\n",
              "      <td>...</td>\n",
              "      <td>...</td>\n",
              "      <td>...</td>\n",
              "      <td>...</td>\n",
              "      <td>...</td>\n",
              "    </tr>\n",
              "    <tr>\n",
              "      <th>27450</th>\n",
              "      <td>13</td>\n",
              "      <td>189</td>\n",
              "      <td>189</td>\n",
              "      <td>190</td>\n",
              "      <td>190</td>\n",
              "      <td>192</td>\n",
              "      <td>193</td>\n",
              "      <td>193</td>\n",
              "      <td>193</td>\n",
              "      <td>193</td>\n",
              "      <td>...</td>\n",
              "      <td>132</td>\n",
              "      <td>165</td>\n",
              "      <td>99</td>\n",
              "      <td>77</td>\n",
              "      <td>52</td>\n",
              "      <td>200</td>\n",
              "      <td>234</td>\n",
              "      <td>200</td>\n",
              "      <td>222</td>\n",
              "      <td>225</td>\n",
              "    </tr>\n",
              "    <tr>\n",
              "      <th>27451</th>\n",
              "      <td>23</td>\n",
              "      <td>151</td>\n",
              "      <td>154</td>\n",
              "      <td>157</td>\n",
              "      <td>158</td>\n",
              "      <td>160</td>\n",
              "      <td>161</td>\n",
              "      <td>163</td>\n",
              "      <td>164</td>\n",
              "      <td>166</td>\n",
              "      <td>...</td>\n",
              "      <td>198</td>\n",
              "      <td>198</td>\n",
              "      <td>198</td>\n",
              "      <td>198</td>\n",
              "      <td>198</td>\n",
              "      <td>196</td>\n",
              "      <td>195</td>\n",
              "      <td>195</td>\n",
              "      <td>195</td>\n",
              "      <td>194</td>\n",
              "    </tr>\n",
              "    <tr>\n",
              "      <th>27452</th>\n",
              "      <td>18</td>\n",
              "      <td>174</td>\n",
              "      <td>174</td>\n",
              "      <td>174</td>\n",
              "      <td>174</td>\n",
              "      <td>174</td>\n",
              "      <td>175</td>\n",
              "      <td>175</td>\n",
              "      <td>174</td>\n",
              "      <td>173</td>\n",
              "      <td>...</td>\n",
              "      <td>121</td>\n",
              "      <td>196</td>\n",
              "      <td>209</td>\n",
              "      <td>208</td>\n",
              "      <td>206</td>\n",
              "      <td>204</td>\n",
              "      <td>203</td>\n",
              "      <td>202</td>\n",
              "      <td>200</td>\n",
              "      <td>200</td>\n",
              "    </tr>\n",
              "    <tr>\n",
              "      <th>27453</th>\n",
              "      <td>17</td>\n",
              "      <td>177</td>\n",
              "      <td>181</td>\n",
              "      <td>184</td>\n",
              "      <td>185</td>\n",
              "      <td>187</td>\n",
              "      <td>189</td>\n",
              "      <td>190</td>\n",
              "      <td>191</td>\n",
              "      <td>191</td>\n",
              "      <td>...</td>\n",
              "      <td>119</td>\n",
              "      <td>56</td>\n",
              "      <td>27</td>\n",
              "      <td>58</td>\n",
              "      <td>102</td>\n",
              "      <td>79</td>\n",
              "      <td>47</td>\n",
              "      <td>64</td>\n",
              "      <td>87</td>\n",
              "      <td>93</td>\n",
              "    </tr>\n",
              "    <tr>\n",
              "      <th>27454</th>\n",
              "      <td>23</td>\n",
              "      <td>179</td>\n",
              "      <td>180</td>\n",
              "      <td>180</td>\n",
              "      <td>180</td>\n",
              "      <td>182</td>\n",
              "      <td>181</td>\n",
              "      <td>182</td>\n",
              "      <td>183</td>\n",
              "      <td>182</td>\n",
              "      <td>...</td>\n",
              "      <td>108</td>\n",
              "      <td>132</td>\n",
              "      <td>170</td>\n",
              "      <td>194</td>\n",
              "      <td>214</td>\n",
              "      <td>203</td>\n",
              "      <td>197</td>\n",
              "      <td>205</td>\n",
              "      <td>209</td>\n",
              "      <td>215</td>\n",
              "    </tr>\n",
              "  </tbody>\n",
              "</table>\n",
              "<p>27455 rows × 785 columns</p>\n",
              "</div>\n",
              "      <button class=\"colab-df-convert\" onclick=\"convertToInteractive('df-82c39260-f4db-48f4-b9f8-b5eebcbc1cda')\"\n",
              "              title=\"Convert this dataframe to an interactive table.\"\n",
              "              style=\"display:none;\">\n",
              "        \n",
              "  <svg xmlns=\"http://www.w3.org/2000/svg\" height=\"24px\"viewBox=\"0 0 24 24\"\n",
              "       width=\"24px\">\n",
              "    <path d=\"M0 0h24v24H0V0z\" fill=\"none\"/>\n",
              "    <path d=\"M18.56 5.44l.94 2.06.94-2.06 2.06-.94-2.06-.94-.94-2.06-.94 2.06-2.06.94zm-11 1L8.5 8.5l.94-2.06 2.06-.94-2.06-.94L8.5 2.5l-.94 2.06-2.06.94zm10 10l.94 2.06.94-2.06 2.06-.94-2.06-.94-.94-2.06-.94 2.06-2.06.94z\"/><path d=\"M17.41 7.96l-1.37-1.37c-.4-.4-.92-.59-1.43-.59-.52 0-1.04.2-1.43.59L10.3 9.45l-7.72 7.72c-.78.78-.78 2.05 0 2.83L4 21.41c.39.39.9.59 1.41.59.51 0 1.02-.2 1.41-.59l7.78-7.78 2.81-2.81c.8-.78.8-2.07 0-2.86zM5.41 20L4 18.59l7.72-7.72 1.47 1.35L5.41 20z\"/>\n",
              "  </svg>\n",
              "      </button>\n",
              "      \n",
              "  <style>\n",
              "    .colab-df-container {\n",
              "      display:flex;\n",
              "      flex-wrap:wrap;\n",
              "      gap: 12px;\n",
              "    }\n",
              "\n",
              "    .colab-df-convert {\n",
              "      background-color: #E8F0FE;\n",
              "      border: none;\n",
              "      border-radius: 50%;\n",
              "      cursor: pointer;\n",
              "      display: none;\n",
              "      fill: #1967D2;\n",
              "      height: 32px;\n",
              "      padding: 0 0 0 0;\n",
              "      width: 32px;\n",
              "    }\n",
              "\n",
              "    .colab-df-convert:hover {\n",
              "      background-color: #E2EBFA;\n",
              "      box-shadow: 0px 1px 2px rgba(60, 64, 67, 0.3), 0px 1px 3px 1px rgba(60, 64, 67, 0.15);\n",
              "      fill: #174EA6;\n",
              "    }\n",
              "\n",
              "    [theme=dark] .colab-df-convert {\n",
              "      background-color: #3B4455;\n",
              "      fill: #D2E3FC;\n",
              "    }\n",
              "\n",
              "    [theme=dark] .colab-df-convert:hover {\n",
              "      background-color: #434B5C;\n",
              "      box-shadow: 0px 1px 3px 1px rgba(0, 0, 0, 0.15);\n",
              "      filter: drop-shadow(0px 1px 2px rgba(0, 0, 0, 0.3));\n",
              "      fill: #FFFFFF;\n",
              "    }\n",
              "  </style>\n",
              "\n",
              "      <script>\n",
              "        const buttonEl =\n",
              "          document.querySelector('#df-82c39260-f4db-48f4-b9f8-b5eebcbc1cda button.colab-df-convert');\n",
              "        buttonEl.style.display =\n",
              "          google.colab.kernel.accessAllowed ? 'block' : 'none';\n",
              "\n",
              "        async function convertToInteractive(key) {\n",
              "          const element = document.querySelector('#df-82c39260-f4db-48f4-b9f8-b5eebcbc1cda');\n",
              "          const dataTable =\n",
              "            await google.colab.kernel.invokeFunction('convertToInteractive',\n",
              "                                                     [key], {});\n",
              "          if (!dataTable) return;\n",
              "\n",
              "          const docLinkHtml = 'Like what you see? Visit the ' +\n",
              "            '<a target=\"_blank\" href=https://colab.research.google.com/notebooks/data_table.ipynb>data table notebook</a>'\n",
              "            + ' to learn more about interactive tables.';\n",
              "          element.innerHTML = '';\n",
              "          dataTable['output_type'] = 'display_data';\n",
              "          await google.colab.output.renderOutput(dataTable, element);\n",
              "          const docLink = document.createElement('div');\n",
              "          docLink.innerHTML = docLinkHtml;\n",
              "          element.appendChild(docLink);\n",
              "        }\n",
              "      </script>\n",
              "    </div>\n",
              "  </div>\n",
              "  "
            ]
          },
          "metadata": {},
          "execution_count": 5
        }
      ],
      "source": [
        "data = pd.read_csv('sign_mnist_train.csv') # Since train data is too large to put it into Github, it is recommended to download it and save it in workplace.\n",
        "data"
      ]
    },
    {
      "cell_type": "code",
      "execution_count": 6,
      "metadata": {
        "id": "5NylEm81s-aA"
      },
      "outputs": [],
      "source": [
        "y_train = data['label']\n",
        "\n",
        "X_train = data.drop(columns = 'label')"
      ]
    },
    {
      "cell_type": "code",
      "source": [
        "np.unique(y_train)\n",
        "one_hot_enc_y_train = tf.keras.utils.to_categorical(y_train)\n",
        "one_hot_enc_y_train.shape"
      ],
      "metadata": {
        "id": "SN6E8blPxCL7",
        "outputId": "d88e7a36-830b-41bc-e451-cc5101e22289",
        "colab": {
          "base_uri": "https://localhost:8080/"
        }
      },
      "execution_count": 7,
      "outputs": [
        {
          "output_type": "execute_result",
          "data": {
            "text/plain": [
              "(27455, 25)"
            ]
          },
          "metadata": {},
          "execution_count": 7
        }
      ]
    },
    {
      "cell_type": "code",
      "source": [
        "\n",
        "np.unique(y_train)"
      ],
      "metadata": {
        "id": "IP7w-naCvgoF",
        "outputId": "b3727823-fa6e-405c-9a4d-4d1c9fc045e5",
        "colab": {
          "base_uri": "https://localhost:8080/"
        }
      },
      "execution_count": 8,
      "outputs": [
        {
          "output_type": "execute_result",
          "data": {
            "text/plain": [
              "array([ 0,  1,  2,  3,  4,  5,  6,  7,  8, 10, 11, 12, 13, 14, 15, 16, 17,\n",
              "       18, 19, 20, 21, 22, 23, 24])"
            ]
          },
          "metadata": {},
          "execution_count": 8
        }
      ]
    },
    {
      "cell_type": "code",
      "execution_count": 9,
      "metadata": {
        "id": "r10eTGxks-aB",
        "outputId": "26c01c96-fed9-4f56-d6df-2b7546977030",
        "colab": {
          "base_uri": "https://localhost:8080/",
          "height": 488
        }
      },
      "outputs": [
        {
          "output_type": "execute_result",
          "data": {
            "text/plain": [
              "      label  pixel1  pixel2  pixel3  pixel4  pixel5  pixel6  pixel7  pixel8  \\\n",
              "0         6     149     149     150     150     150     151     151     150   \n",
              "1         5     126     128     131     132     133     134     135     135   \n",
              "2        10      85      88      92      96     105     123     135     143   \n",
              "3         0     203     205     207     206     207     209     210     209   \n",
              "4         3     188     191     193     195     199     201     202     203   \n",
              "...     ...     ...     ...     ...     ...     ...     ...     ...     ...   \n",
              "7167      1     135     119     108     102     105      99      61     103   \n",
              "7168     12     157     159     161     164     166     166     171     174   \n",
              "7169      2     190     191     190     191     190     190     192     192   \n",
              "7170      4     201     205     208     209     214     216     218     223   \n",
              "7171      2     173     174     173     174     173     173     175     175   \n",
              "\n",
              "      pixel9  ...  pixel775  pixel776  pixel777  pixel778  pixel779  pixel780  \\\n",
              "0        151  ...       138       148       127        89        82        96   \n",
              "1        136  ...        47       104       194       183       186       184   \n",
              "2        147  ...        68       166       242       227       230       227   \n",
              "3        210  ...       154       248       247       248       253       236   \n",
              "4        203  ...        26        40        64        48        29        46   \n",
              "...      ...  ...       ...       ...       ...       ...       ...       ...   \n",
              "7167     121  ...       108       112       116       114       118       180   \n",
              "7168     175  ...       213       213       213       214       213       211   \n",
              "7169     191  ...       216       215       213       214       214       213   \n",
              "7170     226  ...       112       169       255       255       237       113   \n",
              "7171     174  ...       201       200       197       198       198       197   \n",
              "\n",
              "      pixel781  pixel782  pixel783  pixel784  \n",
              "0          106       112       120       107  \n",
              "1          184       184       182       180  \n",
              "2          226       225       224       222  \n",
              "3          230       240       253       255  \n",
              "4           49        46        46        53  \n",
              "...        ...       ...       ...       ...  \n",
              "7167       184       176       167       163  \n",
              "7168       210       210       209       208  \n",
              "7169       210       211       209       208  \n",
              "7170        91        67        70        63  \n",
              "7171       195       195       193       192  \n",
              "\n",
              "[7172 rows x 785 columns]"
            ],
            "text/html": [
              "\n",
              "  <div id=\"df-e2674c71-baf1-4900-b8e5-e623f1be15f4\">\n",
              "    <div class=\"colab-df-container\">\n",
              "      <div>\n",
              "<style scoped>\n",
              "    .dataframe tbody tr th:only-of-type {\n",
              "        vertical-align: middle;\n",
              "    }\n",
              "\n",
              "    .dataframe tbody tr th {\n",
              "        vertical-align: top;\n",
              "    }\n",
              "\n",
              "    .dataframe thead th {\n",
              "        text-align: right;\n",
              "    }\n",
              "</style>\n",
              "<table border=\"1\" class=\"dataframe\">\n",
              "  <thead>\n",
              "    <tr style=\"text-align: right;\">\n",
              "      <th></th>\n",
              "      <th>label</th>\n",
              "      <th>pixel1</th>\n",
              "      <th>pixel2</th>\n",
              "      <th>pixel3</th>\n",
              "      <th>pixel4</th>\n",
              "      <th>pixel5</th>\n",
              "      <th>pixel6</th>\n",
              "      <th>pixel7</th>\n",
              "      <th>pixel8</th>\n",
              "      <th>pixel9</th>\n",
              "      <th>...</th>\n",
              "      <th>pixel775</th>\n",
              "      <th>pixel776</th>\n",
              "      <th>pixel777</th>\n",
              "      <th>pixel778</th>\n",
              "      <th>pixel779</th>\n",
              "      <th>pixel780</th>\n",
              "      <th>pixel781</th>\n",
              "      <th>pixel782</th>\n",
              "      <th>pixel783</th>\n",
              "      <th>pixel784</th>\n",
              "    </tr>\n",
              "  </thead>\n",
              "  <tbody>\n",
              "    <tr>\n",
              "      <th>0</th>\n",
              "      <td>6</td>\n",
              "      <td>149</td>\n",
              "      <td>149</td>\n",
              "      <td>150</td>\n",
              "      <td>150</td>\n",
              "      <td>150</td>\n",
              "      <td>151</td>\n",
              "      <td>151</td>\n",
              "      <td>150</td>\n",
              "      <td>151</td>\n",
              "      <td>...</td>\n",
              "      <td>138</td>\n",
              "      <td>148</td>\n",
              "      <td>127</td>\n",
              "      <td>89</td>\n",
              "      <td>82</td>\n",
              "      <td>96</td>\n",
              "      <td>106</td>\n",
              "      <td>112</td>\n",
              "      <td>120</td>\n",
              "      <td>107</td>\n",
              "    </tr>\n",
              "    <tr>\n",
              "      <th>1</th>\n",
              "      <td>5</td>\n",
              "      <td>126</td>\n",
              "      <td>128</td>\n",
              "      <td>131</td>\n",
              "      <td>132</td>\n",
              "      <td>133</td>\n",
              "      <td>134</td>\n",
              "      <td>135</td>\n",
              "      <td>135</td>\n",
              "      <td>136</td>\n",
              "      <td>...</td>\n",
              "      <td>47</td>\n",
              "      <td>104</td>\n",
              "      <td>194</td>\n",
              "      <td>183</td>\n",
              "      <td>186</td>\n",
              "      <td>184</td>\n",
              "      <td>184</td>\n",
              "      <td>184</td>\n",
              "      <td>182</td>\n",
              "      <td>180</td>\n",
              "    </tr>\n",
              "    <tr>\n",
              "      <th>2</th>\n",
              "      <td>10</td>\n",
              "      <td>85</td>\n",
              "      <td>88</td>\n",
              "      <td>92</td>\n",
              "      <td>96</td>\n",
              "      <td>105</td>\n",
              "      <td>123</td>\n",
              "      <td>135</td>\n",
              "      <td>143</td>\n",
              "      <td>147</td>\n",
              "      <td>...</td>\n",
              "      <td>68</td>\n",
              "      <td>166</td>\n",
              "      <td>242</td>\n",
              "      <td>227</td>\n",
              "      <td>230</td>\n",
              "      <td>227</td>\n",
              "      <td>226</td>\n",
              "      <td>225</td>\n",
              "      <td>224</td>\n",
              "      <td>222</td>\n",
              "    </tr>\n",
              "    <tr>\n",
              "      <th>3</th>\n",
              "      <td>0</td>\n",
              "      <td>203</td>\n",
              "      <td>205</td>\n",
              "      <td>207</td>\n",
              "      <td>206</td>\n",
              "      <td>207</td>\n",
              "      <td>209</td>\n",
              "      <td>210</td>\n",
              "      <td>209</td>\n",
              "      <td>210</td>\n",
              "      <td>...</td>\n",
              "      <td>154</td>\n",
              "      <td>248</td>\n",
              "      <td>247</td>\n",
              "      <td>248</td>\n",
              "      <td>253</td>\n",
              "      <td>236</td>\n",
              "      <td>230</td>\n",
              "      <td>240</td>\n",
              "      <td>253</td>\n",
              "      <td>255</td>\n",
              "    </tr>\n",
              "    <tr>\n",
              "      <th>4</th>\n",
              "      <td>3</td>\n",
              "      <td>188</td>\n",
              "      <td>191</td>\n",
              "      <td>193</td>\n",
              "      <td>195</td>\n",
              "      <td>199</td>\n",
              "      <td>201</td>\n",
              "      <td>202</td>\n",
              "      <td>203</td>\n",
              "      <td>203</td>\n",
              "      <td>...</td>\n",
              "      <td>26</td>\n",
              "      <td>40</td>\n",
              "      <td>64</td>\n",
              "      <td>48</td>\n",
              "      <td>29</td>\n",
              "      <td>46</td>\n",
              "      <td>49</td>\n",
              "      <td>46</td>\n",
              "      <td>46</td>\n",
              "      <td>53</td>\n",
              "    </tr>\n",
              "    <tr>\n",
              "      <th>...</th>\n",
              "      <td>...</td>\n",
              "      <td>...</td>\n",
              "      <td>...</td>\n",
              "      <td>...</td>\n",
              "      <td>...</td>\n",
              "      <td>...</td>\n",
              "      <td>...</td>\n",
              "      <td>...</td>\n",
              "      <td>...</td>\n",
              "      <td>...</td>\n",
              "      <td>...</td>\n",
              "      <td>...</td>\n",
              "      <td>...</td>\n",
              "      <td>...</td>\n",
              "      <td>...</td>\n",
              "      <td>...</td>\n",
              "      <td>...</td>\n",
              "      <td>...</td>\n",
              "      <td>...</td>\n",
              "      <td>...</td>\n",
              "      <td>...</td>\n",
              "    </tr>\n",
              "    <tr>\n",
              "      <th>7167</th>\n",
              "      <td>1</td>\n",
              "      <td>135</td>\n",
              "      <td>119</td>\n",
              "      <td>108</td>\n",
              "      <td>102</td>\n",
              "      <td>105</td>\n",
              "      <td>99</td>\n",
              "      <td>61</td>\n",
              "      <td>103</td>\n",
              "      <td>121</td>\n",
              "      <td>...</td>\n",
              "      <td>108</td>\n",
              "      <td>112</td>\n",
              "      <td>116</td>\n",
              "      <td>114</td>\n",
              "      <td>118</td>\n",
              "      <td>180</td>\n",
              "      <td>184</td>\n",
              "      <td>176</td>\n",
              "      <td>167</td>\n",
              "      <td>163</td>\n",
              "    </tr>\n",
              "    <tr>\n",
              "      <th>7168</th>\n",
              "      <td>12</td>\n",
              "      <td>157</td>\n",
              "      <td>159</td>\n",
              "      <td>161</td>\n",
              "      <td>164</td>\n",
              "      <td>166</td>\n",
              "      <td>166</td>\n",
              "      <td>171</td>\n",
              "      <td>174</td>\n",
              "      <td>175</td>\n",
              "      <td>...</td>\n",
              "      <td>213</td>\n",
              "      <td>213</td>\n",
              "      <td>213</td>\n",
              "      <td>214</td>\n",
              "      <td>213</td>\n",
              "      <td>211</td>\n",
              "      <td>210</td>\n",
              "      <td>210</td>\n",
              "      <td>209</td>\n",
              "      <td>208</td>\n",
              "    </tr>\n",
              "    <tr>\n",
              "      <th>7169</th>\n",
              "      <td>2</td>\n",
              "      <td>190</td>\n",
              "      <td>191</td>\n",
              "      <td>190</td>\n",
              "      <td>191</td>\n",
              "      <td>190</td>\n",
              "      <td>190</td>\n",
              "      <td>192</td>\n",
              "      <td>192</td>\n",
              "      <td>191</td>\n",
              "      <td>...</td>\n",
              "      <td>216</td>\n",
              "      <td>215</td>\n",
              "      <td>213</td>\n",
              "      <td>214</td>\n",
              "      <td>214</td>\n",
              "      <td>213</td>\n",
              "      <td>210</td>\n",
              "      <td>211</td>\n",
              "      <td>209</td>\n",
              "      <td>208</td>\n",
              "    </tr>\n",
              "    <tr>\n",
              "      <th>7170</th>\n",
              "      <td>4</td>\n",
              "      <td>201</td>\n",
              "      <td>205</td>\n",
              "      <td>208</td>\n",
              "      <td>209</td>\n",
              "      <td>214</td>\n",
              "      <td>216</td>\n",
              "      <td>218</td>\n",
              "      <td>223</td>\n",
              "      <td>226</td>\n",
              "      <td>...</td>\n",
              "      <td>112</td>\n",
              "      <td>169</td>\n",
              "      <td>255</td>\n",
              "      <td>255</td>\n",
              "      <td>237</td>\n",
              "      <td>113</td>\n",
              "      <td>91</td>\n",
              "      <td>67</td>\n",
              "      <td>70</td>\n",
              "      <td>63</td>\n",
              "    </tr>\n",
              "    <tr>\n",
              "      <th>7171</th>\n",
              "      <td>2</td>\n",
              "      <td>173</td>\n",
              "      <td>174</td>\n",
              "      <td>173</td>\n",
              "      <td>174</td>\n",
              "      <td>173</td>\n",
              "      <td>173</td>\n",
              "      <td>175</td>\n",
              "      <td>175</td>\n",
              "      <td>174</td>\n",
              "      <td>...</td>\n",
              "      <td>201</td>\n",
              "      <td>200</td>\n",
              "      <td>197</td>\n",
              "      <td>198</td>\n",
              "      <td>198</td>\n",
              "      <td>197</td>\n",
              "      <td>195</td>\n",
              "      <td>195</td>\n",
              "      <td>193</td>\n",
              "      <td>192</td>\n",
              "    </tr>\n",
              "  </tbody>\n",
              "</table>\n",
              "<p>7172 rows × 785 columns</p>\n",
              "</div>\n",
              "      <button class=\"colab-df-convert\" onclick=\"convertToInteractive('df-e2674c71-baf1-4900-b8e5-e623f1be15f4')\"\n",
              "              title=\"Convert this dataframe to an interactive table.\"\n",
              "              style=\"display:none;\">\n",
              "        \n",
              "  <svg xmlns=\"http://www.w3.org/2000/svg\" height=\"24px\"viewBox=\"0 0 24 24\"\n",
              "       width=\"24px\">\n",
              "    <path d=\"M0 0h24v24H0V0z\" fill=\"none\"/>\n",
              "    <path d=\"M18.56 5.44l.94 2.06.94-2.06 2.06-.94-2.06-.94-.94-2.06-.94 2.06-2.06.94zm-11 1L8.5 8.5l.94-2.06 2.06-.94-2.06-.94L8.5 2.5l-.94 2.06-2.06.94zm10 10l.94 2.06.94-2.06 2.06-.94-2.06-.94-.94-2.06-.94 2.06-2.06.94z\"/><path d=\"M17.41 7.96l-1.37-1.37c-.4-.4-.92-.59-1.43-.59-.52 0-1.04.2-1.43.59L10.3 9.45l-7.72 7.72c-.78.78-.78 2.05 0 2.83L4 21.41c.39.39.9.59 1.41.59.51 0 1.02-.2 1.41-.59l7.78-7.78 2.81-2.81c.8-.78.8-2.07 0-2.86zM5.41 20L4 18.59l7.72-7.72 1.47 1.35L5.41 20z\"/>\n",
              "  </svg>\n",
              "      </button>\n",
              "      \n",
              "  <style>\n",
              "    .colab-df-container {\n",
              "      display:flex;\n",
              "      flex-wrap:wrap;\n",
              "      gap: 12px;\n",
              "    }\n",
              "\n",
              "    .colab-df-convert {\n",
              "      background-color: #E8F0FE;\n",
              "      border: none;\n",
              "      border-radius: 50%;\n",
              "      cursor: pointer;\n",
              "      display: none;\n",
              "      fill: #1967D2;\n",
              "      height: 32px;\n",
              "      padding: 0 0 0 0;\n",
              "      width: 32px;\n",
              "    }\n",
              "\n",
              "    .colab-df-convert:hover {\n",
              "      background-color: #E2EBFA;\n",
              "      box-shadow: 0px 1px 2px rgba(60, 64, 67, 0.3), 0px 1px 3px 1px rgba(60, 64, 67, 0.15);\n",
              "      fill: #174EA6;\n",
              "    }\n",
              "\n",
              "    [theme=dark] .colab-df-convert {\n",
              "      background-color: #3B4455;\n",
              "      fill: #D2E3FC;\n",
              "    }\n",
              "\n",
              "    [theme=dark] .colab-df-convert:hover {\n",
              "      background-color: #434B5C;\n",
              "      box-shadow: 0px 1px 3px 1px rgba(0, 0, 0, 0.15);\n",
              "      filter: drop-shadow(0px 1px 2px rgba(0, 0, 0, 0.3));\n",
              "      fill: #FFFFFF;\n",
              "    }\n",
              "  </style>\n",
              "\n",
              "      <script>\n",
              "        const buttonEl =\n",
              "          document.querySelector('#df-e2674c71-baf1-4900-b8e5-e623f1be15f4 button.colab-df-convert');\n",
              "        buttonEl.style.display =\n",
              "          google.colab.kernel.accessAllowed ? 'block' : 'none';\n",
              "\n",
              "        async function convertToInteractive(key) {\n",
              "          const element = document.querySelector('#df-e2674c71-baf1-4900-b8e5-e623f1be15f4');\n",
              "          const dataTable =\n",
              "            await google.colab.kernel.invokeFunction('convertToInteractive',\n",
              "                                                     [key], {});\n",
              "          if (!dataTable) return;\n",
              "\n",
              "          const docLinkHtml = 'Like what you see? Visit the ' +\n",
              "            '<a target=\"_blank\" href=https://colab.research.google.com/notebooks/data_table.ipynb>data table notebook</a>'\n",
              "            + ' to learn more about interactive tables.';\n",
              "          element.innerHTML = '';\n",
              "          dataTable['output_type'] = 'display_data';\n",
              "          await google.colab.output.renderOutput(dataTable, element);\n",
              "          const docLink = document.createElement('div');\n",
              "          docLink.innerHTML = docLinkHtml;\n",
              "          element.appendChild(docLink);\n",
              "        }\n",
              "      </script>\n",
              "    </div>\n",
              "  </div>\n",
              "  "
            ]
          },
          "metadata": {},
          "execution_count": 9
        }
      ],
      "source": [
        "test = pd.read_csv('sign_mnist_test.csv') # Since train data is too large to put it into Github, it is recommended to download it and save it in workplace.\n",
        "test"
      ]
    },
    {
      "cell_type": "code",
      "execution_count": 10,
      "metadata": {
        "id": "Y62sTBMKs-aC"
      },
      "outputs": [],
      "source": [
        "y_test = test['label']\n",
        "X_test = test.drop(columns = 'label')"
      ]
    },
    {
      "cell_type": "code",
      "execution_count": 11,
      "metadata": {
        "id": "jPz8ibrPs-aC"
      },
      "outputs": [],
      "source": [
        "from tensorflow.keras import layers, models"
      ]
    },
    {
      "cell_type": "code",
      "execution_count": 12,
      "metadata": {
        "id": "KuIvmM-Ps-aD"
      },
      "outputs": [],
      "source": [
        "# Normalize the data\n",
        "X_train /= 255.0\n",
        "X_test /= 255.0"
      ]
    },
    {
      "cell_type": "code",
      "execution_count": 13,
      "metadata": {
        "id": "_0hClqxos-aD"
      },
      "outputs": [],
      "source": [
        "X_train = X_train.values\n",
        "X_test = X_test.values\n",
        "\n",
        "X_train = X_train.reshape(-1,28,28,1)\n",
        "X_test = X_test.reshape(-1,28,28,1)"
      ]
    },
    {
      "cell_type": "code",
      "execution_count": 14,
      "metadata": {
        "id": "_xo7rqops-aF",
        "outputId": "6f8f2446-2c60-435d-dcf9-867cd5a3cb28",
        "colab": {
          "base_uri": "https://localhost:8080/"
        }
      },
      "outputs": [
        {
          "output_type": "stream",
          "name": "stdout",
          "text": [
            "Model: \"sequential\"\n",
            "_________________________________________________________________\n",
            " Layer (type)                Output Shape              Param #   \n",
            "=================================================================\n",
            " conv2d (Conv2D)             (None, 26, 26, 32)        320       \n",
            "                                                                 \n",
            " max_pooling2d (MaxPooling2D  (None, 13, 13, 32)       0         \n",
            " )                                                               \n",
            "                                                                 \n",
            " conv2d_1 (Conv2D)           (None, 11, 11, 64)        18496     \n",
            "                                                                 \n",
            " max_pooling2d_1 (MaxPooling  (None, 5, 5, 64)         0         \n",
            " 2D)                                                             \n",
            "                                                                 \n",
            " conv2d_2 (Conv2D)           (None, 3, 3, 64)          36928     \n",
            "                                                                 \n",
            "=================================================================\n",
            "Total params: 55,744\n",
            "Trainable params: 55,744\n",
            "Non-trainable params: 0\n",
            "_________________________________________________________________\n"
          ]
        }
      ],
      "source": [
        "model_l2 = models.Sequential();\n",
        "model_l2.add(layers.Conv2D(32, (3, 3), activation='relu', input_shape=(28, 28, 1)))\n",
        "model_l2.add(layers.MaxPooling2D((2, 2)))\n",
        "model_l2.add(layers.Conv2D(64, (3, 3), activation='relu'))\n",
        "model_l2.add(layers.MaxPooling2D((2, 2)))\n",
        "model_l2.add(layers.Conv2D(64, (3, 3), activation='relu'))\n",
        "model_l2.summary()"
      ]
    },
    {
      "cell_type": "code",
      "execution_count": 15,
      "metadata": {
        "id": "6gSmNseTs-aG"
      },
      "outputs": [],
      "source": [
        "model_l2.add(layers.Flatten())\n",
        "model_l2.add(layers.Dense(64, activation='relu', kernel_regularizer='l2'))\n",
        "model_l2.add(layers.Dense(25, kernel_regularizer='l2'))"
      ]
    },
    {
      "cell_type": "code",
      "execution_count": 16,
      "metadata": {
        "id": "gK2qmGVFs-aG",
        "outputId": "3e336084-bc86-41a5-ce2f-c436f510855e",
        "colab": {
          "base_uri": "https://localhost:8080/"
        }
      },
      "outputs": [
        {
          "output_type": "stream",
          "name": "stdout",
          "text": [
            "Model: \"sequential\"\n",
            "_________________________________________________________________\n",
            " Layer (type)                Output Shape              Param #   \n",
            "=================================================================\n",
            " conv2d (Conv2D)             (None, 26, 26, 32)        320       \n",
            "                                                                 \n",
            " max_pooling2d (MaxPooling2D  (None, 13, 13, 32)       0         \n",
            " )                                                               \n",
            "                                                                 \n",
            " conv2d_1 (Conv2D)           (None, 11, 11, 64)        18496     \n",
            "                                                                 \n",
            " max_pooling2d_1 (MaxPooling  (None, 5, 5, 64)         0         \n",
            " 2D)                                                             \n",
            "                                                                 \n",
            " conv2d_2 (Conv2D)           (None, 3, 3, 64)          36928     \n",
            "                                                                 \n",
            " flatten (Flatten)           (None, 576)               0         \n",
            "                                                                 \n",
            " dense (Dense)               (None, 64)                36928     \n",
            "                                                                 \n",
            " dense_1 (Dense)             (None, 25)                1625      \n",
            "                                                                 \n",
            "=================================================================\n",
            "Total params: 94,297\n",
            "Trainable params: 94,297\n",
            "Non-trainable params: 0\n",
            "_________________________________________________________________\n"
          ]
        }
      ],
      "source": [
        "model_l2.summary()"
      ]
    },
    {
      "cell_type": "code",
      "execution_count": 17,
      "metadata": {
        "id": "DbH7KXEms-aH",
        "outputId": "bf237544-b47d-4451-9c1a-23b3af58d30b",
        "colab": {
          "base_uri": "https://localhost:8080/"
        }
      },
      "outputs": [
        {
          "output_type": "stream",
          "name": "stdout",
          "text": [
            "Epoch 1/10\n",
            "858/858 [==============================] - 15s 5ms/step - loss: 1.6500 - accuracy: 0.5608 - val_loss: 0.8702 - val_accuracy: 0.7784\n",
            "Epoch 2/10\n",
            "858/858 [==============================] - 4s 4ms/step - loss: 0.4490 - accuracy: 0.9342 - val_loss: 0.6378 - val_accuracy: 0.8716\n",
            "Epoch 3/10\n",
            "858/858 [==============================] - 4s 4ms/step - loss: 0.2785 - accuracy: 0.9810 - val_loss: 0.5546 - val_accuracy: 0.8972\n",
            "Epoch 4/10\n",
            "858/858 [==============================] - 4s 4ms/step - loss: 0.2174 - accuracy: 0.9882 - val_loss: 0.4791 - val_accuracy: 0.9109\n",
            "Epoch 5/10\n",
            "858/858 [==============================] - 4s 4ms/step - loss: 0.1820 - accuracy: 0.9894 - val_loss: 0.6544 - val_accuracy: 0.8311\n",
            "Epoch 6/10\n",
            "858/858 [==============================] - 3s 4ms/step - loss: 0.1672 - accuracy: 0.9897 - val_loss: 0.4100 - val_accuracy: 0.9197\n",
            "Epoch 7/10\n",
            "858/858 [==============================] - 4s 4ms/step - loss: 0.1368 - accuracy: 0.9911 - val_loss: 0.3597 - val_accuracy: 0.9354\n",
            "Epoch 8/10\n",
            "858/858 [==============================] - 4s 4ms/step - loss: 0.1254 - accuracy: 0.9918 - val_loss: 0.5343 - val_accuracy: 0.9056\n",
            "Epoch 9/10\n",
            "858/858 [==============================] - 4s 4ms/step - loss: 0.1174 - accuracy: 0.9918 - val_loss: 0.6288 - val_accuracy: 0.8519\n",
            "Epoch 10/10\n",
            "858/858 [==============================] - 4s 4ms/step - loss: 0.1121 - accuracy: 0.9923 - val_loss: 0.4288 - val_accuracy: 0.9039\n",
            "Epoch 10: early stopping\n"
          ]
        }
      ],
      "source": [
        "model_l2.compile(optimizer='adam',loss=tf.keras.losses.SparseCategoricalCrossentropy(from_logits=True), metrics=['accuracy'])\n",
        "\n",
        "es = tf.keras.callbacks.EarlyStopping(monitor='val_loss', mode='min', verbose=1, patience=3)\n",
        "\n",
        "history = model_l2.fit(X_train, y_train, epochs=10, validation_data=(X_test, y_test), callbacks=[es])"
      ]
    },
    {
      "cell_type": "code",
      "execution_count": 18,
      "metadata": {
        "id": "SKKBAz9Gs-aH",
        "outputId": "4248eed2-d924-4b1f-c939-7f05c2204010",
        "colab": {
          "base_uri": "https://localhost:8080/",
          "height": 300
        }
      },
      "outputs": [
        {
          "output_type": "stream",
          "name": "stdout",
          "text": [
            "225/225 - 0s - loss: 0.4288 - accuracy: 0.9039 - 475ms/epoch - 2ms/step\n"
          ]
        },
        {
          "output_type": "display_data",
          "data": {
            "text/plain": [
              "<Figure size 432x288 with 1 Axes>"
            ],
            "image/png": "[encoded data removed]"
          },
          "metadata": {
            "needs_background": "light"
          }
        }
      ],
      "source": [
        "plt.plot(history.history['accuracy'], label='accuracy')\n",
        "plt.plot(history.history['val_accuracy'], label = 'val_accuracy')\n",
        "plt.xlabel('Epoch')\n",
        "plt.ylabel('Accuracy')\n",
        "plt.ylim([0.5, 1])\n",
        "plt.legend(loc='lower right')\n",
        "\n",
        "test_loss, test_acc = model_l2.evaluate(X_test,  y_test, verbose=2)"
      ]
    },
    {
      "cell_type": "code",
      "execution_count": 19,
      "metadata": {
        "id": "LVkkalMjs-aI",
        "outputId": "4838ee78-709d-4798-eb22-94c63fe8b4e0",
        "colab": {
          "base_uri": "https://localhost:8080/"
        }
      },
      "outputs": [
        {
          "output_type": "stream",
          "name": "stdout",
          "text": [
            "0.9039319753646851\n"
          ]
        }
      ],
      "source": [
        "print(test_acc)"
      ]
    },
    {
      "cell_type": "code",
      "execution_count": 20,
      "metadata": {
        "id": "ndI3wNwPs-aI",
        "outputId": "a414f5f3-ce1d-4f51-db83-91b2b8abfb79",
        "colab": {
          "base_uri": "https://localhost:8080/"
        }
      },
      "outputs": [
        {
          "output_type": "stream",
          "name": "stdout",
          "text": [
            "Model: \"sequential_1\"\n",
            "_________________________________________________________________\n",
            " Layer (type)                Output Shape              Param #   \n",
            "=================================================================\n",
            " conv2d_3 (Conv2D)           (None, 26, 26, 32)        320       \n",
            "                                                                 \n",
            " max_pooling2d_2 (MaxPooling  (None, 13, 13, 32)       0         \n",
            " 2D)                                                             \n",
            "                                                                 \n",
            " conv2d_4 (Conv2D)           (None, 11, 11, 64)        18496     \n",
            "                                                                 \n",
            " max_pooling2d_3 (MaxPooling  (None, 5, 5, 64)         0         \n",
            " 2D)                                                             \n",
            "                                                                 \n",
            " conv2d_5 (Conv2D)           (None, 3, 3, 64)          36928     \n",
            "                                                                 \n",
            "=================================================================\n",
            "Total params: 55,744\n",
            "Trainable params: 55,744\n",
            "Non-trainable params: 0\n",
            "_________________________________________________________________\n"
          ]
        }
      ],
      "source": [
        "model_es = models.Sequential();\n",
        "model_es.add(layers.Conv2D(32, (3, 3), activation='relu', input_shape=(28, 28, 1)))\n",
        "model_es.add(layers.MaxPooling2D((2, 2)))\n",
        "model_es.add(layers.Conv2D(64, (3, 3), activation='relu'))\n",
        "model_es.add(layers.MaxPooling2D((2, 2)))\n",
        "model_es.add(layers.Conv2D(64, (3, 3), activation='relu'))\n",
        "model_es.summary()"
      ]
    },
    {
      "cell_type": "code",
      "execution_count": 21,
      "metadata": {
        "id": "XSXxs0B9s-aJ"
      },
      "outputs": [],
      "source": [
        "model_es.add(layers.Flatten())\n",
        "model_es.add(layers.Dense(64, activation='relu'))\n",
        "model_es.add(layers.Dense(25))"
      ]
    },
    {
      "cell_type": "code",
      "execution_count": 22,
      "metadata": {
        "id": "j_yQ5pijs-aJ",
        "outputId": "5c26de07-c332-45b6-a1c0-70abdf3d7c34",
        "colab": {
          "base_uri": "https://localhost:8080/"
        }
      },
      "outputs": [
        {
          "output_type": "stream",
          "name": "stdout",
          "text": [
            "Model: \"sequential_1\"\n",
            "_________________________________________________________________\n",
            " Layer (type)                Output Shape              Param #   \n",
            "=================================================================\n",
            " conv2d_3 (Conv2D)           (None, 26, 26, 32)        320       \n",
            "                                                                 \n",
            " max_pooling2d_2 (MaxPooling  (None, 13, 13, 32)       0         \n",
            " 2D)                                                             \n",
            "                                                                 \n",
            " conv2d_4 (Conv2D)           (None, 11, 11, 64)        18496     \n",
            "                                                                 \n",
            " max_pooling2d_3 (MaxPooling  (None, 5, 5, 64)         0         \n",
            " 2D)                                                             \n",
            "                                                                 \n",
            " conv2d_5 (Conv2D)           (None, 3, 3, 64)          36928     \n",
            "                                                                 \n",
            " flatten_1 (Flatten)         (None, 576)               0         \n",
            "                                                                 \n",
            " dense_2 (Dense)             (None, 64)                36928     \n",
            "                                                                 \n",
            " dense_3 (Dense)             (None, 25)                1625      \n",
            "                                                                 \n",
            "=================================================================\n",
            "Total params: 94,297\n",
            "Trainable params: 94,297\n",
            "Non-trainable params: 0\n",
            "_________________________________________________________________\n"
          ]
        }
      ],
      "source": [
        "model_es.summary()"
      ]
    },
    {
      "cell_type": "code",
      "execution_count": 23,
      "metadata": {
        "id": "oTuDD7Rbs-aK",
        "outputId": "8848a5cf-d6b6-4194-f5ec-1a949aab41b3",
        "colab": {
          "base_uri": "https://localhost:8080/"
        }
      },
      "outputs": [
        {
          "output_type": "stream",
          "name": "stdout",
          "text": [
            "Epoch 1/10\n",
            "858/858 [==============================] - 4s 4ms/step - loss: 1.0983 - accuracy: 0.6628 - val_loss: 0.5855 - val_accuracy: 0.8203\n",
            "Epoch 2/10\n",
            "858/858 [==============================] - 4s 4ms/step - loss: 0.0846 - accuracy: 0.9779 - val_loss: 0.5160 - val_accuracy: 0.8752\n",
            "Epoch 3/10\n",
            "858/858 [==============================] - 4s 4ms/step - loss: 0.0225 - accuracy: 0.9949 - val_loss: 0.5077 - val_accuracy: 0.8875\n",
            "Epoch 4/10\n",
            "858/858 [==============================] - 3s 4ms/step - loss: 0.0302 - accuracy: 0.9907 - val_loss: 0.6165 - val_accuracy: 0.8550\n",
            "Epoch 5/10\n",
            "858/858 [==============================] - 4s 4ms/step - loss: 0.0040 - accuracy: 0.9993 - val_loss: 0.5588 - val_accuracy: 0.9042\n",
            "Epoch 6/10\n",
            "858/858 [==============================] - 3s 4ms/step - loss: 0.0072 - accuracy: 0.9979 - val_loss: 0.6700 - val_accuracy: 0.8311\n",
            "Epoch 6: early stopping\n"
          ]
        }
      ],
      "source": [
        "model_es.compile(optimizer='adam',loss=tf.keras.losses.SparseCategoricalCrossentropy(from_logits=True), metrics=['accuracy'])\n",
        "\n",
        "es = tf.keras.callbacks.EarlyStopping(monitor='val_loss', mode='min', verbose=1, patience=3)\n",
        "\n",
        "history = model_es.fit(X_train, y_train, epochs=10, validation_data=(X_test, y_test), callbacks=[es])"
      ]
    },
    {
      "cell_type": "code",
      "execution_count": 24,
      "metadata": {
        "id": "SVeLCvFps-aL",
        "outputId": "41fe3dad-6663-471d-d9b3-cc715c46abaa",
        "colab": {
          "base_uri": "https://localhost:8080/",
          "height": 300
        }
      },
      "outputs": [
        {
          "output_type": "stream",
          "name": "stdout",
          "text": [
            "225/225 - 0s - loss: 0.6700 - accuracy: 0.8311 - 445ms/epoch - 2ms/step\n"
          ]
        },
        {
          "output_type": "display_data",
          "data": {
            "text/plain": [
              "<Figure size 432x288 with 1 Axes>"
            ],
            "image/png": "[encoded data removed]"
          },
          "metadata": {
            "needs_background": "light"
          }
        }
      ],
      "source": [
        "plt.plot(history.history['accuracy'], label='accuracy')\n",
        "plt.plot(history.history['val_accuracy'], label = 'val_accuracy')\n",
        "plt.xlabel('Epoch')\n",
        "plt.ylabel('Accuracy')\n",
        "plt.ylim([0.5, 1])\n",
        "plt.legend(loc='lower right')\n",
        "\n",
        "test_loss, test_acc = model_es.evaluate(X_test,  y_test, verbose=2)"
      ]
    },
    {
      "cell_type": "code",
      "execution_count": 25,
      "metadata": {
        "id": "Zw-In3i-s-aM",
        "outputId": "568f8198-ce5c-4026-9db6-b6e913ab4c23",
        "colab": {
          "base_uri": "https://localhost:8080/"
        }
      },
      "outputs": [
        {
          "output_type": "stream",
          "name": "stdout",
          "text": [
            "0.8311489224433899\n"
          ]
        }
      ],
      "source": [
        "print(test_acc)"
      ]
    },
    {
      "cell_type": "code",
      "execution_count": 26,
      "metadata": {
        "id": "XqtnXwXYs-aM",
        "outputId": "52ea548d-9481-4ece-a27b-293d51f7fc7a",
        "colab": {
          "base_uri": "https://localhost:8080/"
        }
      },
      "outputs": [
        {
          "output_type": "stream",
          "name": "stdout",
          "text": [
            "Model: \"sequential_2\"\n",
            "_________________________________________________________________\n",
            " Layer (type)                Output Shape              Param #   \n",
            "=================================================================\n",
            " conv2d_6 (Conv2D)           (None, 26, 26, 5)         50        \n",
            "                                                                 \n",
            " dropout (Dropout)           (None, 26, 26, 5)         0         \n",
            "                                                                 \n",
            " max_pooling2d_4 (MaxPooling  (None, 13, 13, 5)        0         \n",
            " 2D)                                                             \n",
            "                                                                 \n",
            " conv2d_7 (Conv2D)           (None, 11, 11, 32)        1472      \n",
            "                                                                 \n",
            " dropout_1 (Dropout)         (None, 11, 11, 32)        0         \n",
            "                                                                 \n",
            " max_pooling2d_5 (MaxPooling  (None, 5, 5, 32)         0         \n",
            " 2D)                                                             \n",
            "                                                                 \n",
            " conv2d_8 (Conv2D)           (None, 3, 3, 64)          18496     \n",
            "                                                                 \n",
            " dropout_2 (Dropout)         (None, 3, 3, 64)          0         \n",
            "                                                                 \n",
            "=================================================================\n",
            "Total params: 20,018\n",
            "Trainable params: 20,018\n",
            "Non-trainable params: 0\n",
            "_________________________________________________________________\n"
          ]
        }
      ],
      "source": [
        "model_dropout = models.Sequential();\n",
        "model_dropout.add(layers.Conv2D(5, (3, 3), activation='relu', input_shape=(28, 28, 1)))\n",
        "model_dropout.add(layers.Dropout(0.2))\n",
        "model_dropout.add(layers.MaxPooling2D((2, 2)))\n",
        "model_dropout.add(layers.Conv2D(32, (3, 3), activation='relu'))\n",
        "model_dropout.add(layers.Dropout(0.2))\n",
        "model_dropout.add(layers.MaxPooling2D((2, 2)))\n",
        "model_dropout.add(layers.Conv2D(64, (3, 3), activation='relu'))\n",
        "model_dropout.add(layers.Dropout(0.2))\n",
        "model_dropout.summary()"
      ]
    },
    {
      "cell_type": "code",
      "execution_count": 27,
      "metadata": {
        "id": "0_UpscJGs-aN"
      },
      "outputs": [],
      "source": [
        "model_dropout.add(layers.Flatten())\n",
        "model_dropout.add(layers.Dense(64, activation='relu'))\n",
        "model_dropout.add(layers.Dense(25))"
      ]
    },
    {
      "cell_type": "code",
      "execution_count": 28,
      "metadata": {
        "id": "SAMMDZm1s-aN",
        "outputId": "f61ee779-1108-471b-8560-6a8e372c09de",
        "colab": {
          "base_uri": "https://localhost:8080/"
        }
      },
      "outputs": [
        {
          "output_type": "stream",
          "name": "stdout",
          "text": [
            "Model: \"sequential_2\"\n",
            "_________________________________________________________________\n",
            " Layer (type)                Output Shape              Param #   \n",
            "=================================================================\n",
            " conv2d_6 (Conv2D)           (None, 26, 26, 5)         50        \n",
            "                                                                 \n",
            " dropout (Dropout)           (None, 26, 26, 5)         0         \n",
            "                                                                 \n",
            " max_pooling2d_4 (MaxPooling  (None, 13, 13, 5)        0         \n",
            " 2D)                                                             \n",
            "                                                                 \n",
            " conv2d_7 (Conv2D)           (None, 11, 11, 32)        1472      \n",
            "                                                                 \n",
            " dropout_1 (Dropout)         (None, 11, 11, 32)        0         \n",
            "                                                                 \n",
            " max_pooling2d_5 (MaxPooling  (None, 5, 5, 32)         0         \n",
            " 2D)                                                             \n",
            "                                                                 \n",
            " conv2d_8 (Conv2D)           (None, 3, 3, 64)          18496     \n",
            "                                                                 \n",
            " dropout_2 (Dropout)         (None, 3, 3, 64)          0         \n",
            "                                                                 \n",
            " flatten_2 (Flatten)         (None, 576)               0         \n",
            "                                                                 \n",
            " dense_4 (Dense)             (None, 64)                36928     \n",
            "                                                                 \n",
            " dense_5 (Dense)             (None, 25)                1625      \n",
            "                                                                 \n",
            "=================================================================\n",
            "Total params: 58,571\n",
            "Trainable params: 58,571\n",
            "Non-trainable params: 0\n",
            "_________________________________________________________________\n"
          ]
        }
      ],
      "source": [
        "model_dropout.summary()"
      ]
    },
    {
      "cell_type": "code",
      "execution_count": 29,
      "metadata": {
        "id": "-0PseiWfs-aO",
        "outputId": "33971664-cf9a-49d2-8b5d-8f8c24457b51",
        "colab": {
          "base_uri": "https://localhost:8080/"
        }
      },
      "outputs": [
        {
          "output_type": "stream",
          "name": "stdout",
          "text": [
            "Epoch 1/10\n",
            "858/858 [==============================] - 5s 5ms/step - loss: 1.3619 - accuracy: 0.5738 - val_loss: 0.8398 - val_accuracy: 0.7213\n",
            "Epoch 2/10\n",
            "858/858 [==============================] - 4s 4ms/step - loss: 0.3049 - accuracy: 0.8977 - val_loss: 0.4438 - val_accuracy: 0.8707\n",
            "Epoch 3/10\n",
            "858/858 [==============================] - 3s 4ms/step - loss: 0.1374 - accuracy: 0.9549 - val_loss: 0.2869 - val_accuracy: 0.9094\n",
            "Epoch 4/10\n",
            "858/858 [==============================] - 4s 4ms/step - loss: 0.0868 - accuracy: 0.9712 - val_loss: 0.3086 - val_accuracy: 0.9077\n",
            "Epoch 5/10\n",
            "858/858 [==============================] - 4s 4ms/step - loss: 0.0600 - accuracy: 0.9809 - val_loss: 0.2867 - val_accuracy: 0.9020\n",
            "Epoch 6/10\n",
            "858/858 [==============================] - 4s 4ms/step - loss: 0.0440 - accuracy: 0.9859 - val_loss: 0.2491 - val_accuracy: 0.9200\n",
            "Epoch 7/10\n",
            "858/858 [==============================] - 3s 4ms/step - loss: 0.0397 - accuracy: 0.9874 - val_loss: 0.2838 - val_accuracy: 0.9274\n",
            "Epoch 8/10\n",
            "858/858 [==============================] - 4s 4ms/step - loss: 0.0338 - accuracy: 0.9895 - val_loss: 0.2990 - val_accuracy: 0.9183\n",
            "Epoch 9/10\n",
            "858/858 [==============================] - 3s 4ms/step - loss: 0.0274 - accuracy: 0.9908 - val_loss: 0.2607 - val_accuracy: 0.9339\n",
            "Epoch 10/10\n",
            "858/858 [==============================] - 4s 4ms/step - loss: 0.0240 - accuracy: 0.9914 - val_loss: 0.2505 - val_accuracy: 0.9158\n"
          ]
        }
      ],
      "source": [
        "model_dropout.compile(optimizer='adam',loss=tf.keras.losses.SparseCategoricalCrossentropy(from_logits=True), metrics=['accuracy'])\n",
        "\n",
        "history = model_dropout.fit(X_train, y_train, epochs=10, validation_data=(X_test, y_test))"
      ]
    },
    {
      "cell_type": "code",
      "execution_count": 30,
      "metadata": {
        "id": "fHle5qTDs-aO",
        "outputId": "7cfd9ba5-e70d-4289-bc54-ebc276e317cd",
        "colab": {
          "base_uri": "https://localhost:8080/",
          "height": 300
        }
      },
      "outputs": [
        {
          "output_type": "stream",
          "name": "stdout",
          "text": [
            "225/225 - 0s - loss: 0.2505 - accuracy: 0.9158 - 409ms/epoch - 2ms/step\n"
          ]
        },
        {
          "output_type": "display_data",
          "data": {
            "text/plain": [
              "<Figure size 432x288 with 1 Axes>"
            ],
            "image/png": "[encoded data removed]"
          },
          "metadata": {
            "needs_background": "light"
          }
        }
      ],
      "source": [
        "plt.plot(history.history['accuracy'], label='accuracy')\n",
        "plt.plot(history.history['val_accuracy'], label = 'val_accuracy')\n",
        "plt.xlabel('Epoch')\n",
        "plt.ylabel('Accuracy')\n",
        "plt.ylim([0.5, 1])\n",
        "plt.legend(loc='lower right')\n",
        "\n",
        "test_loss, test_acc = model_dropout.evaluate(X_test,  y_test, verbose=2)"
      ]
    },
    {
      "cell_type": "code",
      "execution_count": 31,
      "metadata": {
        "id": "vHb3wF4ks-aO",
        "outputId": "ebbfc9a1-53e3-4556-e9b7-03e41fa89336",
        "colab": {
          "base_uri": "https://localhost:8080/"
        }
      },
      "outputs": [
        {
          "output_type": "stream",
          "name": "stdout",
          "text": [
            "0.9157835841178894\n"
          ]
        }
      ],
      "source": [
        "print(test_acc)"
      ]
    },
    {
      "cell_type": "markdown",
      "metadata": {
        "id": "3o393kmis-aP"
      },
      "source": [
        "Models below are variations of the original model with different number of layers and hyperparameters:"
      ]
    },
    {
      "cell_type": "code",
      "execution_count": 32,
      "metadata": {
        "id": "g661Qw1js-aQ",
        "outputId": "3d454e6a-9ecf-44e9-d2a3-659ac9845a56",
        "colab": {
          "base_uri": "https://localhost:8080/"
        }
      },
      "outputs": [
        {
          "output_type": "stream",
          "name": "stdout",
          "text": [
            "Model: \"sequential_3\"\n",
            "_________________________________________________________________\n",
            " Layer (type)                Output Shape              Param #   \n",
            "=================================================================\n",
            " conv2d_9 (Conv2D)           (None, 26, 26, 32)        320       \n",
            "                                                                 \n",
            " max_pooling2d_6 (MaxPooling  (None, 13, 13, 32)       0         \n",
            " 2D)                                                             \n",
            "                                                                 \n",
            " conv2d_10 (Conv2D)          (None, 11, 11, 64)        18496     \n",
            "                                                                 \n",
            " max_pooling2d_7 (MaxPooling  (None, 5, 5, 64)         0         \n",
            " 2D)                                                             \n",
            "                                                                 \n",
            " conv2d_11 (Conv2D)          (None, 3, 3, 64)          36928     \n",
            "                                                                 \n",
            " max_pooling2d_8 (MaxPooling  (None, 1, 1, 64)         0         \n",
            " 2D)                                                             \n",
            "                                                                 \n",
            "=================================================================\n",
            "Total params: 55,744\n",
            "Trainable params: 55,744\n",
            "Non-trainable params: 0\n",
            "_________________________________________________________________\n"
          ]
        }
      ],
      "source": [
        "# This model has an extra maxpooling layer\n",
        "model_3_max_pool = models.Sequential();\n",
        "model_3_max_pool.add(layers.Conv2D(32, (3, 3), activation='relu', input_shape=(28, 28, 1)))\n",
        "model_3_max_pool.add(layers.MaxPooling2D((2, 2)))\n",
        "model_3_max_pool.add(layers.Conv2D(64, (3, 3), activation='relu'))\n",
        "model_3_max_pool.add(layers.MaxPooling2D((2, 2)))\n",
        "model_3_max_pool.add(layers.Conv2D(64, (3, 3), activation='relu'))\n",
        "model_3_max_pool.add(layers.MaxPooling2D((2, 2)))\n",
        "model_3_max_pool.summary()"
      ]
    },
    {
      "cell_type": "markdown",
      "metadata": {
        "id": "qLyo9d5as-aR"
      },
      "source": [
        ""
      ]
    },
    {
      "cell_type": "code",
      "execution_count": 33,
      "metadata": {
        "id": "i905xnIds-aR"
      },
      "outputs": [],
      "source": [
        "model_3_max_pool.add(layers.Flatten())\n",
        "model_3_max_pool.add(layers.Dense(64, activation='relu', kernel_regularizer='l2'))\n",
        "model_3_max_pool.add(layers.Dense(25, kernel_regularizer='l2'))"
      ]
    },
    {
      "cell_type": "code",
      "execution_count": 34,
      "metadata": {
        "id": "Ni0mdDGvs-aR",
        "outputId": "64c366a9-d330-46a9-a9af-aa1444b48f93",
        "colab": {
          "base_uri": "https://localhost:8080/"
        }
      },
      "outputs": [
        {
          "output_type": "stream",
          "name": "stdout",
          "text": [
            "Model: \"sequential_3\"\n",
            "_________________________________________________________________\n",
            " Layer (type)                Output Shape              Param #   \n",
            "=================================================================\n",
            " conv2d_9 (Conv2D)           (None, 26, 26, 32)        320       \n",
            "                                                                 \n",
            " max_pooling2d_6 (MaxPooling  (None, 13, 13, 32)       0         \n",
            " 2D)                                                             \n",
            "                                                                 \n",
            " conv2d_10 (Conv2D)          (None, 11, 11, 64)        18496     \n",
            "                                                                 \n",
            " max_pooling2d_7 (MaxPooling  (None, 5, 5, 64)         0         \n",
            " 2D)                                                             \n",
            "                                                                 \n",
            " conv2d_11 (Conv2D)          (None, 3, 3, 64)          36928     \n",
            "                                                                 \n",
            " max_pooling2d_8 (MaxPooling  (None, 1, 1, 64)         0         \n",
            " 2D)                                                             \n",
            "                                                                 \n",
            " flatten_3 (Flatten)         (None, 64)                0         \n",
            "                                                                 \n",
            " dense_6 (Dense)             (None, 64)                4160      \n",
            "                                                                 \n",
            " dense_7 (Dense)             (None, 25)                1625      \n",
            "                                                                 \n",
            "=================================================================\n",
            "Total params: 61,529\n",
            "Trainable params: 61,529\n",
            "Non-trainable params: 0\n",
            "_________________________________________________________________\n"
          ]
        }
      ],
      "source": [
        "model_3_max_pool.summary()"
      ]
    },
    {
      "cell_type": "code",
      "execution_count": 35,
      "metadata": {
        "id": "6L63sXwQs-aS",
        "outputId": "3425ce2d-908c-431b-dcb4-5b51cb0498af",
        "colab": {
          "base_uri": "https://localhost:8080/"
        }
      },
      "outputs": [
        {
          "output_type": "stream",
          "name": "stdout",
          "text": [
            "Epoch 1/10\n",
            "858/858 [==============================] - 6s 6ms/step - loss: 1.9587 - accuracy: 0.4537 - val_loss: 1.1584 - val_accuracy: 0.6615\n",
            "Epoch 2/10\n",
            "858/858 [==============================] - 4s 4ms/step - loss: 0.7480 - accuracy: 0.8208 - val_loss: 0.8590 - val_accuracy: 0.7433\n",
            "Epoch 3/10\n",
            "858/858 [==============================] - 4s 5ms/step - loss: 0.4837 - accuracy: 0.9124 - val_loss: 0.7609 - val_accuracy: 0.8047\n",
            "Epoch 4/10\n",
            "858/858 [==============================] - 4s 4ms/step - loss: 0.3430 - accuracy: 0.9576 - val_loss: 0.6858 - val_accuracy: 0.8298\n",
            "Epoch 5/10\n",
            "858/858 [==============================] - 3s 4ms/step - loss: 0.2581 - accuracy: 0.9815 - val_loss: 0.6767 - val_accuracy: 0.8497\n",
            "Epoch 6/10\n",
            "858/858 [==============================] - 3s 4ms/step - loss: 0.2169 - accuracy: 0.9861 - val_loss: 0.6600 - val_accuracy: 0.8461\n",
            "Epoch 7/10\n",
            "858/858 [==============================] - 4s 4ms/step - loss: 0.1809 - accuracy: 0.9902 - val_loss: 0.6445 - val_accuracy: 0.8528\n",
            "Epoch 8/10\n",
            "858/858 [==============================] - 4s 4ms/step - loss: 0.1576 - accuracy: 0.9920 - val_loss: 0.5979 - val_accuracy: 0.8617\n",
            "Epoch 9/10\n",
            "858/858 [==============================] - 4s 4ms/step - loss: 0.1435 - accuracy: 0.9911 - val_loss: 0.6075 - val_accuracy: 0.8417\n",
            "Epoch 10/10\n",
            "858/858 [==============================] - 4s 4ms/step - loss: 0.1239 - accuracy: 0.9944 - val_loss: 0.5612 - val_accuracy: 0.8649\n"
          ]
        }
      ],
      "source": [
        "model_3_max_pool.compile(optimizer='adam',loss=tf.keras.losses.SparseCategoricalCrossentropy(from_logits=True), metrics=['accuracy'])\n",
        "\n",
        "es = tf.keras.callbacks.EarlyStopping(monitor='val_loss', mode='min', verbose=1, patience=3)\n",
        "\n",
        "history = model_3_max_pool.fit(X_train, y_train, epochs=10, validation_data=(X_test, y_test), callbacks=[es])"
      ]
    },
    {
      "cell_type": "code",
      "execution_count": 36,
      "metadata": {
        "id": "eXlpsJ1_s-aS",
        "outputId": "ffa8a220-f23b-4c47-f168-ba18165024dc",
        "colab": {
          "base_uri": "https://localhost:8080/",
          "height": 300
        }
      },
      "outputs": [
        {
          "output_type": "stream",
          "name": "stdout",
          "text": [
            "225/225 - 0s - loss: 0.5612 - accuracy: 0.8649 - 483ms/epoch - 2ms/step\n"
          ]
        },
        {
          "output_type": "display_data",
          "data": {
            "text/plain": [
              "<Figure size 432x288 with 1 Axes>"
            ],
            "image/png": "[encoded data removed]"
          },
          "metadata": {
            "needs_background": "light"
          }
        }
      ],
      "source": [
        "plt.plot(history.history['accuracy'], label='accuracy')\n",
        "plt.plot(history.history['val_accuracy'], label = 'val_accuracy')\n",
        "plt.xlabel('Epoch')\n",
        "plt.ylabel('Accuracy')\n",
        "plt.ylim([0.5, 1])\n",
        "plt.legend(loc='lower right')\n",
        "\n",
        "test_loss, test_acc = model_3_max_pool.evaluate(X_test,  y_test, verbose=2)"
      ]
    },
    {
      "cell_type": "code",
      "execution_count": 37,
      "metadata": {
        "id": "PE0ILLNHs-aS",
        "outputId": "d09ee157-872e-4d4d-c42b-ecff600d2660",
        "colab": {
          "base_uri": "https://localhost:8080/"
        }
      },
      "outputs": [
        {
          "output_type": "stream",
          "name": "stdout",
          "text": [
            "0.8648912310600281\n"
          ]
        }
      ],
      "source": [
        "print(test_acc)"
      ]
    },
    {
      "cell_type": "code",
      "source": [
        "# This model has an extra maxpooling layer\n",
        "model_3_max_pool = models.Sequential();\n",
        "model_3_max_pool.add(layers.Conv2D(32, (3, 3), activation='relu', input_shape=(28, 28, 1)))\n",
        "model_3_max_pool.add(layers.MaxPooling2D((2, 2)))\n",
        "model_3_max_pool.add(layers.Conv2D(64, (3, 3), activation='relu'))\n",
        "model_3_max_pool.add(layers.MaxPooling2D((2, 2)))\n",
        "model_3_max_pool.add(layers.Conv2D(64, (3, 3), activation='relu'))\n",
        "model_3_max_pool.add(layers.MaxPooling2D((2, 2)))\n",
        "model_3_max_pool.summary()"
      ],
      "metadata": {
        "id": "EOHq8ZCiwAVD"
      },
      "execution_count": 37,
      "outputs": []
    },
    {
      "cell_type": "code",
      "source": [
        "# 1 convoluted layer only\n",
        "model_1_conv_layers = models.Sequential();\n",
        "model_1_conv_layers.add(layers.Conv2D(32, (3, 3), activation='relu', input_shape=(28, 28, 1)))\n",
        "model_1_conv_layers.summary()"
      ],
      "metadata": {
        "colab": {
          "base_uri": "https://localhost:8080/"
        },
        "id": "6BY3tWaSycGf",
        "outputId": "79802e95-96ae-4f73-8cbb-9954a4f7b689"
      },
      "execution_count": 38,
      "outputs": [
        {
          "output_type": "stream",
          "name": "stdout",
          "text": [
            "Model: \"sequential_4\"\n",
            "_________________________________________________________________\n",
            " Layer (type)                Output Shape              Param #   \n",
            "=================================================================\n",
            " conv2d_12 (Conv2D)          (None, 26, 26, 32)        320       \n",
            "                                                                 \n",
            "=================================================================\n",
            "Total params: 320\n",
            "Trainable params: 320\n",
            "Non-trainable params: 0\n",
            "_________________________________________________________________\n"
          ]
        }
      ]
    },
    {
      "cell_type": "code",
      "source": [
        "model_1_conv_layers.add(layers.Flatten())\n",
        "model_1_conv_layers.add(layers.Dense(64, activation='relu', kernel_regularizer='l2'))\n",
        "model_1_conv_layers.add(layers.Dense(25, kernel_regularizer='l2'))"
      ],
      "metadata": {
        "id": "AlzMgH-1yc4i"
      },
      "execution_count": 40,
      "outputs": []
    },
    {
      "cell_type": "code",
      "source": [
        "model_1_conv_layers.summary()"
      ],
      "metadata": {
        "colab": {
          "base_uri": "https://localhost:8080/"
        },
        "id": "uAbkCIgH0Emw",
        "outputId": "78ed62ed-c65b-4b9c-901a-6c4d040f2127"
      },
      "execution_count": 41,
      "outputs": [
        {
          "output_type": "stream",
          "name": "stdout",
          "text": [
            "Model: \"sequential_4\"\n",
            "_________________________________________________________________\n",
            " Layer (type)                Output Shape              Param #   \n",
            "=================================================================\n",
            " conv2d_12 (Conv2D)          (None, 26, 26, 32)        320       \n",
            "                                                                 \n",
            " flatten_5 (Flatten)         (None, 21632)             0         \n",
            "                                                                 \n",
            " dense_10 (Dense)            (None, 64)                1384512   \n",
            "                                                                 \n",
            " dense_11 (Dense)            (None, 25)                1625      \n",
            "                                                                 \n",
            "=================================================================\n",
            "Total params: 1,386,457\n",
            "Trainable params: 1,386,457\n",
            "Non-trainable params: 0\n",
            "_________________________________________________________________\n"
          ]
        }
      ]
    },
    {
      "cell_type": "code",
      "source": [
        "model_1_conv_layers.compile(optimizer='adam',loss=tf.keras.losses.SparseCategoricalCrossentropy(from_logits=True), metrics=['accuracy'])\n",
        "\n",
        "es = tf.keras.callbacks.EarlyStopping(monitor='val_loss', mode='min', verbose=1, patience=3)\n",
        "\n",
        "history = model_1_conv_layers.fit(X_train, y_train, epochs=10, validation_data=(X_test, y_test), callbacks=[es])"
      ],
      "metadata": {
        "colab": {
          "base_uri": "https://localhost:8080/"
        },
        "id": "z-likQZj03xU",
        "outputId": "33040e4c-528f-440c-f32f-0266146e6e80"
      },
      "execution_count": 42,
      "outputs": [
        {
          "output_type": "stream",
          "name": "stdout",
          "text": [
            "Epoch 1/10\n",
            "858/858 [==============================] - 4s 4ms/step - loss: 2.3849 - accuracy: 0.3621 - val_loss: 2.0226 - val_accuracy: 0.4704\n",
            "Epoch 2/10\n",
            "858/858 [==============================] - 3s 4ms/step - loss: 1.5374 - accuracy: 0.6112 - val_loss: 1.7570 - val_accuracy: 0.5791\n",
            "Epoch 3/10\n",
            "858/858 [==============================] - 3s 3ms/step - loss: 1.3297 - accuracy: 0.6833 - val_loss: 1.6527 - val_accuracy: 0.5817\n",
            "Epoch 4/10\n",
            "858/858 [==============================] - 3s 3ms/step - loss: 1.2134 - accuracy: 0.7298 - val_loss: 1.5673 - val_accuracy: 0.6341\n",
            "Epoch 5/10\n",
            "858/858 [==============================] - 3s 3ms/step - loss: 1.1329 - accuracy: 0.7637 - val_loss: 1.5421 - val_accuracy: 0.6308\n",
            "Epoch 6/10\n",
            "858/858 [==============================] - 3s 3ms/step - loss: 1.0429 - accuracy: 0.8019 - val_loss: 1.4877 - val_accuracy: 0.6642\n",
            "Epoch 7/10\n",
            "858/858 [==============================] - 3s 4ms/step - loss: 0.9949 - accuracy: 0.8181 - val_loss: 1.3810 - val_accuracy: 0.6810\n",
            "Epoch 8/10\n",
            "858/858 [==============================] - 3s 3ms/step - loss: 0.9394 - accuracy: 0.8394 - val_loss: 1.4351 - val_accuracy: 0.6796\n",
            "Epoch 9/10\n",
            "858/858 [==============================] - 3s 4ms/step - loss: 0.9060 - accuracy: 0.8520 - val_loss: 1.4159 - val_accuracy: 0.6881\n",
            "Epoch 10/10\n",
            "858/858 [==============================] - 3s 4ms/step - loss: 0.8656 - accuracy: 0.8699 - val_loss: 1.4610 - val_accuracy: 0.6637\n",
            "Epoch 10: early stopping\n"
          ]
        }
      ]
    },
    {
      "cell_type": "code",
      "source": [
        "plt.plot(history.history['accuracy'], label='accuracy')\n",
        "plt.plot(history.history['val_accuracy'], label = 'val_accuracy')\n",
        "plt.xlabel('Epoch')\n",
        "plt.ylabel('Accuracy')\n",
        "plt.ylim([0.5, 1])\n",
        "plt.legend(loc='lower right')\n",
        "\n",
        "test_loss, test_acc = model_1_conv_layers.evaluate(X_test,  y_test, verbose=2)"
      ],
      "metadata": {
        "colab": {
          "base_uri": "https://localhost:8080/",
          "height": 300
        },
        "id": "B7tkCw6r3FhZ",
        "outputId": "99912b5e-46de-4910-9d39-c4813b8fc72a"
      },
      "execution_count": 44,
      "outputs": [
        {
          "output_type": "stream",
          "name": "stdout",
          "text": [
            "225/225 - 1s - loss: 1.4610 - accuracy: 0.6637 - 774ms/epoch - 3ms/step\n"
          ]
        },
        {
          "output_type": "display_data",
          "data": {
            "text/plain": [
              "<Figure size 432x288 with 1 Axes>"
            ],
            "image/png": "[encoded data removed]"
          },
          "metadata": {
            "needs_background": "light"
          }
        }
      ]
    },
    {
      "cell_type": "code",
      "source": [
        "def run_model(model):\n",
        "    model.add(layers.Flatten())\n",
        "    model.add(layers.Dense(64, activation='relu', kernel_regularizer='l2'))\n",
        "    model.add(layers.Dense(25, activation='softmax', kernel_regularizer='l2'))\n",
        "\n",
        "    model.summary()\n",
        "\n",
        "    model.compile(optimizer='adam',loss=tf.keras.losses.SparseCategoricalCrossentropy(from_logits=True), metrics=['accuracy'])\n",
        "    es = tf.keras.callbacks.EarlyStopping(monitor='val_loss', mode='min', verbose=1, patience=3)\n",
        "    history = model.fit(X_train, y_train, epochs=10, validation_data=(X_test, y_test), callbacks=[es])\n",
        "\n",
        "    plot_accuracy(model, history)\n",
        "\n",
        "    test_loss, test_acc = model.evaluate(X_test,  y_test, verbose=2)\n",
        "\n",
        "    print(f'Test accuracy: {test_acc}')\n",
        "\n",
        "def plot_accuracy(model, history):\n",
        "    plt.plot(history.history['accuracy'], label='accuracy')\n",
        "    plt.plot(history.history['val_accuracy'], label = 'val_accuracy')\n",
        "    plt.xlabel('Epoch')\n",
        "    plt.ylabel('Accuracy')\n",
        "    plt.ylim([0.5, 1])\n",
        "    plt.legend(loc='lower right')"
      ],
      "metadata": {
        "id": "ZmeX3lYQ45ao"
      },
      "execution_count": 79,
      "outputs": []
    },
    {
      "cell_type": "code",
      "source": [
        "# 1 convoluted and 1 maxpool layer\n",
        "model_2 = models.Sequential();\n",
        "model_2.add(layers.Conv2D(32, (3, 3), activation='relu', input_shape=(28, 28, 1)))\n",
        "model_2.add(layers.MaxPooling2D((2, 2)))\n",
        "run_model(model_2)"
      ],
      "metadata": {
        "colab": {
          "base_uri": "https://localhost:8080/",
          "height": 1000
        },
        "id": "R9rFzqBF6nvm",
        "outputId": "a72a2d1b-b38f-45cf-ed91-2608759f7dbe"
      },
      "execution_count": 80,
      "outputs": [
        {
          "output_type": "stream",
          "name": "stdout",
          "text": [
            "Model: \"sequential_32\"\n",
            "_________________________________________________________________\n",
            " Layer (type)                Output Shape              Param #   \n",
            "=================================================================\n",
            " conv2d_71 (Conv2D)          (None, 26, 26, 32)        320       \n",
            "                                                                 \n",
            " max_pooling2d_53 (MaxPoolin  (None, 13, 13, 32)       0         \n",
            " g2D)                                                            \n",
            "                                                                 \n",
            " flatten_28 (Flatten)        (None, 5408)              0         \n",
            "                                                                 \n",
            " dense_56 (Dense)            (None, 64)                346176    \n",
            "                                                                 \n",
            " dense_57 (Dense)            (None, 25)                1625      \n",
            "                                                                 \n",
            "=================================================================\n",
            "Total params: 348,121\n",
            "Trainable params: 348,121\n",
            "Non-trainable params: 0\n",
            "_________________________________________________________________\n",
            "Epoch 1/10\n"
          ]
        },
        {
          "output_type": "stream",
          "name": "stderr",
          "text": [
            "/usr/local/lib/python3.7/dist-packages/tensorflow/python/util/dispatch.py:1082: UserWarning: \"`sparse_categorical_crossentropy` received `from_logits=True`, but the `output` argument was produced by a sigmoid or softmax activation and thus does not represent logits. Was this intended?\"\n",
            "  return dispatch_target(*args, **kwargs)\n"
          ]
        },
        {
          "output_type": "stream",
          "name": "stdout",
          "text": [
            "858/858 [==============================] - 4s 4ms/step - loss: 2.3349 - accuracy: 0.4268 - val_loss: 1.8241 - val_accuracy: 0.5805\n",
            "Epoch 2/10\n",
            "858/858 [==============================] - 3s 4ms/step - loss: 1.4367 - accuracy: 0.7076 - val_loss: 1.5905 - val_accuracy: 0.6450\n",
            "Epoch 3/10\n",
            "858/858 [==============================] - 3s 4ms/step - loss: 1.2111 - accuracy: 0.7862 - val_loss: 1.5314 - val_accuracy: 0.6592\n",
            "Epoch 4/10\n",
            "858/858 [==============================] - 3s 4ms/step - loss: 1.0641 - accuracy: 0.8390 - val_loss: 1.4500 - val_accuracy: 0.6916\n",
            "Epoch 5/10\n",
            "858/858 [==============================] - 3s 4ms/step - loss: 0.9763 - accuracy: 0.8689 - val_loss: 1.4530 - val_accuracy: 0.6985\n",
            "Epoch 6/10\n",
            "858/858 [==============================] - 3s 4ms/step - loss: 0.9031 - accuracy: 0.8924 - val_loss: 1.2543 - val_accuracy: 0.7443\n",
            "Epoch 7/10\n",
            "858/858 [==============================] - 3s 4ms/step - loss: 0.8418 - accuracy: 0.9101 - val_loss: 1.3534 - val_accuracy: 0.7103\n",
            "Epoch 8/10\n",
            "858/858 [==============================] - 3s 4ms/step - loss: 0.7997 - accuracy: 0.9202 - val_loss: 1.2699 - val_accuracy: 0.7397\n",
            "Epoch 9/10\n",
            "858/858 [==============================] - 3s 4ms/step - loss: 0.7553 - accuracy: 0.9287 - val_loss: 1.2106 - val_accuracy: 0.7496\n",
            "Epoch 10/10\n",
            "858/858 [==============================] - 3s 4ms/step - loss: 0.7260 - accuracy: 0.9366 - val_loss: 1.1505 - val_accuracy: 0.7727\n",
            "225/225 - 0s - loss: 1.1505 - accuracy: 0.7727 - 436ms/epoch - 2ms/step\n",
            "Test accuracy: 0.7727272510528564\n"
          ]
        },
        {
          "output_type": "display_data",
          "data": {
            "text/plain": [
              "<Figure size 432x288 with 1 Axes>"
            ],
            "image/png": "[encoded data removed]"
          },
          "metadata": {
            "needs_background": "light"
          }
        }
      ]
    },
    {
      "cell_type": "code",
      "source": [
        "# 2 convoluted and 1 maxpool layer\n",
        "model_3 = models.Sequential();\n",
        "model_3.add(layers.Conv2D(32, (3, 3), activation='relu', input_shape=(28, 28, 1)))\n",
        "model_3.add(layers.MaxPooling2D((2, 2)))\n",
        "model_3.add(layers.Conv2D(64, (3, 3), activation='relu'))\n",
        "\n",
        "run_model(model_3)"
      ],
      "metadata": {
        "colab": {
          "base_uri": "https://localhost:8080/",
          "height": 1000
        },
        "id": "8HKijc6L7ta_",
        "outputId": "4d30ab06-e38e-41d3-fa99-3aadc072a95b"
      },
      "execution_count": 81,
      "outputs": [
        {
          "output_type": "stream",
          "name": "stdout",
          "text": [
            "Model: \"sequential_33\"\n",
            "_________________________________________________________________\n",
            " Layer (type)                Output Shape              Param #   \n",
            "=================================================================\n",
            " conv2d_72 (Conv2D)          (None, 26, 26, 32)        320       \n",
            "                                                                 \n",
            " max_pooling2d_54 (MaxPoolin  (None, 13, 13, 32)       0         \n",
            " g2D)                                                            \n",
            "                                                                 \n",
            " conv2d_73 (Conv2D)          (None, 11, 11, 64)        18496     \n",
            "                                                                 \n",
            " flatten_29 (Flatten)        (None, 7744)              0         \n",
            "                                                                 \n",
            " dense_58 (Dense)            (None, 64)                495680    \n",
            "                                                                 \n",
            " dense_59 (Dense)            (None, 25)                1625      \n",
            "                                                                 \n",
            "=================================================================\n",
            "Total params: 516,121\n",
            "Trainable params: 516,121\n",
            "Non-trainable params: 0\n",
            "_________________________________________________________________\n",
            "Epoch 1/10\n"
          ]
        },
        {
          "output_type": "stream",
          "name": "stderr",
          "text": [
            "/usr/local/lib/python3.7/dist-packages/tensorflow/python/util/dispatch.py:1082: UserWarning: \"`sparse_categorical_crossentropy` received `from_logits=True`, but the `output` argument was produced by a sigmoid or softmax activation and thus does not represent logits. Was this intended?\"\n",
            "  return dispatch_target(*args, **kwargs)\n"
          ]
        },
        {
          "output_type": "stream",
          "name": "stdout",
          "text": [
            "858/858 [==============================] - 4s 4ms/step - loss: 1.4420 - accuracy: 0.6982 - val_loss: 1.0096 - val_accuracy: 0.7943\n",
            "Epoch 2/10\n",
            "858/858 [==============================] - 4s 4ms/step - loss: 0.6038 - accuracy: 0.9350 - val_loss: 0.9186 - val_accuracy: 0.8123\n",
            "Epoch 3/10\n",
            "858/858 [==============================] - 3s 4ms/step - loss: 0.4616 - accuracy: 0.9624 - val_loss: 0.8176 - val_accuracy: 0.8311\n",
            "Epoch 4/10\n",
            "858/858 [==============================] - 3s 4ms/step - loss: 0.3915 - accuracy: 0.9722 - val_loss: 0.7364 - val_accuracy: 0.8498\n",
            "Epoch 5/10\n",
            "858/858 [==============================] - 4s 4ms/step - loss: 0.3540 - accuracy: 0.9763 - val_loss: 0.7716 - val_accuracy: 0.8454\n",
            "Epoch 6/10\n",
            "858/858 [==============================] - 4s 4ms/step - loss: 0.3198 - accuracy: 0.9798 - val_loss: 0.7153 - val_accuracy: 0.8543\n",
            "Epoch 7/10\n",
            "858/858 [==============================] - 3s 4ms/step - loss: 0.3011 - accuracy: 0.9814 - val_loss: 0.6360 - val_accuracy: 0.8652\n",
            "Epoch 8/10\n",
            "858/858 [==============================] - 3s 4ms/step - loss: 0.2763 - accuracy: 0.9831 - val_loss: 0.7527 - val_accuracy: 0.8341\n",
            "Epoch 9/10\n",
            "858/858 [==============================] - 4s 4ms/step - loss: 0.2645 - accuracy: 0.9837 - val_loss: 0.7340 - val_accuracy: 0.8384\n",
            "Epoch 10/10\n",
            "858/858 [==============================] - 4s 4ms/step - loss: 0.2402 - accuracy: 0.9869 - val_loss: 0.6451 - val_accuracy: 0.8543\n",
            "Epoch 10: early stopping\n",
            "225/225 - 0s - loss: 0.6451 - accuracy: 0.8543 - 460ms/epoch - 2ms/step\n",
            "Test accuracy: 0.85429447889328\n"
          ]
        },
        {
          "output_type": "display_data",
          "data": {
            "text/plain": [
              "<Figure size 432x288 with 1 Axes>"
            ],
            "image/png": "[encoded data removed]"
          },
          "metadata": {
            "needs_background": "light"
          }
        }
      ]
    },
    {
      "cell_type": "code",
      "source": [
        "# 2 convoluted and 2 maxpool layer\n",
        "model_4 = models.Sequential();\n",
        "model_4.add(layers.Conv2D(32, (3, 3), activation='relu', input_shape=(28, 28, 1)))\n",
        "model_4.add(layers.MaxPooling2D((2, 2)))\n",
        "model_4.add(layers.Conv2D(64, (3, 3), activation='relu'))\n",
        "model_4.add(layers.MaxPooling2D((2, 2)))\n",
        "\n",
        "run_model(model_4)"
      ],
      "metadata": {
        "colab": {
          "base_uri": "https://localhost:8080/",
          "height": 1000
        },
        "id": "P5sbslTi9PUQ",
        "outputId": "3aac7b07-f28b-4d0d-e1d7-3c65e1e11993"
      },
      "execution_count": 82,
      "outputs": [
        {
          "output_type": "stream",
          "name": "stdout",
          "text": [
            "Model: \"sequential_34\"\n",
            "_________________________________________________________________\n",
            " Layer (type)                Output Shape              Param #   \n",
            "=================================================================\n",
            " conv2d_74 (Conv2D)          (None, 26, 26, 32)        320       \n",
            "                                                                 \n",
            " max_pooling2d_55 (MaxPoolin  (None, 13, 13, 32)       0         \n",
            " g2D)                                                            \n",
            "                                                                 \n",
            " conv2d_75 (Conv2D)          (None, 11, 11, 64)        18496     \n",
            "                                                                 \n",
            " max_pooling2d_56 (MaxPoolin  (None, 5, 5, 64)         0         \n",
            " g2D)                                                            \n",
            "                                                                 \n",
            " flatten_30 (Flatten)        (None, 1600)              0         \n",
            "                                                                 \n",
            " dense_60 (Dense)            (None, 64)                102464    \n",
            "                                                                 \n",
            " dense_61 (Dense)            (None, 25)                1625      \n",
            "                                                                 \n",
            "=================================================================\n",
            "Total params: 122,905\n",
            "Trainable params: 122,905\n",
            "Non-trainable params: 0\n",
            "_________________________________________________________________\n",
            "Epoch 1/10\n"
          ]
        },
        {
          "output_type": "stream",
          "name": "stderr",
          "text": [
            "/usr/local/lib/python3.7/dist-packages/tensorflow/python/util/dispatch.py:1082: UserWarning: \"`sparse_categorical_crossentropy` received `from_logits=True`, but the `output` argument was produced by a sigmoid or softmax activation and thus does not represent logits. Was this intended?\"\n",
            "  return dispatch_target(*args, **kwargs)\n"
          ]
        },
        {
          "output_type": "stream",
          "name": "stdout",
          "text": [
            "858/858 [==============================] - 4s 4ms/step - loss: 1.5799 - accuracy: 0.6322 - val_loss: 1.0051 - val_accuracy: 0.7851\n",
            "Epoch 2/10\n",
            "858/858 [==============================] - 3s 4ms/step - loss: 0.5462 - accuracy: 0.9411 - val_loss: 0.7052 - val_accuracy: 0.8724\n",
            "Epoch 3/10\n",
            "858/858 [==============================] - 4s 4ms/step - loss: 0.3737 - accuracy: 0.9783 - val_loss: 0.6386 - val_accuracy: 0.8615\n",
            "Epoch 4/10\n",
            "858/858 [==============================] - 3s 4ms/step - loss: 0.2968 - accuracy: 0.9865 - val_loss: 0.5050 - val_accuracy: 0.9031\n",
            "Epoch 5/10\n",
            "858/858 [==============================] - 4s 4ms/step - loss: 0.2623 - accuracy: 0.9873 - val_loss: 0.6144 - val_accuracy: 0.8763\n",
            "Epoch 6/10\n",
            "858/858 [==============================] - 3s 4ms/step - loss: 0.2371 - accuracy: 0.9879 - val_loss: 0.5253 - val_accuracy: 0.8801\n",
            "Epoch 7/10\n",
            "858/858 [==============================] - 4s 4ms/step - loss: 0.2177 - accuracy: 0.9894 - val_loss: 0.4643 - val_accuracy: 0.9071\n",
            "Epoch 8/10\n",
            "858/858 [==============================] - 4s 4ms/step - loss: 0.2012 - accuracy: 0.9899 - val_loss: 0.4364 - val_accuracy: 0.9016\n",
            "Epoch 9/10\n",
            "858/858 [==============================] - 3s 4ms/step - loss: 0.1778 - accuracy: 0.9930 - val_loss: 0.4941 - val_accuracy: 0.8914\n",
            "Epoch 10/10\n",
            "858/858 [==============================] - 4s 4ms/step - loss: 0.1724 - accuracy: 0.9926 - val_loss: 0.5430 - val_accuracy: 0.8555\n",
            "225/225 - 0s - loss: 0.5430 - accuracy: 0.8555 - 450ms/epoch - 2ms/step\n",
            "Test accuracy: 0.8555493354797363\n"
          ]
        },
        {
          "output_type": "display_data",
          "data": {
            "text/plain": [
              "<Figure size 432x288 with 1 Axes>"
            ],
            "image/png": "[encoded data removed]"
          },
          "metadata": {
            "needs_background": "light"
          }
        }
      ]
    },
    {
      "cell_type": "code",
      "source": [
        "# 3 convoluted and 2 maxpool layer\n",
        "model_5 = models.Sequential();\n",
        "model_5.add(layers.Conv2D(32, (3, 3), activation='relu', input_shape=(28, 28, 1)))\n",
        "model_5.add(layers.MaxPooling2D((2, 2)))\n",
        "model_5.add(layers.Conv2D(64, (3, 3), activation='relu'))\n",
        "model_5.add(layers.MaxPooling2D((2, 2)))\n",
        "model_5.add(layers.Conv2D(64, (3, 3), activation='relu'))\n",
        "\n",
        "\n",
        "run_model(model_5)"
      ],
      "metadata": {
        "colab": {
          "base_uri": "https://localhost:8080/",
          "height": 1000
        },
        "id": "xd-rl8hJ_g1u",
        "outputId": "64fef0a3-092c-4033-c2aa-e813f3f86a3f"
      },
      "execution_count": 83,
      "outputs": [
        {
          "output_type": "stream",
          "name": "stdout",
          "text": [
            "Model: \"sequential_35\"\n",
            "_________________________________________________________________\n",
            " Layer (type)                Output Shape              Param #   \n",
            "=================================================================\n",
            " conv2d_76 (Conv2D)          (None, 26, 26, 32)        320       \n",
            "                                                                 \n",
            " max_pooling2d_57 (MaxPoolin  (None, 13, 13, 32)       0         \n",
            " g2D)                                                            \n",
            "                                                                 \n",
            " conv2d_77 (Conv2D)          (None, 11, 11, 64)        18496     \n",
            "                                                                 \n",
            " max_pooling2d_58 (MaxPoolin  (None, 5, 5, 64)         0         \n",
            " g2D)                                                            \n",
            "                                                                 \n",
            " conv2d_78 (Conv2D)          (None, 3, 3, 64)          36928     \n",
            "                                                                 \n",
            " flatten_31 (Flatten)        (None, 576)               0         \n",
            "                                                                 \n",
            " dense_62 (Dense)            (None, 64)                36928     \n",
            "                                                                 \n",
            " dense_63 (Dense)            (None, 25)                1625      \n",
            "                                                                 \n",
            "=================================================================\n",
            "Total params: 94,297\n",
            "Trainable params: 94,297\n",
            "Non-trainable params: 0\n",
            "_________________________________________________________________\n",
            "Epoch 1/10\n"
          ]
        },
        {
          "output_type": "stream",
          "name": "stderr",
          "text": [
            "/usr/local/lib/python3.7/dist-packages/tensorflow/python/util/dispatch.py:1082: UserWarning: \"`sparse_categorical_crossentropy` received `from_logits=True`, but the `output` argument was produced by a sigmoid or softmax activation and thus does not represent logits. Was this intended?\"\n",
            "  return dispatch_target(*args, **kwargs)\n"
          ]
        },
        {
          "output_type": "stream",
          "name": "stdout",
          "text": [
            "858/858 [==============================] - 4s 5ms/step - loss: 1.5442 - accuracy: 0.6166 - val_loss: 0.8468 - val_accuracy: 0.8031\n",
            "Epoch 2/10\n",
            "858/858 [==============================] - 4s 4ms/step - loss: 0.4336 - accuracy: 0.9507 - val_loss: 0.6914 - val_accuracy: 0.8614\n",
            "Epoch 3/10\n",
            "858/858 [==============================] - 3s 4ms/step - loss: 0.2825 - accuracy: 0.9811 - val_loss: 0.6044 - val_accuracy: 0.8652\n",
            "Epoch 4/10\n",
            "858/858 [==============================] - 4s 4ms/step - loss: 0.2207 - accuracy: 0.9877 - val_loss: 0.4442 - val_accuracy: 0.9152\n",
            "Epoch 5/10\n",
            "858/858 [==============================] - 4s 4ms/step - loss: 0.1818 - accuracy: 0.9900 - val_loss: 0.4844 - val_accuracy: 0.8974\n",
            "Epoch 6/10\n",
            "858/858 [==============================] - 4s 4ms/step - loss: 0.1659 - accuracy: 0.9883 - val_loss: 0.3607 - val_accuracy: 0.9223\n",
            "Epoch 7/10\n",
            "858/858 [==============================] - 4s 4ms/step - loss: 0.1315 - accuracy: 0.9928 - val_loss: 0.4071 - val_accuracy: 0.9060\n",
            "Epoch 8/10\n",
            "858/858 [==============================] - 4s 4ms/step - loss: 0.1405 - accuracy: 0.9897 - val_loss: 0.3103 - val_accuracy: 0.9293\n",
            "Epoch 9/10\n",
            "858/858 [==============================] - 4s 4ms/step - loss: 0.1148 - accuracy: 0.9926 - val_loss: 0.2928 - val_accuracy: 0.9300\n",
            "Epoch 10/10\n",
            "858/858 [==============================] - 3s 4ms/step - loss: 0.1194 - accuracy: 0.9898 - val_loss: 0.4993 - val_accuracy: 0.8742\n",
            "225/225 - 0s - loss: 0.4993 - accuracy: 0.8742 - 450ms/epoch - 2ms/step\n",
            "Test accuracy: 0.8742331266403198\n"
          ]
        },
        {
          "output_type": "display_data",
          "data": {
            "text/plain": [
              "<Figure size 432x288 with 1 Axes>"
            ],
            "image/png": "[encoded data removed]"
          },
          "metadata": {
            "needs_background": "light"
          }
        }
      ]
    },
    {
      "cell_type": "code",
      "source": [
        "# 3 convoluted and 3 maxpool layer\n",
        "model_6 = models.Sequential();\n",
        "model_6.add(layers.Conv2D(32, (3, 3), activation='relu', input_shape=(28, 28, 1)))\n",
        "model_6.add(layers.MaxPooling2D((2, 2)))\n",
        "model_6.add(layers.Conv2D(64, (3, 3), activation='relu'))\n",
        "model_6.add(layers.MaxPooling2D((2, 2)))\n",
        "model_6.add(layers.Conv2D(64, (3, 3), activation='relu'))\n",
        "model_6.add(layers.MaxPooling2D((2, 2)))\n",
        "\n",
        "\n",
        "run_model(model_6)"
      ],
      "metadata": {
        "colab": {
          "base_uri": "https://localhost:8080/",
          "height": 1000
        },
        "id": "7PtvaioVAaqS",
        "outputId": "f84e03c5-d49d-47a1-8833-ba5b3314e488"
      },
      "execution_count": 84,
      "outputs": [
        {
          "output_type": "stream",
          "name": "stdout",
          "text": [
            "Model: \"sequential_36\"\n",
            "_________________________________________________________________\n",
            " Layer (type)                Output Shape              Param #   \n",
            "=================================================================\n",
            " conv2d_79 (Conv2D)          (None, 26, 26, 32)        320       \n",
            "                                                                 \n",
            " max_pooling2d_59 (MaxPoolin  (None, 13, 13, 32)       0         \n",
            " g2D)                                                            \n",
            "                                                                 \n",
            " conv2d_80 (Conv2D)          (None, 11, 11, 64)        18496     \n",
            "                                                                 \n",
            " max_pooling2d_60 (MaxPoolin  (None, 5, 5, 64)         0         \n",
            " g2D)                                                            \n",
            "                                                                 \n",
            " conv2d_81 (Conv2D)          (None, 3, 3, 64)          36928     \n",
            "                                                                 \n",
            " max_pooling2d_61 (MaxPoolin  (None, 1, 1, 64)         0         \n",
            " g2D)                                                            \n",
            "                                                                 \n",
            " flatten_32 (Flatten)        (None, 64)                0         \n",
            "                                                                 \n",
            " dense_64 (Dense)            (None, 64)                4160      \n",
            "                                                                 \n",
            " dense_65 (Dense)            (None, 25)                1625      \n",
            "                                                                 \n",
            "=================================================================\n",
            "Total params: 61,529\n",
            "Trainable params: 61,529\n",
            "Non-trainable params: 0\n",
            "_________________________________________________________________\n",
            "Epoch 1/10\n"
          ]
        },
        {
          "output_type": "stream",
          "name": "stderr",
          "text": [
            "/usr/local/lib/python3.7/dist-packages/tensorflow/python/util/dispatch.py:1082: UserWarning: \"`sparse_categorical_crossentropy` received `from_logits=True`, but the `output` argument was produced by a sigmoid or softmax activation and thus does not represent logits. Was this intended?\"\n",
            "  return dispatch_target(*args, **kwargs)\n"
          ]
        },
        {
          "output_type": "stream",
          "name": "stdout",
          "text": [
            "858/858 [==============================] - 5s 6ms/step - loss: 2.1643 - accuracy: 0.3787 - val_loss: 1.3956 - val_accuracy: 0.6185\n",
            "Epoch 2/10\n",
            "858/858 [==============================] - 3s 4ms/step - loss: 0.8443 - accuracy: 0.7836 - val_loss: 1.0514 - val_accuracy: 0.7144\n",
            "Epoch 3/10\n",
            "858/858 [==============================] - 4s 4ms/step - loss: 0.5395 - accuracy: 0.8966 - val_loss: 0.8481 - val_accuracy: 0.7878\n",
            "Epoch 4/10\n",
            "858/858 [==============================] - 4s 4ms/step - loss: 0.3685 - accuracy: 0.9524 - val_loss: 0.8318 - val_accuracy: 0.7945\n",
            "Epoch 5/10\n",
            "858/858 [==============================] - 3s 4ms/step - loss: 0.2810 - accuracy: 0.9770 - val_loss: 0.7339 - val_accuracy: 0.8508\n",
            "Epoch 6/10\n",
            "858/858 [==============================] - 4s 4ms/step - loss: 0.2253 - accuracy: 0.9881 - val_loss: 0.7757 - val_accuracy: 0.8328\n",
            "Epoch 7/10\n",
            "858/858 [==============================] - 3s 4ms/step - loss: 0.1883 - accuracy: 0.9912 - val_loss: 0.8143 - val_accuracy: 0.8236\n",
            "Epoch 8/10\n",
            "858/858 [==============================] - 4s 4ms/step - loss: 0.1657 - accuracy: 0.9922 - val_loss: 0.7048 - val_accuracy: 0.8447\n",
            "Epoch 9/10\n",
            "858/858 [==============================] - 4s 4ms/step - loss: 0.1372 - accuracy: 0.9956 - val_loss: 0.6445 - val_accuracy: 0.8466\n",
            "Epoch 10/10\n",
            "858/858 [==============================] - 4s 4ms/step - loss: 0.1336 - accuracy: 0.9922 - val_loss: 0.5772 - val_accuracy: 0.8784\n",
            "225/225 - 0s - loss: 0.5772 - accuracy: 0.8784 - 461ms/epoch - 2ms/step\n",
            "Test accuracy: 0.8784160614013672\n"
          ]
        },
        {
          "output_type": "display_data",
          "data": {
            "text/plain": [
              "<Figure size 432x288 with 1 Axes>"
            ],
            "image/png": "[encoded data removed]"
          },
          "metadata": {
            "needs_background": "light"
          }
        }
      ]
    },
    {
      "cell_type": "code",
      "source": [
        "# 2 convoluted and 1 maxpool layer, Kernel size: (11,11), (9,9)\n",
        "model_7 = models.Sequential();\n",
        "model_7.add(layers.Conv2D(32, (11, 11), activation='relu', input_shape=(28, 28, 1)))\n",
        "model_7.add(layers.MaxPooling2D((2, 2)))\n",
        "model_7.add(layers.Conv2D(64, (9, 9), activation='relu'))\n",
        "\n",
        "run_model(model_7)"
      ],
      "metadata": {
        "colab": {
          "base_uri": "https://localhost:8080/",
          "height": 1000
        },
        "id": "BogFGcnGCR67",
        "outputId": "1244c12d-bc11-47dd-d608-7f3142c627fd"
      },
      "execution_count": 85,
      "outputs": [
        {
          "output_type": "stream",
          "name": "stdout",
          "text": [
            "Model: \"sequential_37\"\n",
            "_________________________________________________________________\n",
            " Layer (type)                Output Shape              Param #   \n",
            "=================================================================\n",
            " conv2d_82 (Conv2D)          (None, 18, 18, 32)        3904      \n",
            "                                                                 \n",
            " max_pooling2d_62 (MaxPoolin  (None, 9, 9, 32)         0         \n",
            " g2D)                                                            \n",
            "                                                                 \n",
            " conv2d_83 (Conv2D)          (None, 1, 1, 64)          165952    \n",
            "                                                                 \n",
            " flatten_33 (Flatten)        (None, 64)                0         \n",
            "                                                                 \n",
            " dense_66 (Dense)            (None, 64)                4160      \n",
            "                                                                 \n",
            " dense_67 (Dense)            (None, 25)                1625      \n",
            "                                                                 \n",
            "=================================================================\n",
            "Total params: 175,641\n",
            "Trainable params: 175,641\n",
            "Non-trainable params: 0\n",
            "_________________________________________________________________\n",
            "Epoch 1/10\n"
          ]
        },
        {
          "output_type": "stream",
          "name": "stderr",
          "text": [
            "/usr/local/lib/python3.7/dist-packages/tensorflow/python/util/dispatch.py:1082: UserWarning: \"`sparse_categorical_crossentropy` received `from_logits=True`, but the `output` argument was produced by a sigmoid or softmax activation and thus does not represent logits. Was this intended?\"\n",
            "  return dispatch_target(*args, **kwargs)\n"
          ]
        },
        {
          "output_type": "stream",
          "name": "stdout",
          "text": [
            "858/858 [==============================] - 4s 4ms/step - loss: 2.1753 - accuracy: 0.3802 - val_loss: 1.5651 - val_accuracy: 0.5333\n",
            "Epoch 2/10\n",
            "858/858 [==============================] - 4s 4ms/step - loss: 1.1513 - accuracy: 0.6812 - val_loss: 1.2078 - val_accuracy: 0.6564\n",
            "Epoch 3/10\n",
            "858/858 [==============================] - 3s 4ms/step - loss: 0.8043 - accuracy: 0.8099 - val_loss: 0.9942 - val_accuracy: 0.7407\n",
            "Epoch 4/10\n",
            "858/858 [==============================] - 3s 4ms/step - loss: 0.6058 - accuracy: 0.8827 - val_loss: 0.8921 - val_accuracy: 0.7975\n",
            "Epoch 5/10\n",
            "858/858 [==============================] - 3s 4ms/step - loss: 0.4837 - accuracy: 0.9278 - val_loss: 0.9047 - val_accuracy: 0.7691\n",
            "Epoch 6/10\n",
            "858/858 [==============================] - 4s 4ms/step - loss: 0.4039 - accuracy: 0.9526 - val_loss: 0.8616 - val_accuracy: 0.7903\n",
            "Epoch 7/10\n",
            "858/858 [==============================] - 4s 4ms/step - loss: 0.3495 - accuracy: 0.9716 - val_loss: 0.8476 - val_accuracy: 0.8120\n",
            "Epoch 8/10\n",
            "858/858 [==============================] - 3s 4ms/step - loss: 0.3038 - accuracy: 0.9811 - val_loss: 0.7505 - val_accuracy: 0.8141\n",
            "Epoch 9/10\n",
            "858/858 [==============================] - 4s 4ms/step - loss: 0.2723 - accuracy: 0.9867 - val_loss: 0.7092 - val_accuracy: 0.8341\n",
            "Epoch 10/10\n",
            "858/858 [==============================] - 4s 4ms/step - loss: 0.2379 - accuracy: 0.9917 - val_loss: 0.7333 - val_accuracy: 0.8271\n",
            "225/225 - 0s - loss: 0.7333 - accuracy: 0.8271 - 471ms/epoch - 2ms/step\n",
            "Test accuracy: 0.8271054029464722\n"
          ]
        },
        {
          "output_type": "display_data",
          "data": {
            "text/plain": [
              "<Figure size 432x288 with 1 Axes>"
            ],
            "image/png": "[encoded data removed]"
          },
          "metadata": {
            "needs_background": "light"
          }
        }
      ]
    },
    {
      "cell_type": "code",
      "source": [
        "# 2 convoluted and 1 maxpool layer, Kernel sizes: (7,7), (9,9)\n",
        "model_8 = models.Sequential();\n",
        "model_8.add(layers.Conv2D(32, (7, 7), activation='relu', input_shape=(28, 28, 1)))\n",
        "model_8.add(layers.MaxPooling2D((2, 2)))\n",
        "model_8.add(layers.Conv2D(64, (9, 9), activation='relu'))\n",
        "\n",
        "run_model(model_8)"
      ],
      "metadata": {
        "colab": {
          "base_uri": "https://localhost:8080/",
          "height": 1000
        },
        "id": "fZXrHINGC0Ke",
        "outputId": "b6e120d5-c0c8-4a8d-a454-be4dd6ba2eff"
      },
      "execution_count": 86,
      "outputs": [
        {
          "output_type": "stream",
          "name": "stdout",
          "text": [
            "Model: \"sequential_38\"\n",
            "_________________________________________________________________\n",
            " Layer (type)                Output Shape              Param #   \n",
            "=================================================================\n",
            " conv2d_84 (Conv2D)          (None, 22, 22, 32)        1600      \n",
            "                                                                 \n",
            " max_pooling2d_63 (MaxPoolin  (None, 11, 11, 32)       0         \n",
            " g2D)                                                            \n",
            "                                                                 \n",
            " conv2d_85 (Conv2D)          (None, 3, 3, 64)          165952    \n",
            "                                                                 \n",
            " flatten_34 (Flatten)        (None, 576)               0         \n",
            "                                                                 \n",
            " dense_68 (Dense)            (None, 64)                36928     \n",
            "                                                                 \n",
            " dense_69 (Dense)            (None, 25)                1625      \n",
            "                                                                 \n",
            "=================================================================\n",
            "Total params: 206,105\n",
            "Trainable params: 206,105\n",
            "Non-trainable params: 0\n",
            "_________________________________________________________________\n",
            "Epoch 1/10\n"
          ]
        },
        {
          "output_type": "stream",
          "name": "stderr",
          "text": [
            "/usr/local/lib/python3.7/dist-packages/tensorflow/python/util/dispatch.py:1082: UserWarning: \"`sparse_categorical_crossentropy` received `from_logits=True`, but the `output` argument was produced by a sigmoid or softmax activation and thus does not represent logits. Was this intended?\"\n",
            "  return dispatch_target(*args, **kwargs)\n"
          ]
        },
        {
          "output_type": "stream",
          "name": "stdout",
          "text": [
            "858/858 [==============================] - 5s 5ms/step - loss: 1.5543 - accuracy: 0.6309 - val_loss: 1.0242 - val_accuracy: 0.7637\n",
            "Epoch 2/10\n",
            "858/858 [==============================] - 3s 4ms/step - loss: 0.5317 - accuracy: 0.9370 - val_loss: 0.7678 - val_accuracy: 0.8390\n",
            "Epoch 3/10\n",
            "858/858 [==============================] - 4s 4ms/step - loss: 0.3421 - accuracy: 0.9836 - val_loss: 0.6175 - val_accuracy: 0.8799\n",
            "Epoch 4/10\n",
            "858/858 [==============================] - 4s 4ms/step - loss: 0.2636 - accuracy: 0.9903 - val_loss: 0.5621 - val_accuracy: 0.8799\n",
            "Epoch 5/10\n",
            "858/858 [==============================] - 4s 4ms/step - loss: 0.2159 - accuracy: 0.9927 - val_loss: 0.6157 - val_accuracy: 0.8490\n",
            "Epoch 6/10\n",
            "858/858 [==============================] - 4s 4ms/step - loss: 0.1929 - accuracy: 0.9923 - val_loss: 0.4719 - val_accuracy: 0.8997\n",
            "Epoch 7/10\n",
            "858/858 [==============================] - 4s 4ms/step - loss: 0.1644 - accuracy: 0.9934 - val_loss: 0.5110 - val_accuracy: 0.8734\n",
            "Epoch 8/10\n",
            "858/858 [==============================] - 4s 4ms/step - loss: 0.1426 - accuracy: 0.9953 - val_loss: 0.4704 - val_accuracy: 0.8904\n",
            "Epoch 9/10\n",
            "858/858 [==============================] - 4s 4ms/step - loss: 0.1317 - accuracy: 0.9953 - val_loss: 0.5957 - val_accuracy: 0.8402\n",
            "Epoch 10/10\n",
            "858/858 [==============================] - 4s 4ms/step - loss: 0.1404 - accuracy: 0.9911 - val_loss: 0.3887 - val_accuracy: 0.9175\n",
            "225/225 - 0s - loss: 0.3887 - accuracy: 0.9175 - 483ms/epoch - 2ms/step\n",
            "Test accuracy: 0.9174568057060242\n"
          ]
        },
        {
          "output_type": "display_data",
          "data": {
            "text/plain": [
              "<Figure size 432x288 with 1 Axes>"
            ],
            "image/png": "[encoded data removed]"
          },
          "metadata": {
            "needs_background": "light"
          }
        }
      ]
    },
    {
      "cell_type": "code",
      "source": [
        "# 2 convoluted and 1 maxpool layer, Kernel sizes: (7,7), (9,9)\n",
        "model_9 = models.Sequential();\n",
        "model_9.add(layers.Conv2D(32, (7, 7), activation='relu', input_shape=(28, 28, 1)))\n",
        "model_9.add(layers.MaxPooling2D((2, 2)))\n",
        "model_9.add(layers.Conv2D(64, (9, 9), activation='relu'))\n",
        "model_9.add(layers.MaxPooling2D((2, 2)))\n",
        "\n",
        "\n",
        "run_model(model_9)"
      ],
      "metadata": {
        "colab": {
          "base_uri": "https://localhost:8080/",
          "height": 1000
        },
        "id": "9EuZGPWZG_BV",
        "outputId": "b602bbc1-5674-41ca-a4bb-a3efaf8b38b7"
      },
      "execution_count": 87,
      "outputs": [
        {
          "output_type": "stream",
          "name": "stdout",
          "text": [
            "Model: \"sequential_39\"\n",
            "_________________________________________________________________\n",
            " Layer (type)                Output Shape              Param #   \n",
            "=================================================================\n",
            " conv2d_86 (Conv2D)          (None, 22, 22, 32)        1600      \n",
            "                                                                 \n",
            " max_pooling2d_64 (MaxPoolin  (None, 11, 11, 32)       0         \n",
            " g2D)                                                            \n",
            "                                                                 \n",
            " conv2d_87 (Conv2D)          (None, 3, 3, 64)          165952    \n",
            "                                                                 \n",
            " max_pooling2d_65 (MaxPoolin  (None, 1, 1, 64)         0         \n",
            " g2D)                                                            \n",
            "                                                                 \n",
            " flatten_35 (Flatten)        (None, 64)                0         \n",
            "                                                                 \n",
            " dense_70 (Dense)            (None, 64)                4160      \n",
            "                                                                 \n",
            " dense_71 (Dense)            (None, 25)                1625      \n",
            "                                                                 \n",
            "=================================================================\n",
            "Total params: 173,337\n",
            "Trainable params: 173,337\n",
            "Non-trainable params: 0\n",
            "_________________________________________________________________\n",
            "Epoch 1/10\n"
          ]
        },
        {
          "output_type": "stream",
          "name": "stderr",
          "text": [
            "/usr/local/lib/python3.7/dist-packages/tensorflow/python/util/dispatch.py:1082: UserWarning: \"`sparse_categorical_crossentropy` received `from_logits=True`, but the `output` argument was produced by a sigmoid or softmax activation and thus does not represent logits. Was this intended?\"\n",
            "  return dispatch_target(*args, **kwargs)\n"
          ]
        },
        {
          "output_type": "stream",
          "name": "stdout",
          "text": [
            "858/858 [==============================] - 5s 5ms/step - loss: 1.8255 - accuracy: 0.5072 - val_loss: 1.2034 - val_accuracy: 0.7059\n",
            "Epoch 2/10\n",
            "858/858 [==============================] - 3s 4ms/step - loss: 0.6964 - accuracy: 0.8687 - val_loss: 0.9131 - val_accuracy: 0.7609\n",
            "Epoch 3/10\n",
            "858/858 [==============================] - 3s 4ms/step - loss: 0.4362 - accuracy: 0.9571 - val_loss: 0.7842 - val_accuracy: 0.8122\n",
            "Epoch 4/10\n",
            "858/858 [==============================] - 3s 4ms/step - loss: 0.3217 - accuracy: 0.9879 - val_loss: 0.7224 - val_accuracy: 0.8133\n",
            "Epoch 5/10\n",
            "858/858 [==============================] - 3s 4ms/step - loss: 0.2617 - accuracy: 0.9948 - val_loss: 0.6445 - val_accuracy: 0.8373\n",
            "Epoch 6/10\n",
            "858/858 [==============================] - 3s 4ms/step - loss: 0.2180 - accuracy: 0.9976 - val_loss: 0.6078 - val_accuracy: 0.8557\n",
            "Epoch 7/10\n",
            "858/858 [==============================] - 3s 4ms/step - loss: 0.1877 - accuracy: 0.9978 - val_loss: 0.5846 - val_accuracy: 0.8529\n",
            "Epoch 8/10\n",
            "858/858 [==============================] - 4s 4ms/step - loss: 0.1623 - accuracy: 0.9986 - val_loss: 0.5816 - val_accuracy: 0.8567\n",
            "Epoch 9/10\n",
            "858/858 [==============================] - 3s 4ms/step - loss: 0.1461 - accuracy: 0.9975 - val_loss: 0.5527 - val_accuracy: 0.8515\n",
            "Epoch 10/10\n",
            "858/858 [==============================] - 4s 5ms/step - loss: 0.1257 - accuracy: 0.9991 - val_loss: 0.5231 - val_accuracy: 0.8549\n",
            "225/225 - 0s - loss: 0.5231 - accuracy: 0.8549 - 450ms/epoch - 2ms/step\n",
            "Test accuracy: 0.8548521995544434\n"
          ]
        },
        {
          "output_type": "display_data",
          "data": {
            "text/plain": [
              "<Figure size 432x288 with 1 Axes>"
            ],
            "image/png": "[encoded data removed]"
          },
          "metadata": {
            "needs_background": "light"
          }
        }
      ]
    },
    {
      "cell_type": "code",
      "source": [
        ""
      ],
      "metadata": {
        "id": "mCKt5V_THlsj"
      },
      "execution_count": null,
      "outputs": []
    }
  ],
  "metadata": {
    "interpreter": {
      "hash": "0adcc2737ebf6a4a119f135174df96668767fca1ef1112612db5ecadf2b6d608"
    },
    "kernelspec": {
      "display_name": "Python 3.8.3rc1 64-bit",
      "language": "python",
      "name": "python3"
    },
    "language_info": {
      "codemirror_mode": {
        "name": "ipython",
        "version": 3
      },
      "file_extension": ".py",
      "mimetype": "text/x-python",
      "name": "python",
      "nbconvert_exporter": "python",
      "pygments_lexer": "ipython3",
      "version": "3.8.3rc1"
    },
    "orig_nbformat": 4,
    "colab": {
      "name": "Copy of CNN_regularization.ipynb",
      "provenance": []
    },
    "accelerator": "GPU"
  },
  "nbformat": 4,
  "nbformat_minor": 0
}